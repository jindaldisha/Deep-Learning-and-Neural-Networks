{
  "nbformat": 4,
  "nbformat_minor": 0,
  "metadata": {
    "colab": {
      "name": "00_03_gradient_descent_and_linear_regression_with_pytorch_from_scratch.ipynb",
      "provenance": [],
      "collapsed_sections": [],
      "authorship_tag": "ABX9TyOWrFZzyu4WdiNs4Tix0mZ2",
      "include_colab_link": true
    },
    "kernelspec": {
      "name": "python3",
      "display_name": "Python 3"
    },
    "language_info": {
      "name": "python"
    }
  },
  "cells": [
    {
      "cell_type": "markdown",
      "metadata": {
        "id": "view-in-github",
        "colab_type": "text"
      },
      "source": [
        "<a href=\"https://colab.research.google.com/github/jindaldisha/Deep-Learning-and-Neural-Networks/blob/main/Neural-Networks-with-Tensorflow/00_03_gradient_descent_and_linear_regression_with_pytorch_from_scratch.ipynb\" target=\"_parent\"><img src=\"https://colab.research.google.com/assets/colab-badge.svg\" alt=\"Open In Colab\"/></a>"
      ]
    },
    {
      "cell_type": "markdown",
      "metadata": {
        "id": "JUBA3sipUh1R"
      },
      "source": [
        "#Gradient Descent and Linear Regression with PyTorch from scratch"
      ]
    },
    {
      "cell_type": "markdown",
      "metadata": {
        "id": "jgaXn8O9SVX0"
      },
      "source": [
        "##Introduction to Linear Regression\n",
        "Linear Regression is one of the foundational algorithms in Machine Learning.\n",
        "\n",
        "We'll create a model that predicts crop yields for apples and oranges (target variables) by looking at the average temperature, rainfall, and humidity (input variables or features) in a region.\n",
        "\n",
        "Data:\n",
        "\n",
        "| Region | Temp (F) | Rainfall (mm) | Humidity (%) | Apples (ton) | Oranges (ton) |\n",
        "| -- | -- | -- | -- | -- | -- |\n",
        "| Kanto | 73 | 67 | 43 | 56 | 70 |\n",
        "| Johto | 91 | 88 | 64 | 81 | 101 | \n",
        "| Hoenn | 87 | 134 | 58 | 119 | 133 | \n",
        "| Sinnoh | 102 | 43 | 37 | 22 | 37 | \n",
        "| Unova | 69 | 96 | 70 | 103 | 119 |  \n",
        "\n",
        "In a linear regression model, each target variable is estimated to be a weighted (w) sum of the input variables, offset by some constant (b), known as a bias :\n",
        "\n",
        "`yield_apple = w11 * temp + w12 * rainfall + w13 * humidity + b1`\n",
        "\n",
        "`yield_oranges = w21 * temp + w22 * rainfall + w23 * humidity + b2`\n",
        "\n",
        "The learning part of linear regression is to figure out the weights (w11, w12..) and the biases (b1, b2..) using the training data and make accurate predictions for the test data that we pass to it. The learned weights will be used to predict the yields for apples and oranges in new regions using the average temperature, rainfall and humidity for that region.\n",
        "\n",
        "We train our model by adjusting the weights and biases slighty many time and keep improving our accuracy. To improve our model, we use an optimization technique called **Gradient Descent**.\n"
      ]
    },
    {
      "cell_type": "code",
      "metadata": {
        "id": "VQZn5pTRWOfK"
      },
      "source": [
        "#Import Libraries\n",
        "import numpy as np\n",
        "import torch"
      ],
      "execution_count": 57,
      "outputs": []
    },
    {
      "cell_type": "markdown",
      "metadata": {
        "id": "bHw_tTkFbsOG"
      },
      "source": [
        "##Training data\n",
        "\n",
        "We'll represent the training data using matrics x_train and y_train.\n",
        "\n",
        "x_train will have the values of temperature, rainfall and humidity for every region as a single row each.\n",
        "y_train will have the crop yields of apples and oranges for every region as a single row each."
      ]
    },
    {
      "cell_type": "code",
      "metadata": {
        "colab": {
          "base_uri": "https://localhost:8080/"
        },
        "id": "zMfbPguIcEPe",
        "outputId": "6f7dd3a1-ff5e-4b22-a986-b31c42419476"
      },
      "source": [
        "#Input Features (Temp, Rainfall, Humidity)\n",
        "x_train = np.array([[73, 67, 43], #Kanto\n",
        "                    [91, 88, 64], #Johto\n",
        "                    [87, 134, 58], #Hoenn\n",
        "                    [102, 43, 37], #Sinnoh\n",
        "                    [69, 96, 70]], #Unova\n",
        "                    dtype= 'float32')\n",
        "x_train"
      ],
      "execution_count": 58,
      "outputs": [
        {
          "output_type": "execute_result",
          "data": {
            "text/plain": [
              "array([[ 73.,  67.,  43.],\n",
              "       [ 91.,  88.,  64.],\n",
              "       [ 87., 134.,  58.],\n",
              "       [102.,  43.,  37.],\n",
              "       [ 69.,  96.,  70.]], dtype=float32)"
            ]
          },
          "metadata": {
            "tags": []
          },
          "execution_count": 58
        }
      ]
    },
    {
      "cell_type": "code",
      "metadata": {
        "colab": {
          "base_uri": "https://localhost:8080/"
        },
        "id": "3emE20cEcjrl",
        "outputId": "66ce4b03-e861-455d-cc4b-d5aca3b2f909"
      },
      "source": [
        "# Input Labels (Apples, Oranges)\n",
        "y_train = np.array([[56, 70], \n",
        "                    [81, 101], \n",
        "                    [119, 133], \n",
        "                    [22, 37], \n",
        "                    [103, 119]], dtype='float32')\n",
        "y_train"
      ],
      "execution_count": 59,
      "outputs": [
        {
          "output_type": "execute_result",
          "data": {
            "text/plain": [
              "array([[ 56.,  70.],\n",
              "       [ 81., 101.],\n",
              "       [119., 133.],\n",
              "       [ 22.,  37.],\n",
              "       [103., 119.]], dtype=float32)"
            ]
          },
          "metadata": {
            "tags": []
          },
          "execution_count": 59
        }
      ]
    },
    {
      "cell_type": "code",
      "metadata": {
        "id": "ElQKBU1Qc5ZX"
      },
      "source": [
        "#Convert input numpy array to pytorch tensors\n",
        "x_train = torch.from_numpy(x_train)\n",
        "y_train = torch.from_numpy(y_train)"
      ],
      "execution_count": 60,
      "outputs": []
    },
    {
      "cell_type": "code",
      "metadata": {
        "colab": {
          "base_uri": "https://localhost:8080/"
        },
        "id": "PjU_q7CqdeKV",
        "outputId": "5f32b4b0-4c99-495b-ed94-407eae9793c4"
      },
      "source": [
        "x_train, type(x_train), x_train.shape"
      ],
      "execution_count": 61,
      "outputs": [
        {
          "output_type": "execute_result",
          "data": {
            "text/plain": [
              "(tensor([[ 73.,  67.,  43.],\n",
              "         [ 91.,  88.,  64.],\n",
              "         [ 87., 134.,  58.],\n",
              "         [102.,  43.,  37.],\n",
              "         [ 69.,  96.,  70.]]), torch.Tensor, torch.Size([5, 3]))"
            ]
          },
          "metadata": {
            "tags": []
          },
          "execution_count": 61
        }
      ]
    },
    {
      "cell_type": "code",
      "metadata": {
        "colab": {
          "base_uri": "https://localhost:8080/"
        },
        "id": "m3nbmqqMdeHe",
        "outputId": "400a13cc-75b1-4360-9b34-324983bef9d7"
      },
      "source": [
        "y_train, type(y_train), y_train.shape"
      ],
      "execution_count": 62,
      "outputs": [
        {
          "output_type": "execute_result",
          "data": {
            "text/plain": [
              "(tensor([[ 56.,  70.],\n",
              "         [ 81., 101.],\n",
              "         [119., 133.],\n",
              "         [ 22.,  37.],\n",
              "         [103., 119.]]), torch.Tensor, torch.Size([5, 2]))"
            ]
          },
          "metadata": {
            "tags": []
          },
          "execution_count": 62
        }
      ]
    },
    {
      "cell_type": "markdown",
      "metadata": {
        "id": "ATHKr-ZNdZIe"
      },
      "source": [
        "## Linear regression model from scratch\n",
        "\n",
        "The weights and biases (`w11, w12,... w23, b1 & b2`) can also be represented as matrices, initialized as random values. The first row of `w` and the first element of `b` are used to predict the first target variable, i.e., yield of apples, and similarly, the second for oranges."
      ]
    },
    {
      "cell_type": "code",
      "metadata": {
        "colab": {
          "base_uri": "https://localhost:8080/"
        },
        "id": "NVg--i4FdXNd",
        "outputId": "17f6dbce-74f4-48bd-f5e7-c7ad49b70df3"
      },
      "source": [
        "w = torch.randn(2,3, requires_grad = True)\n",
        "b = torch.randn(2, requires_grad = True)\n",
        "w, b"
      ],
      "execution_count": 63,
      "outputs": [
        {
          "output_type": "execute_result",
          "data": {
            "text/plain": [
              "(tensor([[ 0.3892,  0.7033,  0.5034],\n",
              "         [-0.6309, -1.4198, -0.3539]], requires_grad=True),\n",
              " tensor([-1.0438, -0.5648], requires_grad=True))"
            ]
          },
          "metadata": {
            "tags": []
          },
          "execution_count": 63
        }
      ]
    },
    {
      "cell_type": "markdown",
      "metadata": {
        "id": "0j3lMK8ngbK7"
      },
      "source": [
        "Our Model is going to perform matrix multiplication of input features `x_train` and weights `w` (transposed) and add biases `b`.\n",
        "\n",
        "torch.randn creates a tensor with the given shape, with elements picked randomly from a normal distribution with mean 0 and standard deviation 1."
      ]
    },
    {
      "cell_type": "code",
      "metadata": {
        "id": "_X8Qz-yZga7s"
      },
      "source": [
        "#Function for model\n",
        "def model(x):\n",
        "  return x @ w.t() + b"
      ],
      "execution_count": 64,
      "outputs": []
    },
    {
      "cell_type": "code",
      "metadata": {
        "id": "WK0iJVgVgRF8"
      },
      "source": [
        "#Calling the model on our input featurs\n",
        "y_pred = model(x_train)"
      ],
      "execution_count": 65,
      "outputs": []
    },
    {
      "cell_type": "code",
      "metadata": {
        "colab": {
          "base_uri": "https://localhost:8080/"
        },
        "id": "POr5oJ2qhCXU",
        "outputId": "b653b67b-2171-4e42-d3c6-3b2ea5f5abe4"
      },
      "source": [
        "#Comparing y_pred with y_train\n",
        "y_pred, y_train"
      ],
      "execution_count": 66,
      "outputs": [
        {
          "output_type": "execute_result",
          "data": {
            "text/plain": [
              "(tensor([[  96.1316, -156.9660],\n",
              "         [ 128.4767, -205.5705],\n",
              "         [ 156.2524, -266.2344],\n",
              "         [  87.5176, -139.0632],\n",
              "         [ 128.5618, -205.1727]], grad_fn=<AddBackward0>),\n",
              " tensor([[ 56.,  70.],\n",
              "         [ 81., 101.],\n",
              "         [119., 133.],\n",
              "         [ 22.,  37.],\n",
              "         [103., 119.]]))"
            ]
          },
          "metadata": {
            "tags": []
          },
          "execution_count": 66
        }
      ]
    },
    {
      "cell_type": "markdown",
      "metadata": {
        "id": "O6MTTAVwhNTW"
      },
      "source": [
        "There is a big difference between our model's predicted labels and the true labels. This is because we've initializes our model with random weights and biases."
      ]
    },
    {
      "cell_type": "markdown",
      "metadata": {
        "id": "oa44aQRQheoW"
      },
      "source": [
        "##Loss Function\n",
        "\n",
        "Before we make changes in our model to improve our predictions, we need a way to evaluate our model. We can compare the predicted labels with true labels using the following steps\"\n",
        "- Calculate the difference between `y_pred` and `y_train`\n",
        "- Take a square of all the differences\n",
        "- Calculate the average of the elements.\n",
        "\n",
        "The result is a single numbers and this is know as the `mean square error (MSE)`. It is mean of the square of the difference in the predicted value and the true value.\n",
        "\n",
        "On average, each element in the prediction differs from the actual target by the square root of the loss. The result is called the loss because it indicates how bad the model is at predicting the target variables. It represents information loss in the model: the lower the loss, the better the model."
      ]
    },
    {
      "cell_type": "code",
      "metadata": {
        "id": "YW5UE7QQhLom"
      },
      "source": [
        "#Loss Function (MSE)\n",
        "def mse(y_true, y_pred):\n",
        "  error = y_true - y_pred\n",
        "  square = error * error\n",
        "  number_of_elements = error.numel()\n",
        "  mean = torch.sum(square) / number_of_elements\n",
        "  return mean"
      ],
      "execution_count": 67,
      "outputs": []
    },
    {
      "cell_type": "code",
      "metadata": {
        "colab": {
          "base_uri": "https://localhost:8080/"
        },
        "id": "ODu6S-Cwi5Tz",
        "outputId": "47b65ce0-8567-443c-d5be-5ca602c96736"
      },
      "source": [
        "#Compute Loss\n",
        "loss = mse(y_train, y_pred)\n",
        "print(loss)"
      ],
      "execution_count": 68,
      "outputs": [
        {
          "output_type": "stream",
          "text": [
            "tensor(45117.1680, grad_fn=<DivBackward0>)\n"
          ],
          "name": "stdout"
        }
      ]
    },
    {
      "cell_type": "markdown",
      "metadata": {
        "id": "O25igopQj83C"
      },
      "source": [
        "## Compute gradients\n",
        "\n",
        "With PyTorch, we can automatically compute the gradient or derivative of the loss w.r.t. to the weights and biases because they have `requires_grad` set to `True`.\n",
        "\n",
        "The gradients are stored in the `.grad` property of the respective tensors. Note that the derivative of the loss w.r.t. the weights matrix is itself a matrix with the same dimensions."
      ]
    },
    {
      "cell_type": "code",
      "metadata": {
        "id": "RGVDgWh_j8nO"
      },
      "source": [
        "#Compute Gradients\n",
        "loss.backward()"
      ],
      "execution_count": 69,
      "outputs": []
    },
    {
      "cell_type": "code",
      "metadata": {
        "colab": {
          "base_uri": "https://localhost:8080/"
        },
        "id": "ChGQKmp7j8kJ",
        "outputId": "e6064f6d-4c41-4c9c-9549-1677ab061e31"
      },
      "source": [
        "#Gradients for weights\n",
        "print(w)\n",
        "print(w.grad) "
      ],
      "execution_count": 70,
      "outputs": [
        {
          "output_type": "stream",
          "text": [
            "tensor([[ 0.3892,  0.7033,  0.5034],\n",
            "        [-0.6309, -1.4198, -0.3539]], requires_grad=True)\n",
            "tensor([[  3787.5012,   3425.9556,   2227.6567],\n",
            "        [-23905.2402, -26874.7285, -16348.4160]])\n"
          ],
          "name": "stdout"
        }
      ]
    },
    {
      "cell_type": "markdown",
      "metadata": {
        "id": "weqOLHTunGis"
      },
      "source": [
        "Since we've calculated gradients for the loss.\n",
        "`w.grad` is the derivative of the `loss` w.r.t to `w`."
      ]
    },
    {
      "cell_type": "code",
      "metadata": {
        "colab": {
          "base_uri": "https://localhost:8080/"
        },
        "id": "ZybyboxY77RW",
        "outputId": "b611bd23-d15f-4a70-de9f-dc7e799a62eb"
      },
      "source": [
        "print(b)\n",
        "print(b.grad)"
      ],
      "execution_count": 71,
      "outputs": [
        {
          "output_type": "stream",
          "text": [
            "tensor([-1.0438, -0.5648], requires_grad=True)\n",
            "tensor([  43.1880, -286.6014])\n"
          ],
          "name": "stdout"
        }
      ]
    },
    {
      "cell_type": "markdown",
      "metadata": {
        "id": "efZRn2VWnWOJ"
      },
      "source": [
        "## Adjust Weights and Biases to reduce the Loss\n",
        "\n",
        "The loss is function of our weights and biases and we want to find the set of weights where the loss is the lowest. \n",
        "\n",
        "The gradients indicate the rate of change of the loss, i.e. the loss function's slope w.r.t the weights and biases.\n",
        "\n",
        "If the gradient element is positive:\n",
        " - Increasing the weight element's value slightly will increase the loss.\n",
        " - Decreasing the weight element's value will decrease the loss.\n",
        "\n",
        "If the gradient element is negative:\n",
        " - Increasing the weight element's value slightly will decrease the loss.\n",
        " - Decreasing the weight element's value will increase the loss.\n",
        "\n",
        "\n",
        "The increase or decrease in the loss by changing a weight element is proportional to the gradient of the loss w.r.t. that element. This observation forms the basis of the gradient descent optimization algorithm that we'll use to improve our model (by descending along the gradient).\n",
        "\n",
        "We can subtract from each weight element a small quantity proportional to the derivative of the loss w.r.t. that element to reduce the loss slightly.\n",
        "\n",
        "\n",
        "In simple words, if the gradient is negative, the slope is negative so we need to increase the weight. If the gradient is positive, the slope is positive so we need to decrease the weight.\n",
        "\n",
        "It is called gradient descent, because we're descending along the gradient."
      ]
    },
    {
      "cell_type": "code",
      "metadata": {
        "id": "u-1Wt_pGnF7Y"
      },
      "source": [
        "with torch.no_grad():\n",
        "  w -= w.grad * 1e-5\n",
        "  b -= b.grad * 1e-5"
      ],
      "execution_count": 72,
      "outputs": []
    },
    {
      "cell_type": "markdown",
      "metadata": {
        "id": "Twhg6Rd43-Mg"
      },
      "source": [
        "We multiply the gradients with a very small number to ensure that we don't modify the weights by a very large amount. This ensure that we only take small steps in the downhill direction and not giant leaps. This prevents from diverging away from the optimal solution. This number is known as the learning rate. \n",
        "We use torch.no_grad to we shouldn't track, calculate or modify the gradients while updating the weights and biases."
      ]
    },
    {
      "cell_type": "code",
      "metadata": {
        "colab": {
          "base_uri": "https://localhost:8080/"
        },
        "id": "oOQL1CTCi_4l",
        "outputId": "b12236e0-0748-43fb-cd28-8f8e1ffd7211"
      },
      "source": [
        "#Evaluate the model again\n",
        "y_pred = model(x_train)\n",
        "loss = mse(y_train, y_pred)\n",
        "print(loss)"
      ],
      "execution_count": 73,
      "outputs": [
        {
          "output_type": "stream",
          "text": [
            "tensor(30621., grad_fn=<DivBackward0>)\n"
          ],
          "name": "stdout"
        }
      ]
    },
    {
      "cell_type": "markdown",
      "metadata": {
        "id": "1I0tY--p7oAa"
      },
      "source": [
        "Before we proceed, we reset the gradients to zero by invoking the `.zero_()` method. We need to do this because PyTorch accumulates gradients. Otherwise, the next time we invoke `.backward` on the loss, the new gradient values are added to the existing gradients, which may lead to unexpected results."
      ]
    },
    {
      "cell_type": "code",
      "metadata": {
        "colab": {
          "base_uri": "https://localhost:8080/"
        },
        "id": "-ZRsh0HN7Jfk",
        "outputId": "16af9c4f-f907-4390-9098-ccecd4b5e548"
      },
      "source": [
        "w.grad.zero_()\n",
        "b.grad.zero_()\n",
        "print(w.grad)\n",
        "print(b.grad)"
      ],
      "execution_count": 74,
      "outputs": [
        {
          "output_type": "stream",
          "text": [
            "tensor([[0., 0., 0.],\n",
            "        [0., 0., 0.]])\n",
            "tensor([0., 0.])\n"
          ],
          "name": "stdout"
        }
      ]
    },
    {
      "cell_type": "markdown",
      "metadata": {
        "id": "GUAI7Bc87q6q"
      },
      "source": [
        "## Train the model using gradient descent\n",
        "\n",
        "We reduce the loss and improve our model using the gradient descent optimization algorithm. Thus, we can train the model using the following steps:\n",
        "\n",
        "1. Generate predictions\n",
        "\n",
        "2. Calculate the loss\n",
        "\n",
        "3. Compute gradients w.r.t the weights and biases\n",
        "\n",
        "4. Adjust the weights by subtracting a small quantity proportional to the gradient\n",
        "\n",
        "5. Reset the gradients to zero\n"
      ]
    },
    {
      "cell_type": "code",
      "metadata": {
        "colab": {
          "base_uri": "https://localhost:8080/"
        },
        "id": "pdFt67ct8Zmm",
        "outputId": "335e36d1-2337-4b6c-adcd-bc9c1cc7be43"
      },
      "source": [
        "# Step 1: Generate Predictions\n",
        "y_pred = model(x_train)\n",
        "y_pred"
      ],
      "execution_count": 75,
      "outputs": [
        {
          "output_type": "execute_result",
          "data": {
            "text/plain": [
              "tensor([[  90.1130, -114.4765],\n",
              "        [ 120.5891, -149.7011],\n",
              "        [ 147.0740, -199.9397],\n",
              "        [  81.3565,  -97.0720],\n",
              "        [ 121.0997, -151.4316]], grad_fn=<AddBackward0>)"
            ]
          },
          "metadata": {
            "tags": []
          },
          "execution_count": 75
        }
      ]
    },
    {
      "cell_type": "code",
      "metadata": {
        "colab": {
          "base_uri": "https://localhost:8080/"
        },
        "id": "JWiSXcHW9muy",
        "outputId": "8c9d0e93-3ee2-459e-fdb3-bab865531ed1"
      },
      "source": [
        "# Step 2: Calculate Loss\n",
        "loss = mse(y_pred, y_train)\n",
        "loss"
      ],
      "execution_count": 76,
      "outputs": [
        {
          "output_type": "execute_result",
          "data": {
            "text/plain": [
              "tensor(30621., grad_fn=<DivBackward0>)"
            ]
          },
          "metadata": {
            "tags": []
          },
          "execution_count": 76
        }
      ]
    },
    {
      "cell_type": "code",
      "metadata": {
        "id": "mWUgQ8Yj9vyc"
      },
      "source": [
        "#Step 3:Compute Gradients\n",
        "loss.backward()"
      ],
      "execution_count": 77,
      "outputs": []
    },
    {
      "cell_type": "code",
      "metadata": {
        "colab": {
          "base_uri": "https://localhost:8080/"
        },
        "id": "yImgOwPS94en",
        "outputId": "f6a28231-7a68-4052-ee33-3da448adb597"
      },
      "source": [
        "print(w.grad)\n",
        "print(b.grad)"
      ],
      "execution_count": 78,
      "outputs": [
        {
          "output_type": "stream",
          "text": [
            "tensor([[  3167.7095,   2764.2473,   1818.4055],\n",
            "        [-19516.2930, -22152.4160, -13435.7480]])\n",
            "tensor([  35.8465, -234.5242])\n"
          ],
          "name": "stdout"
        }
      ]
    },
    {
      "cell_type": "code",
      "metadata": {
        "id": "B-Ja90Oc97wa"
      },
      "source": [
        "#Step 4, 5: Adjust Weights and Reset Gradients\n",
        "with torch.no_grad():\n",
        "  w -= w.grad * 1e-5\n",
        "  b -= b.grad * 1e-5\n",
        "  w.grad.zero_()\n",
        "  b.grad.zero_()"
      ],
      "execution_count": 79,
      "outputs": []
    },
    {
      "cell_type": "code",
      "metadata": {
        "colab": {
          "base_uri": "https://localhost:8080/"
        },
        "id": "ca7atXMN-Np4",
        "outputId": "38861747-6dd6-439c-b17d-f6697b10b185"
      },
      "source": [
        "#View new weights and biases\n",
        "w, b"
      ],
      "execution_count": 80,
      "outputs": [
        {
          "output_type": "execute_result",
          "data": {
            "text/plain": [
              "(tensor([[ 0.3196,  0.6414,  0.4629],\n",
              "         [-0.1967, -0.9295, -0.0561]], requires_grad=True),\n",
              " tensor([-1.0446, -0.5596], requires_grad=True))"
            ]
          },
          "metadata": {
            "tags": []
          },
          "execution_count": 80
        }
      ]
    },
    {
      "cell_type": "code",
      "metadata": {
        "colab": {
          "base_uri": "https://localhost:8080/"
        },
        "id": "xv5vGwn9-R-m",
        "outputId": "9635f577-3655-4a8f-a0e9-6f4a8fd5e617"
      },
      "source": [
        "#Evaluate the Model again\n",
        "y_pred = model(x_train)\n",
        "loss = mse(y_train, y_pred)\n",
        "print(loss)"
      ],
      "execution_count": 81,
      "outputs": [
        {
          "output_type": "stream",
          "text": [
            "tensor(20849.5312, grad_fn=<DivBackward0>)\n"
          ],
          "name": "stdout"
        }
      ]
    },
    {
      "cell_type": "markdown",
      "metadata": {
        "id": "ybgY_YrT-ltT"
      },
      "source": [
        "##Train for multiple epochs\n",
        "\n",
        "To reduce the loss further, we repeat the process of adjusting the weights and biases using the gradient descent algorithm multiple times. Each iteration is called an epoch."
      ]
    },
    {
      "cell_type": "code",
      "metadata": {
        "colab": {
          "base_uri": "https://localhost:8080/"
        },
        "id": "lUO610zW-_eO",
        "outputId": "fefd8819-0648-4b29-f28b-3acc28d4db82"
      },
      "source": [
        "#Train for 100 epochs\n",
        "for i in range(100):\n",
        "  #Make Prediction\n",
        "  y_pred = model(x_train)\n",
        "  #Calculate Loss\n",
        "  loss = mse(y_train, y_pred)\n",
        "  #Print Loss at each epoch\n",
        "  print(f'Loss at Epoch {i}: {loss}')\n",
        "  #Calculate Gradients\n",
        "  loss.backward()\n",
        "  #Gradient Descent\n",
        "  with torch.no_grad():\n",
        "    w -= w.grad * 1e-5\n",
        "    b -= b.grad * 1e-5\n",
        "    #Reset gradients to zero\n",
        "    w.grad.zero_()\n",
        "    b.grad.zero_()\n"
      ],
      "execution_count": 82,
      "outputs": [
        {
          "output_type": "stream",
          "text": [
            "Loss at Epoch 0: 20849.53125\n",
            "Loss at Epoch 1: 14261.994140625\n",
            "Loss at Epoch 2: 9820.1064453125\n",
            "Loss at Epoch 3: 6824.16796875\n",
            "Loss at Epoch 4: 4802.66943359375\n",
            "Loss at Epoch 5: 3437.864501953125\n",
            "Loss at Epoch 6: 2515.627197265625\n",
            "Loss at Epoch 7: 1891.662353515625\n",
            "Loss at Epoch 8: 1468.729736328125\n",
            "Loss at Epoch 9: 1181.3009033203125\n",
            "Loss at Epoch 10: 985.2171630859375\n",
            "Loss at Epoch 11: 850.7191162109375\n",
            "Loss at Epoch 12: 757.7528076171875\n",
            "Loss at Epoch 13: 692.80322265625\n",
            "Loss at Epoch 14: 646.7631225585938\n",
            "Loss at Epoch 15: 613.4943237304688\n",
            "Loss at Epoch 16: 588.8599853515625\n",
            "Loss at Epoch 17: 570.0724487304688\n",
            "Loss at Epoch 18: 555.2525634765625\n",
            "Loss at Epoch 19: 543.1334838867188\n",
            "Loss at Epoch 20: 532.8614501953125\n",
            "Loss at Epoch 21: 523.8606567382812\n",
            "Loss at Epoch 22: 515.7425537109375\n",
            "Loss at Epoch 23: 508.2452697753906\n",
            "Loss at Epoch 24: 501.19189453125\n",
            "Loss at Epoch 25: 494.46282958984375\n",
            "Loss at Epoch 26: 487.97723388671875\n",
            "Loss at Epoch 27: 481.68035888671875\n",
            "Loss at Epoch 28: 475.5350646972656\n",
            "Loss at Epoch 29: 469.51544189453125\n",
            "Loss at Epoch 30: 463.6045837402344\n",
            "Loss at Epoch 31: 457.7901306152344\n",
            "Loss at Epoch 32: 452.06402587890625\n",
            "Loss at Epoch 33: 446.419921875\n",
            "Loss at Epoch 34: 440.85382080078125\n",
            "Loss at Epoch 35: 435.36224365234375\n",
            "Loss at Epoch 36: 429.94305419921875\n",
            "Loss at Epoch 37: 424.5943298339844\n",
            "Loss at Epoch 38: 419.3141174316406\n",
            "Loss at Epoch 39: 414.1014709472656\n",
            "Loss at Epoch 40: 408.9551696777344\n",
            "Loss at Epoch 41: 403.87408447265625\n",
            "Loss at Epoch 42: 398.85736083984375\n",
            "Loss at Epoch 43: 393.9040832519531\n",
            "Loss at Epoch 44: 389.01324462890625\n",
            "Loss at Epoch 45: 384.18414306640625\n",
            "Loss at Epoch 46: 379.41595458984375\n",
            "Loss at Epoch 47: 374.707763671875\n",
            "Loss at Epoch 48: 370.05908203125\n",
            "Loss at Epoch 49: 365.4689025878906\n",
            "Loss at Epoch 50: 360.93646240234375\n",
            "Loss at Epoch 51: 356.46124267578125\n",
            "Loss at Epoch 52: 352.0423278808594\n",
            "Loss at Epoch 53: 347.67913818359375\n",
            "Loss at Epoch 54: 343.370849609375\n",
            "Loss at Epoch 55: 339.1168518066406\n",
            "Loss at Epoch 56: 334.91644287109375\n",
            "Loss at Epoch 57: 330.7689514160156\n",
            "Loss at Epoch 58: 326.673583984375\n",
            "Loss at Epoch 59: 322.62994384765625\n",
            "Loss at Epoch 60: 318.63714599609375\n",
            "Loss at Epoch 61: 314.69464111328125\n",
            "Loss at Epoch 62: 310.80169677734375\n",
            "Loss at Epoch 63: 306.9578552246094\n",
            "Loss at Epoch 64: 303.16241455078125\n",
            "Loss at Epoch 65: 299.41473388671875\n",
            "Loss at Epoch 66: 295.7142333984375\n",
            "Loss at Epoch 67: 292.0604553222656\n",
            "Loss at Epoch 68: 288.45245361328125\n",
            "Loss at Epoch 69: 284.88995361328125\n",
            "Loss at Epoch 70: 281.3724060058594\n",
            "Loss at Epoch 71: 277.8990173339844\n",
            "Loss at Epoch 72: 274.46942138671875\n",
            "Loss at Epoch 73: 271.0829772949219\n",
            "Loss at Epoch 74: 267.73919677734375\n",
            "Loss at Epoch 75: 264.43743896484375\n",
            "Loss at Epoch 76: 261.17718505859375\n",
            "Loss at Epoch 77: 257.95806884765625\n",
            "Loss at Epoch 78: 254.7794189453125\n",
            "Loss at Epoch 79: 251.6408233642578\n",
            "Loss at Epoch 80: 248.5416717529297\n",
            "Loss at Epoch 81: 245.48159790039062\n",
            "Loss at Epoch 82: 242.45999145507812\n",
            "Loss at Epoch 83: 239.47628784179688\n",
            "Loss at Epoch 84: 236.5303192138672\n",
            "Loss at Epoch 85: 233.6213836669922\n",
            "Loss at Epoch 86: 230.7489776611328\n",
            "Loss at Epoch 87: 227.91268920898438\n",
            "Loss at Epoch 88: 225.1121063232422\n",
            "Loss at Epoch 89: 222.34677124023438\n",
            "Loss at Epoch 90: 219.6162567138672\n",
            "Loss at Epoch 91: 216.92001342773438\n",
            "Loss at Epoch 92: 214.2576904296875\n",
            "Loss at Epoch 93: 211.6289520263672\n",
            "Loss at Epoch 94: 209.033203125\n",
            "Loss at Epoch 95: 206.47012329101562\n",
            "Loss at Epoch 96: 203.93923950195312\n",
            "Loss at Epoch 97: 201.4402313232422\n",
            "Loss at Epoch 98: 198.9725799560547\n",
            "Loss at Epoch 99: 196.53604125976562\n"
          ],
          "name": "stdout"
        }
      ]
    },
    {
      "cell_type": "markdown",
      "metadata": {
        "id": "yR_a2g7SAMIP"
      },
      "source": [
        "As it can be seen from above, the loss decreases with each epoch."
      ]
    },
    {
      "cell_type": "code",
      "metadata": {
        "colab": {
          "base_uri": "https://localhost:8080/"
        },
        "id": "fSqTAzVkAL0h",
        "outputId": "ee909098-3917-4b6c-d6e9-8054a9a66c3c"
      },
      "source": [
        "y_pred"
      ],
      "execution_count": 83,
      "outputs": [
        {
          "output_type": "execute_result",
          "data": {
            "text/plain": [
              "tensor([[ 60.0975,  75.7934],\n",
              "        [ 82.7421, 103.0963],\n",
              "        [112.7583, 118.6221],\n",
              "        [ 38.9984,  69.2988],\n",
              "        [ 92.1892, 104.4102]], grad_fn=<AddBackward0>)"
            ]
          },
          "metadata": {
            "tags": []
          },
          "execution_count": 83
        }
      ]
    },
    {
      "cell_type": "code",
      "metadata": {
        "colab": {
          "base_uri": "https://localhost:8080/"
        },
        "id": "OG-4GLxrA5gN",
        "outputId": "ba3f5b3c-c2e0-45d7-accc-75118f73ea46"
      },
      "source": [
        "y_train"
      ],
      "execution_count": 84,
      "outputs": [
        {
          "output_type": "execute_result",
          "data": {
            "text/plain": [
              "tensor([[ 56.,  70.],\n",
              "        [ 81., 101.],\n",
              "        [119., 133.],\n",
              "        [ 22.,  37.],\n",
              "        [103., 119.]])"
            ]
          },
          "metadata": {
            "tags": []
          },
          "execution_count": 84
        }
      ]
    },
    {
      "cell_type": "markdown",
      "metadata": {
        "id": "z_VZsHtfAhIX"
      },
      "source": [
        "The predicted values are closer to the true values as compared to before."
      ]
    },
    {
      "cell_type": "code",
      "metadata": {
        "id": "xqs98G9H_wj2"
      },
      "source": [
        ""
      ],
      "execution_count": 84,
      "outputs": []
    }
  ]
}
