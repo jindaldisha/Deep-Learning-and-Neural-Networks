{
  "nbformat": 4,
  "nbformat_minor": 0,
  "metadata": {
    "colab": {
      "name": "00_2_pytorch_basics.ipynb",
      "provenance": [],
      "collapsed_sections": [],
      "authorship_tag": "ABX9TyP54qPdDxl9mbDhsmfCzPwF",
      "include_colab_link": true
    },
    "kernelspec": {
      "name": "python3",
      "display_name": "Python 3"
    },
    "language_info": {
      "name": "python"
    }
  },
  "cells": [
    {
      "cell_type": "markdown",
      "metadata": {
        "id": "view-in-github",
        "colab_type": "text"
      },
      "source": [
        "<a href=\"https://colab.research.google.com/github/jindaldisha/Deep-Learning-and-Neural-Networks/blob/main/Neural-Networks-with-Tensorflow/00_2_pytorch_basics.ipynb\" target=\"_parent\"><img src=\"https://colab.research.google.com/assets/colab-badge.svg\" alt=\"Open In Colab\"/></a>"
      ]
    },
    {
      "cell_type": "markdown",
      "metadata": {
        "id": "FB91ig1GIyjE"
      },
      "source": [
        "#PyTorch Basics"
      ]
    },
    {
      "cell_type": "code",
      "metadata": {
        "id": "sehwDa0bJx0x"
      },
      "source": [
        "#Import Libraries\n",
        "import torch"
      ],
      "execution_count": 1,
      "outputs": []
    },
    {
      "cell_type": "markdown",
      "metadata": {
        "id": "h-OzQtjAJ5n4"
      },
      "source": [
        "## Tensors\n",
        "\n",
        "At its core, PyTorch is a library for processing tensors. A tensor is a number, vector, matrix, or any n-dimensional array.\n",
        "\n",
        "Tensors can have any number of dimensions and different lengths along each dimension. We can inspect the length along each dimension using the `.shape` property of a tensor."
      ]
    },
    {
      "cell_type": "code",
      "metadata": {
        "colab": {
          "base_uri": "https://localhost:8080/"
        },
        "id": "1rU6IzdDKM_f",
        "outputId": "becb22ef-4441-41f4-81ce-272a77c8543d"
      },
      "source": [
        "#Create a constant\n",
        "t1 = torch.tensor(4.)\n",
        "t1"
      ],
      "execution_count": 4,
      "outputs": [
        {
          "output_type": "execute_result",
          "data": {
            "text/plain": [
              "tensor(4.)"
            ]
          },
          "metadata": {
            "tags": []
          },
          "execution_count": 4
        }
      ]
    },
    {
      "cell_type": "code",
      "metadata": {
        "colab": {
          "base_uri": "https://localhost:8080/"
        },
        "id": "SLYuFNbRK6mJ",
        "outputId": "505e28a9-f52d-4f55-85fd-43b8b6d510f4"
      },
      "source": [
        "#Check type and shape of a tensor\n",
        "t1.dtype, t1.shape"
      ],
      "execution_count": 6,
      "outputs": [
        {
          "output_type": "execute_result",
          "data": {
            "text/plain": [
              "(torch.float32, torch.Size([]))"
            ]
          },
          "metadata": {
            "tags": []
          },
          "execution_count": 6
        }
      ]
    },
    {
      "cell_type": "code",
      "metadata": {
        "colab": {
          "base_uri": "https://localhost:8080/"
        },
        "id": "Ws96P5FXK6h6",
        "outputId": "6ca7a6a6-63e1-44ae-ba62-bc0c6b000563"
      },
      "source": [
        "#Create a 1D tensor\n",
        "t2 = torch.tensor([1,2,3,4])\n",
        "t2, t2.dtype, t2.shape"
      ],
      "execution_count": 7,
      "outputs": [
        {
          "output_type": "execute_result",
          "data": {
            "text/plain": [
              "(tensor([1, 2, 3, 4]), torch.int64, torch.Size([4]))"
            ]
          },
          "metadata": {
            "tags": []
          },
          "execution_count": 7
        }
      ]
    },
    {
      "cell_type": "code",
      "metadata": {
        "colab": {
          "base_uri": "https://localhost:8080/"
        },
        "id": "XipuQIF2K6eC",
        "outputId": "7af25030-43aa-49e9-cc1a-f326f2aab080"
      },
      "source": [
        "#Create a 2D tensor\n",
        "t3 = torch.tensor([[1.,2,3],[4,5,6],[7,8,9]])\n",
        "t3, t3.dtype, t3.shape"
      ],
      "execution_count": 9,
      "outputs": [
        {
          "output_type": "execute_result",
          "data": {
            "text/plain": [
              "(tensor([[1., 2., 3.],\n",
              "         [4., 5., 6.],\n",
              "         [7., 8., 9.]]), torch.float32, torch.Size([3, 3]))"
            ]
          },
          "metadata": {
            "tags": []
          },
          "execution_count": 9
        }
      ]
    },
    {
      "cell_type": "code",
      "metadata": {
        "colab": {
          "base_uri": "https://localhost:8080/"
        },
        "id": "oVPyP-CJK6bE",
        "outputId": "8c81b117-d15c-41c2-9002-704a6c845fb5"
      },
      "source": [
        "#Create a 3D tensor\n",
        "t4 = torch.tensor([[[1,2,3],\n",
        "                    [4,5,6]],\n",
        "                   [[7,8,9],\n",
        "                   [10,11,12]]])\n",
        "t4, t4.dtype, t4.shape"
      ],
      "execution_count": 12,
      "outputs": [
        {
          "output_type": "execute_result",
          "data": {
            "text/plain": [
              "(tensor([[[ 1,  2,  3],\n",
              "          [ 4,  5,  6]],\n",
              " \n",
              "         [[ 7,  8,  9],\n",
              "          [10, 11, 12]]]), torch.int64, torch.Size([2, 2, 3]))"
            ]
          },
          "metadata": {
            "tags": []
          },
          "execution_count": 12
        }
      ]
    },
    {
      "cell_type": "markdown",
      "metadata": {
        "id": "FO6PV_DhKLG7"
      },
      "source": [
        "## Tensor operations and gradients\n",
        "\n",
        "We can combine tensors with the usual arithmetic operations. "
      ]
    },
    {
      "cell_type": "code",
      "metadata": {
        "id": "V_ysQfk-J2Av"
      },
      "source": [
        "x = torch.tensor(3.)\n",
        "w = torch.tensor(4., requires_grad=True)\n",
        "b = torch.tensor(5., requires_grad = True)"
      ],
      "execution_count": 13,
      "outputs": []
    },
    {
      "cell_type": "code",
      "metadata": {
        "colab": {
          "base_uri": "https://localhost:8080/"
        },
        "id": "JSFY4qPfNvlV",
        "outputId": "712530b3-0c73-49fa-92d2-b3892987c412"
      },
      "source": [
        "#Arithmetic Operation\n",
        "y = w * x + b\n",
        "y"
      ],
      "execution_count": 14,
      "outputs": [
        {
          "output_type": "execute_result",
          "data": {
            "text/plain": [
              "tensor(17., grad_fn=<AddBackward0>)"
            ]
          },
          "metadata": {
            "tags": []
          },
          "execution_count": 14
        }
      ]
    },
    {
      "cell_type": "markdown",
      "metadata": {
        "id": "mJ8ly9GwN3Xh"
      },
      "source": [
        "In PyTorch, we can automatically compute the derivative of y w.r.t. the tensors that have requires_grad set to True i.e. w and b. This feature of PyTorch is called autograd (automatic gradients).\n",
        "\n",
        "To compute the derivatives, we can invoke the .backward method on our result y.\n",
        "\n",
        "The derivatives of y with respect to the input tensors are stored in the .grad property of the respective tensors."
      ]
    },
    {
      "cell_type": "code",
      "metadata": {
        "id": "wWJNS3ubN0Qt"
      },
      "source": [
        "#Compute Derivative\n",
        "y.backward()"
      ],
      "execution_count": 15,
      "outputs": []
    },
    {
      "cell_type": "code",
      "metadata": {
        "colab": {
          "base_uri": "https://localhost:8080/"
        },
        "id": "SlwVlo2DOdnB",
        "outputId": "bb809b3c-0fa7-4e1e-d93a-646a71f3110a"
      },
      "source": [
        "print('dy/dx:', x.grad)\n",
        "print('dy/dw:', w.grad)\n",
        "print('dy/db:', b.grad)"
      ],
      "execution_count": 17,
      "outputs": [
        {
          "output_type": "stream",
          "text": [
            "dy/dx: None\n",
            "dy/dw: tensor(3.)\n",
            "dy/db: tensor(1.)\n"
          ],
          "name": "stdout"
        }
      ]
    },
    {
      "cell_type": "markdown",
      "metadata": {
        "id": "XO3Ug-4PPJK8"
      },
      "source": [
        "We get a derivative of y w.r.t w and b because we set the `requires_grad = True` for them when creating the tensor but we didn't do it for x and the by defaut value of requires_grad is False.\n",
        "\n",
        "The \"grad\" is short for gradient, which is another term for derivative. The term gradient is primarily used while dealing with vectors and matrices."
      ]
    },
    {
      "cell_type": "markdown",
      "metadata": {
        "id": "e0NTFYtgQGO2"
      },
      "source": [
        "## Tensor functions\n",
        "\n",
        "Apart from arithmetic operations, the `torch` module also contains many functions for creating and manipulating tensors. "
      ]
    },
    {
      "cell_type": "code",
      "metadata": {
        "id": "euayOwhxPI4J"
      },
      "source": [
        "#Create a tensor full of a single value\n",
        "t5 = torch.full((3,3), 15)\n",
        "t5"
      ],
      "execution_count": 18,
      "outputs": []
    },
    {
      "cell_type": "code",
      "metadata": {
        "colab": {
          "base_uri": "https://localhost:8080/"
        },
        "id": "ocH9lePoOynX",
        "outputId": "31251c46-cd7a-45e6-96d5-d931262830e3"
      },
      "source": [
        "#Concatinate two tensor of compatible shapes\n",
        "t6 = torch.cat((t5,t3))\n",
        "t6, t6.shape"
      ],
      "execution_count": 21,
      "outputs": [
        {
          "output_type": "execute_result",
          "data": {
            "text/plain": [
              "(tensor([[15., 15., 15.],\n",
              "         [15., 15., 15.],\n",
              "         [15., 15., 15.],\n",
              "         [ 1.,  2.,  3.],\n",
              "         [ 4.,  5.,  6.],\n",
              "         [ 7.,  8.,  9.]]), torch.Size([6, 3]))"
            ]
          },
          "metadata": {
            "tags": []
          },
          "execution_count": 21
        }
      ]
    },
    {
      "cell_type": "code",
      "metadata": {
        "colab": {
          "base_uri": "https://localhost:8080/"
        },
        "id": "TGgviyC2Qvu6",
        "outputId": "e70b7e10-e397-4696-e685-47a0e1308aa6"
      },
      "source": [
        "# Compute sine of each element\n",
        "t7 = torch.sin(t6)\n",
        "t7"
      ],
      "execution_count": 23,
      "outputs": [
        {
          "output_type": "execute_result",
          "data": {
            "text/plain": [
              "tensor([[ 0.6503,  0.6503,  0.6503],\n",
              "        [ 0.6503,  0.6503,  0.6503],\n",
              "        [ 0.6503,  0.6503,  0.6503],\n",
              "        [ 0.8415,  0.9093,  0.1411],\n",
              "        [-0.7568, -0.9589, -0.2794],\n",
              "        [ 0.6570,  0.9894,  0.4121]])"
            ]
          },
          "metadata": {
            "tags": []
          },
          "execution_count": 23
        }
      ]
    },
    {
      "cell_type": "code",
      "metadata": {
        "colab": {
          "base_uri": "https://localhost:8080/"
        },
        "id": "jYPi-kBSRIRS",
        "outputId": "6b0c3a1d-c703-426c-8f17-c094351adab5"
      },
      "source": [
        "#Reshape a tensor\n",
        "t8 = t7.reshape(3,3,2)\n",
        "t8"
      ],
      "execution_count": 25,
      "outputs": [
        {
          "output_type": "execute_result",
          "data": {
            "text/plain": [
              "tensor([[[ 0.6503,  0.6503],\n",
              "         [ 0.6503,  0.6503],\n",
              "         [ 0.6503,  0.6503]],\n",
              "\n",
              "        [[ 0.6503,  0.6503],\n",
              "         [ 0.6503,  0.8415],\n",
              "         [ 0.9093,  0.1411]],\n",
              "\n",
              "        [[-0.7568, -0.9589],\n",
              "         [-0.2794,  0.6570],\n",
              "         [ 0.9894,  0.4121]]])"
            ]
          },
          "metadata": {
            "tags": []
          },
          "execution_count": 25
        }
      ]
    },
    {
      "cell_type": "markdown",
      "metadata": {
        "id": "eiVbrKjBRR16"
      },
      "source": [
        "##Interoperability with Numpy\n",
        "\n",
        "We can convert a Numpy array to a PyTorch tensor using `torch.from_numpy`.\n",
        "\n",
        "The interoperability between PyTorch and Numpy is essential because most datasets are likely be read and preprocessed as Numpy arrays.\n",
        "\n",
        "Even though Numpy already provides data structures and utilities for working with multi-dimensional numeric data, there are two main reasons why we need PyTorch:\n",
        "\n",
        "1. **Autograd**: The ability to automatically compute gradients for tensor operations is essential for training deep learning models.\n",
        "2. **GPU support**: While working with massive datasets and large models, PyTorch tensor operations can be performed efficiently using a Graphics Processing Unit (GPU). Computations that might typically take hours can be completed within minutes using GPUs."
      ]
    },
    {
      "cell_type": "code",
      "metadata": {
        "id": "bp7XtP1nRc-i"
      },
      "source": [
        "#Import Numpy\n",
        "import numpy as np"
      ],
      "execution_count": 27,
      "outputs": []
    },
    {
      "cell_type": "code",
      "metadata": {
        "colab": {
          "base_uri": "https://localhost:8080/"
        },
        "id": "eU4yyX0cSqqk",
        "outputId": "901ef793-3158-4dc6-e026-6cbea377fb6f"
      },
      "source": [
        "x = np.array([[1,2],[3,4]])\n",
        "x, x.dtype, type(x)"
      ],
      "execution_count": 33,
      "outputs": [
        {
          "output_type": "execute_result",
          "data": {
            "text/plain": [
              "(array([[1, 2],\n",
              "        [3, 4]]), dtype('int64'), numpy.ndarray)"
            ]
          },
          "metadata": {
            "tags": []
          },
          "execution_count": 33
        }
      ]
    },
    {
      "cell_type": "code",
      "metadata": {
        "colab": {
          "base_uri": "https://localhost:8080/"
        },
        "id": "nzyJCadmS5Y6",
        "outputId": "5af7329f-1975-4176-a8e8-fbb107094a53"
      },
      "source": [
        "#Convert numpy array to a torch tensor\n",
        "y = torch.from_numpy(x)\n",
        "y, y.dtype, type(y)"
      ],
      "execution_count": 34,
      "outputs": [
        {
          "output_type": "execute_result",
          "data": {
            "text/plain": [
              "(tensor([[1, 2],\n",
              "         [3, 4]]), torch.int64, torch.Tensor)"
            ]
          },
          "metadata": {
            "tags": []
          },
          "execution_count": 34
        }
      ]
    },
    {
      "cell_type": "code",
      "metadata": {
        "colab": {
          "base_uri": "https://localhost:8080/"
        },
        "id": "JEUaNbAOTHti",
        "outputId": "f9019fed-8334-44dd-9b2b-14b03cfe7914"
      },
      "source": [
        "#Convert a torch tensor to numpy array\n",
        "z = y.numpy()\n",
        "z, z.dtype, type(z)"
      ],
      "execution_count": 37,
      "outputs": [
        {
          "output_type": "execute_result",
          "data": {
            "text/plain": [
              "(array([[1, 2],\n",
              "        [3, 4]]), dtype('int64'), numpy.ndarray)"
            ]
          },
          "metadata": {
            "tags": []
          },
          "execution_count": 37
        }
      ]
    },
    {
      "cell_type": "code",
      "metadata": {
        "id": "Bwqw2NwWTZTT"
      },
      "source": [
        ""
      ],
      "execution_count": null,
      "outputs": []
    }
  ]
}