{
  "nbformat": 4,
  "nbformat_minor": 0,
  "metadata": {
    "colab": {
      "name": "00_03_gradient_descent_and_linear_regression_with_pytorch_from_scratch.ipynb",
      "provenance": [],
      "collapsed_sections": [],
      "authorship_tag": "ABX9TyOWrFZzyu4WdiNs4Tix0mZ2",
      "include_colab_link": true
    },
    "kernelspec": {
      "name": "python3",
      "display_name": "Python 3"
    },
    "language_info": {
      "name": "python"
    }
  },
  "cells": [
    {
      "cell_type": "markdown",
      "metadata": {
        "id": "view-in-github",
        "colab_type": "text"
      },
      "source": [
        "<a href=\"https://colab.research.google.com/github/jindaldisha/Deep-Learning-and-Neural-Networks/blob/main/Neural-Networks-with-Tensorflow/00_03_gradient_descent_and_linear_regression_with_pytorch_from_scratch.ipynb\" target=\"_parent\"><img src=\"https://colab.research.google.com/assets/colab-badge.svg\" alt=\"Open In Colab\"/></a>"
      ]
    },
    {
      "cell_type": "markdown",
      "metadata": {
        "id": "JUBA3sipUh1R"
      },
      "source": [
        "#Gradient Descent and Linear Regression with PyTorch from scratch"
      ]
    },
    {
      "cell_type": "markdown",
      "metadata": {
        "id": "jgaXn8O9SVX0"
      },
      "source": [
        "##Introduction to Linear Regression\n",
        "Linear Regression is one of the foundational algorithms in Machine Learning.\n",
        "\n",
        "We'll create a model that predicts crop yields for apples and oranges (target variables) by looking at the average temperature, rainfall, and humidity (input variables or features) in a region.\n",
        "\n",
        "Data:\n",
        "\n",
        "| Region | Temp (F) | Rainfall (mm) | Humidity (%) | Apples (ton) | Oranges (ton) |\n",
        "| -- | -- | -- | -- | -- | -- |\n",
        "| Kanto | 73 | 67 | 43 | 56 | 70 |\n",
        "| Johto | 91 | 88 | 64 | 81 | 101 | \n",
        "| Hoenn | 87 | 134 | 58 | 119 | 133 | \n",
        "| Sinnoh | 102 | 43 | 37 | 22 | 37 | \n",
        "| Unova | 69 | 96 | 70 | 103 | 119 |  \n",
        "\n",
        "In a linear regression model, each target variable is estimated to be a weighted (w) sum of the input variables, offset by some constant (b), known as a bias :\n",
        "\n",
        "`yield_apple = w11 * temp + w12 * rainfall + w13 * humidity + b1`\n",
        "\n",
        "`yield_oranges = w21 * temp + w22 * rainfall + w23 * humidity + b2`\n",
        "\n",
        "The learning part of linear regression is to figure out the weights (w11, w12..) and the biases (b1, b2..) using the training data and make accurate predictions for the test data that we pass to it. The learned weights will be used to predict the yields for apples and oranges in new regions using the average temperature, rainfall and humidity for that region.\n",
        "\n",
        "We train our model by adjusting the weights and biases slighty many time and keep improving our accuracy. To improve our model, we use an optimization technique called **Gradient Descent**.\n"
      ]
    },
    {
      "cell_type": "code",
      "metadata": {
        "id": "VQZn5pTRWOfK"
      },
      "source": [
        "#Import Libraries\n",
        "import numpy as np\n",
        "import torch"
      ],
      "execution_count": 1,
      "outputs": []
    },
    {
      "cell_type": "markdown",
      "metadata": {
        "id": "bHw_tTkFbsOG"
      },
      "source": [
        "##Training data\n",
        "\n",
        "We'll represent the training data using matrics x_train and y_train.\n",
        "\n",
        "x_train will have the values of temperature, rainfall and humidity for every region as a single row each.\n",
        "y_train will have the crop yields of apples and oranges for every region as a single row each."
      ]
    },
    {
      "cell_type": "code",
      "metadata": {
        "colab": {
          "base_uri": "https://localhost:8080/"
        },
        "id": "zMfbPguIcEPe",
        "outputId": "1eaec5ab-4267-4c21-9156-e0939f2cc0df"
      },
      "source": [
        "#Input Features (Temp, Rainfall, Humidity)\n",
        "x_train = np.array([[73, 67, 43], #Kanto\n",
        "                    [91, 88, 64], #Johto\n",
        "                    [87, 134, 58], #Hoenn\n",
        "                    [102, 43, 37], #Sinnoh\n",
        "                    [69, 96, 70]], #Unova\n",
        "                    dtype= 'float32')\n",
        "x_train"
      ],
      "execution_count": 2,
      "outputs": [
        {
          "output_type": "execute_result",
          "data": {
            "text/plain": [
              "array([[ 73.,  67.,  43.],\n",
              "       [ 91.,  88.,  64.],\n",
              "       [ 87., 134.,  58.],\n",
              "       [102.,  43.,  37.],\n",
              "       [ 69.,  96.,  70.]], dtype=float32)"
            ]
          },
          "metadata": {
            "tags": []
          },
          "execution_count": 2
        }
      ]
    },
    {
      "cell_type": "code",
      "metadata": {
        "colab": {
          "base_uri": "https://localhost:8080/"
        },
        "id": "3emE20cEcjrl",
        "outputId": "4fa29160-4733-4387-8202-20455a9d6055"
      },
      "source": [
        "# Input Labels (Apples, Oranges)\n",
        "y_train = np.array([[56, 70], \n",
        "                    [81, 101], \n",
        "                    [119, 133], \n",
        "                    [22, 37], \n",
        "                    [103, 119]], dtype='float32')\n",
        "y_train"
      ],
      "execution_count": 3,
      "outputs": [
        {
          "output_type": "execute_result",
          "data": {
            "text/plain": [
              "array([[ 56.,  70.],\n",
              "       [ 81., 101.],\n",
              "       [119., 133.],\n",
              "       [ 22.,  37.],\n",
              "       [103., 119.]], dtype=float32)"
            ]
          },
          "metadata": {
            "tags": []
          },
          "execution_count": 3
        }
      ]
    },
    {
      "cell_type": "code",
      "metadata": {
        "id": "ElQKBU1Qc5ZX"
      },
      "source": [
        "#Convert input numpy array to pytorch tensors\n",
        "x_train = torch.from_numpy(x_train)\n",
        "y_train = torch.from_numpy(y_train)"
      ],
      "execution_count": 4,
      "outputs": []
    },
    {
      "cell_type": "code",
      "metadata": {
        "colab": {
          "base_uri": "https://localhost:8080/"
        },
        "id": "PjU_q7CqdeKV",
        "outputId": "c2ee3dfb-451d-4792-c7f2-067f15c969f0"
      },
      "source": [
        "x_train, type(x_train), x_train.shape"
      ],
      "execution_count": 5,
      "outputs": [
        {
          "output_type": "execute_result",
          "data": {
            "text/plain": [
              "(tensor([[ 73.,  67.,  43.],\n",
              "         [ 91.,  88.,  64.],\n",
              "         [ 87., 134.,  58.],\n",
              "         [102.,  43.,  37.],\n",
              "         [ 69.,  96.,  70.]]), torch.Tensor, torch.Size([5, 3]))"
            ]
          },
          "metadata": {
            "tags": []
          },
          "execution_count": 5
        }
      ]
    },
    {
      "cell_type": "code",
      "metadata": {
        "colab": {
          "base_uri": "https://localhost:8080/"
        },
        "id": "m3nbmqqMdeHe",
        "outputId": "1944e1bc-ecf7-4f60-c8c0-28ad9498e5c5"
      },
      "source": [
        "y_train, type(y_train), y_train.shape"
      ],
      "execution_count": 6,
      "outputs": [
        {
          "output_type": "execute_result",
          "data": {
            "text/plain": [
              "(tensor([[ 56.,  70.],\n",
              "         [ 81., 101.],\n",
              "         [119., 133.],\n",
              "         [ 22.,  37.],\n",
              "         [103., 119.]]), torch.Tensor, torch.Size([5, 2]))"
            ]
          },
          "metadata": {
            "tags": []
          },
          "execution_count": 6
        }
      ]
    },
    {
      "cell_type": "markdown",
      "metadata": {
        "id": "ATHKr-ZNdZIe"
      },
      "source": [
        "## Linear regression model from scratch\n",
        "\n",
        "The weights and biases (`w11, w12,... w23, b1 & b2`) can also be represented as matrices, initialized as random values. The first row of `w` and the first element of `b` are used to predict the first target variable, i.e., yield of apples, and similarly, the second for oranges."
      ]
    },
    {
      "cell_type": "code",
      "metadata": {
        "colab": {
          "base_uri": "https://localhost:8080/"
        },
        "id": "NVg--i4FdXNd",
        "outputId": "688f0a40-2e52-467c-b296-573aa8188f20"
      },
      "source": [
        "w = torch.randn(2,3, requires_grad = True)\n",
        "b = torch.randn(2, requires_grad = True)\n",
        "w, b"
      ],
      "execution_count": 7,
      "outputs": [
        {
          "output_type": "execute_result",
          "data": {
            "text/plain": [
              "(tensor([[ 1.2442, -1.2817, -1.7407],\n",
              "         [ 0.7963,  2.1885, -1.1844]], requires_grad=True),\n",
              " tensor([ 0.0167, -0.0986], requires_grad=True))"
            ]
          },
          "metadata": {
            "tags": []
          },
          "execution_count": 7
        }
      ]
    },
    {
      "cell_type": "markdown",
      "metadata": {
        "id": "0j3lMK8ngbK7"
      },
      "source": [
        "Our Model is going to perform matrix multiplication of input features `x_train` and weights `w` (transposed) and add biases `b`.\n",
        "\n",
        "torch.randn creates a tensor with the given shape, with elements picked randomly from a normal distribution with mean 0 and standard deviation 1."
      ]
    },
    {
      "cell_type": "code",
      "metadata": {
        "id": "_X8Qz-yZga7s"
      },
      "source": [
        "#Function for model\n",
        "def model(x):\n",
        "  return x @ w.t() + b"
      ],
      "execution_count": 8,
      "outputs": []
    },
    {
      "cell_type": "code",
      "metadata": {
        "id": "WK0iJVgVgRF8"
      },
      "source": [
        "#Calling the model on our input featurs\n",
        "y_pred = model(x_train)"
      ],
      "execution_count": 9,
      "outputs": []
    },
    {
      "cell_type": "code",
      "metadata": {
        "colab": {
          "base_uri": "https://localhost:8080/"
        },
        "id": "POr5oJ2qhCXU",
        "outputId": "b383d312-1039-48b5-bae4-5f57d8ab74ba"
      },
      "source": [
        "#Comparing y_pred with y_train\n",
        "y_pred, y_train"
      ],
      "execution_count": 10,
      "outputs": [
        {
          "output_type": "execute_result",
          "data": {
            "text/plain": [
              "(tensor([[ -69.8795,  153.7324],\n",
              "         [-110.9540,  189.1523],\n",
              "         [-164.4466,  293.7462],\n",
              "         [   7.4091,  131.4058],\n",
              "         [-159.0251,  182.0362]], grad_fn=<AddBackward0>),\n",
              " tensor([[ 56.,  70.],\n",
              "         [ 81., 101.],\n",
              "         [119., 133.],\n",
              "         [ 22.,  37.],\n",
              "         [103., 119.]]))"
            ]
          },
          "metadata": {
            "tags": []
          },
          "execution_count": 10
        }
      ]
    },
    {
      "cell_type": "markdown",
      "metadata": {
        "id": "O6MTTAVwhNTW"
      },
      "source": [
        "There is a big difference between our model's predicted labels and the true labels. This is because we've initializes our model with random weights and biases."
      ]
    },
    {
      "cell_type": "markdown",
      "metadata": {
        "id": "oa44aQRQheoW"
      },
      "source": [
        "##Loss Function\n",
        "\n",
        "Before we make changes in our model to improve our predictions, we need a way to evaluate our model. We can compare the predicted labels with true labels using the following steps\"\n",
        "- Calculate the difference between `y_pred` and `y_train`\n",
        "- Take a square of all the differences\n",
        "- Calculate the average of the elements.\n",
        "\n",
        "The result is a single numbers and this is know as the `mean square error (MSE)`. It is mean of the square of the difference in the predicted value and the true value.\n",
        "\n",
        "On average, each element in the prediction differs from the actual target by the square root of the loss. The result is called the loss because it indicates how bad the model is at predicting the target variables. It represents information loss in the model: the lower the loss, the better the model."
      ]
    },
    {
      "cell_type": "code",
      "metadata": {
        "id": "YW5UE7QQhLom"
      },
      "source": [
        "#Loss Function (MSE)\n",
        "def mse(y_true, y_pred):\n",
        "  error = y_true - y_pred\n",
        "  square = error * error\n",
        "  number_of_elements = error.numel()\n",
        "  mean = torch.sum(square) / number_of_elements\n",
        "  return mean"
      ],
      "execution_count": 11,
      "outputs": []
    },
    {
      "cell_type": "code",
      "metadata": {
        "colab": {
          "base_uri": "https://localhost:8080/"
        },
        "id": "ODu6S-Cwi5Tz",
        "outputId": "cb02ea0e-3368-4d6a-9678-aff2a2849973"
      },
      "source": [
        "#Compute Loss\n",
        "loss = mse(y_train, y_pred)\n",
        "print(loss)"
      ],
      "execution_count": 12,
      "outputs": [
        {
          "output_type": "stream",
          "text": [
            "tensor(25541.1328, grad_fn=<DivBackward0>)\n"
          ],
          "name": "stdout"
        }
      ]
    },
    {
      "cell_type": "markdown",
      "metadata": {
        "id": "O25igopQj83C"
      },
      "source": [
        "## Compute gradients\n",
        "\n",
        "With PyTorch, we can automatically compute the gradient or derivative of the loss w.r.t. to the weights and biases because they have `requires_grad` set to `True`.\n",
        "\n",
        "The gradients are stored in the `.grad` property of the respective tensors. Note that the derivative of the loss w.r.t. the weights matrix is itself a matrix with the same dimensions."
      ]
    },
    {
      "cell_type": "code",
      "metadata": {
        "id": "RGVDgWh_j8nO"
      },
      "source": [
        "#Compute Gradients\n",
        "loss.backward()"
      ],
      "execution_count": 13,
      "outputs": []
    },
    {
      "cell_type": "code",
      "metadata": {
        "colab": {
          "base_uri": "https://localhost:8080/"
        },
        "id": "ChGQKmp7j8kJ",
        "outputId": "5a7c7e3d-caa9-48d8-80ac-dfcd1de5003a"
      },
      "source": [
        "#Gradients for weights\n",
        "print(w)\n",
        "print(w.grad) "
      ],
      "execution_count": 14,
      "outputs": [
        {
          "output_type": "stream",
          "text": [
            "tensor([[ 1.2442, -1.2817, -1.7407],\n",
            "        [ 0.7963,  2.1885, -1.1844]], requires_grad=True)\n",
            "tensor([[-14176.9756, -17817.9082, -10603.8789],\n",
            "        [  8419.6279,   9003.6797,   5294.2148]])\n"
          ],
          "name": "stdout"
        }
      ]
    },
    {
      "cell_type": "markdown",
      "metadata": {
        "id": "weqOLHTunGis"
      },
      "source": [
        "Since we've calculated gradients for the loss.\n",
        "`w.grad` is the derivative of the `loss` w.r.t to `w`."
      ]
    },
    {
      "cell_type": "code",
      "metadata": {
        "colab": {
          "base_uri": "https://localhost:8080/"
        },
        "id": "ZybyboxY77RW",
        "outputId": "7fa44922-01f8-4547-c69d-07438fb2f247"
      },
      "source": [
        "print(b)\n",
        "print(b.grad)"
      ],
      "execution_count": 15,
      "outputs": [
        {
          "output_type": "stream",
          "text": [
            "tensor([ 0.0167, -0.0986], requires_grad=True)\n",
            "tensor([-175.5792,   98.0146])\n"
          ],
          "name": "stdout"
        }
      ]
    },
    {
      "cell_type": "markdown",
      "metadata": {
        "id": "efZRn2VWnWOJ"
      },
      "source": [
        "## Adjust Weights and Biases to reduce the Loss\n",
        "\n",
        "The loss is function of our weights and biases and we want to find the set of weights where the loss is the lowest. \n",
        "\n",
        "The gradients indicate the rate of change of the loss, i.e. the loss function's slope w.r.t the weights and biases.\n",
        "\n",
        "If the gradient element is positive:\n",
        " - Increasing the weight element's value slightly will increase the loss.\n",
        " - Decreasing the weight element's value will decrease the loss.\n",
        "\n",
        "If the gradient element is negative:\n",
        " - Increasing the weight element's value slightly will decrease the loss.\n",
        " - Decreasing the weight element's value will increase the loss.\n",
        "\n",
        "\n",
        "The increase or decrease in the loss by changing a weight element is proportional to the gradient of the loss w.r.t. that element. This observation forms the basis of the gradient descent optimization algorithm that we'll use to improve our model (by descending along the gradient).\n",
        "\n",
        "We can subtract from each weight element a small quantity proportional to the derivative of the loss w.r.t. that element to reduce the loss slightly.\n",
        "\n",
        "\n",
        "In simple words, if the gradient is negative, the slope is negative so we need to increase the weight. If the gradient is positive, the slope is positive so we need to decrease the weight.\n",
        "\n",
        "It is called gradient descent, because we're descending along the gradient."
      ]
    },
    {
      "cell_type": "code",
      "metadata": {
        "id": "u-1Wt_pGnF7Y"
      },
      "source": [
        "with torch.no_grad():\n",
        "  w -= w.grad * 1e-5\n",
        "  b -= b.grad * 1e-5"
      ],
      "execution_count": 16,
      "outputs": []
    },
    {
      "cell_type": "markdown",
      "metadata": {
        "id": "Twhg6Rd43-Mg"
      },
      "source": [
        "We multiply the gradients with a very small number to ensure that we don't modify the weights by a very large amount. This ensure that we only take small steps in the downhill direction and not giant leaps. This prevents from diverging away from the optimal solution. This number is known as the learning rate. \n",
        "We use torch.no_grad to we shouldn't track, calculate or modify the gradients while updating the weights and biases."
      ]
    },
    {
      "cell_type": "code",
      "metadata": {
        "colab": {
          "base_uri": "https://localhost:8080/"
        },
        "id": "oOQL1CTCi_4l",
        "outputId": "b9c45cd7-53fb-4bcf-9eeb-cc6223d41f9a"
      },
      "source": [
        "#Evaluate the model again\n",
        "y_pred = model(x_train)\n",
        "loss = mse(y_train, y_pred)\n",
        "print(loss)"
      ],
      "execution_count": 17,
      "outputs": [
        {
          "output_type": "stream",
          "text": [
            "tensor(18155.1465, grad_fn=<DivBackward0>)\n"
          ],
          "name": "stdout"
        }
      ]
    },
    {
      "cell_type": "markdown",
      "metadata": {
        "id": "1I0tY--p7oAa"
      },
      "source": [
        "Before we proceed, we reset the gradients to zero by invoking the `.zero_()` method. We need to do this because PyTorch accumulates gradients. Otherwise, the next time we invoke `.backward` on the loss, the new gradient values are added to the existing gradients, which may lead to unexpected results."
      ]
    },
    {
      "cell_type": "code",
      "metadata": {
        "colab": {
          "base_uri": "https://localhost:8080/"
        },
        "id": "-ZRsh0HN7Jfk",
        "outputId": "e348ec01-7196-45b1-e242-74c4cb7dda04"
      },
      "source": [
        "w.grad.zero_()\n",
        "b.grad.zero_()\n",
        "print(w.grad)\n",
        "print(b.grad)"
      ],
      "execution_count": 18,
      "outputs": [
        {
          "output_type": "stream",
          "text": [
            "tensor([[0., 0., 0.],\n",
            "        [0., 0., 0.]])\n",
            "tensor([0., 0.])\n"
          ],
          "name": "stdout"
        }
      ]
    },
    {
      "cell_type": "markdown",
      "metadata": {
        "id": "GUAI7Bc87q6q"
      },
      "source": [
        "## Train the model using gradient descent\n",
        "\n",
        "We reduce the loss and improve our model using the gradient descent optimization algorithm. Thus, we can train the model using the following steps:\n",
        "\n",
        "1. Generate predictions\n",
        "\n",
        "2. Calculate the loss\n",
        "\n",
        "3. Compute gradients w.r.t the weights and biases\n",
        "\n",
        "4. Adjust the weights by subtracting a small quantity proportional to the gradient\n",
        "\n",
        "5. Reset the gradients to zero\n"
      ]
    },
    {
      "cell_type": "code",
      "metadata": {
        "colab": {
          "base_uri": "https://localhost:8080/"
        },
        "id": "pdFt67ct8Zmm",
        "outputId": "81c7d5f2-b11b-44b2-b9e6-1196a9e9abc1"
      },
      "source": [
        "# Step 1: Generate Predictions\n",
        "y_pred = model(x_train)\n",
        "y_pred"
      ],
      "execution_count": 19,
      "outputs": [
        {
          "output_type": "execute_result",
          "data": {
            "text/plain": [
              "tensor([[ -43.0309,  139.2761],\n",
              "        [ -75.5849,  170.1779],\n",
              "        [-122.0847,  271.2846],\n",
              "        [  33.4565,  116.9863],\n",
              "        [-124.7134,  163.8763]], grad_fn=<AddBackward0>)"
            ]
          },
          "metadata": {
            "tags": []
          },
          "execution_count": 19
        }
      ]
    },
    {
      "cell_type": "code",
      "metadata": {
        "colab": {
          "base_uri": "https://localhost:8080/"
        },
        "id": "JWiSXcHW9muy",
        "outputId": "e2f8cead-3cfd-42cb-c9d8-eceab511a690"
      },
      "source": [
        "# Step 2: Calculate Loss\n",
        "loss = mse(y_pred, y_train)\n",
        "loss"
      ],
      "execution_count": 20,
      "outputs": [
        {
          "output_type": "execute_result",
          "data": {
            "text/plain": [
              "tensor(18155.1465, grad_fn=<DivBackward0>)"
            ]
          },
          "metadata": {
            "tags": []
          },
          "execution_count": 20
        }
      ]
    },
    {
      "cell_type": "code",
      "metadata": {
        "id": "mWUgQ8Yj9vyc"
      },
      "source": [
        "#Step 3:Compute Gradients\n",
        "loss.backward()"
      ],
      "execution_count": 21,
      "outputs": []
    },
    {
      "cell_type": "code",
      "metadata": {
        "colab": {
          "base_uri": "https://localhost:8080/"
        },
        "id": "yImgOwPS94en",
        "outputId": "763881b2-41d2-4ceb-f378-f72f56b8ba7d"
      },
      "source": [
        "print(w.grad)\n",
        "print(b.grad)"
      ],
      "execution_count": 22,
      "outputs": [
        {
          "output_type": "stream",
          "text": [
            "tensor([[-11399.3018, -14817.5488,  -8755.7441],\n",
            "        [  6927.6348,   7401.3652,   4305.5195]])\n",
            "tensor([-142.5915,   80.3202])\n"
          ],
          "name": "stdout"
        }
      ]
    },
    {
      "cell_type": "code",
      "metadata": {
        "id": "B-Ja90Oc97wa"
      },
      "source": [
        "#Step 4, 5: Adjust Weights and Reset Gradients\n",
        "with torch.no_grad():\n",
        "  w -= w.grad * 1e-5\n",
        "  b -= b.grad * 1e-5\n",
        "  w.grad.zero_()\n",
        "  b.grad.zero_()"
      ],
      "execution_count": 23,
      "outputs": []
    },
    {
      "cell_type": "code",
      "metadata": {
        "colab": {
          "base_uri": "https://localhost:8080/"
        },
        "id": "ca7atXMN-Np4",
        "outputId": "3901c989-2886-4068-f5fb-e075590b41ca"
      },
      "source": [
        "#View new weights and biases\n",
        "w, b"
      ],
      "execution_count": 24,
      "outputs": [
        {
          "output_type": "execute_result",
          "data": {
            "text/plain": [
              "(tensor([[ 1.5000, -0.9554, -1.5471],\n",
              "         [ 0.6428,  2.0245, -1.2804]], requires_grad=True),\n",
              " tensor([ 0.0199, -0.1003], requires_grad=True))"
            ]
          },
          "metadata": {
            "tags": []
          },
          "execution_count": 24
        }
      ]
    },
    {
      "cell_type": "code",
      "metadata": {
        "colab": {
          "base_uri": "https://localhost:8080/"
        },
        "id": "xv5vGwn9-R-m",
        "outputId": "718e14eb-f4ad-464c-bf8a-1ff2ba4bc001"
      },
      "source": [
        "#Evaluate the Model again\n",
        "y_pred = model(x_train)\n",
        "loss = mse(y_train, y_pred)\n",
        "print(loss)"
      ],
      "execution_count": 25,
      "outputs": [
        {
          "output_type": "stream",
          "text": [
            "tensor(13167.5908, grad_fn=<DivBackward0>)\n"
          ],
          "name": "stdout"
        }
      ]
    },
    {
      "cell_type": "markdown",
      "metadata": {
        "id": "ybgY_YrT-ltT"
      },
      "source": [
        "##Train for multiple epochs\n",
        "\n",
        "To reduce the loss further, we repeat the process of adjusting the weights and biases using the gradient descent algorithm multiple times. Each iteration is called an epoch."
      ]
    },
    {
      "cell_type": "code",
      "metadata": {
        "colab": {
          "base_uri": "https://localhost:8080/"
        },
        "id": "lUO610zW-_eO",
        "outputId": "4d86a7d4-a503-463d-ecae-d34aef5f3a40"
      },
      "source": [
        "#Train for 100 epochs\n",
        "for i in range(100):\n",
        "  #Make Prediction\n",
        "  y_pred = model(x_train)\n",
        "  #Calculate Loss\n",
        "  loss = mse(y_train, y_pred)\n",
        "  #Print Loss at each epoch\n",
        "  print(f'Loss at Epoch {i}: {loss}')\n",
        "  #Calculate Gradients\n",
        "  loss.backward()\n",
        "  #Gradient Descent\n",
        "  with torch.no_grad():\n",
        "    w -= w.grad * 1e-5\n",
        "    b -= b.grad * 1e-5\n",
        "    #Reset gradients to zero\n",
        "    w.grad.zero_()\n",
        "    b.grad.zero_()\n"
      ],
      "execution_count": 26,
      "outputs": [
        {
          "output_type": "stream",
          "text": [
            "Loss at Epoch 0: 13167.5908203125\n",
            "Loss at Epoch 1: 9796.4248046875\n",
            "Loss at Epoch 2: 7514.6533203125\n",
            "Loss at Epoch 3: 5967.12548828125\n",
            "Loss at Epoch 4: 4914.52001953125\n",
            "Loss at Epoch 5: 4195.5517578125\n",
            "Loss at Epoch 6: 3701.538330078125\n",
            "Loss at Epoch 7: 3359.23388671875\n",
            "Loss at Epoch 8: 3119.281005859375\n",
            "Loss at Epoch 9: 2948.415283203125\n",
            "Loss at Epoch 10: 2824.218017578125\n",
            "Loss at Epoch 11: 2731.581787109375\n",
            "Loss at Epoch 12: 2660.323974609375\n",
            "Loss at Epoch 13: 2603.5810546875\n",
            "Loss at Epoch 14: 2556.72705078125\n",
            "Loss at Epoch 15: 2516.642578125\n",
            "Loss at Epoch 16: 2481.224609375\n",
            "Loss at Epoch 17: 2449.053466796875\n",
            "Loss at Epoch 18: 2419.174560546875\n",
            "Loss at Epoch 19: 2390.937744140625\n",
            "Loss at Epoch 20: 2363.9091796875\n",
            "Loss at Epoch 21: 2337.79150390625\n",
            "Loss at Epoch 22: 2312.38623046875\n",
            "Loss at Epoch 23: 2287.5546875\n",
            "Loss at Epoch 24: 2263.20556640625\n",
            "Loss at Epoch 25: 2239.2734375\n",
            "Loss at Epoch 26: 2215.715576171875\n",
            "Loss at Epoch 27: 2192.5\n",
            "Loss at Epoch 28: 2169.60498046875\n",
            "Loss at Epoch 29: 2147.0146484375\n",
            "Loss at Epoch 30: 2124.71728515625\n",
            "Loss at Epoch 31: 2102.7041015625\n",
            "Loss at Epoch 32: 2080.967041015625\n",
            "Loss at Epoch 33: 2059.5\n",
            "Loss at Epoch 34: 2038.299072265625\n",
            "Loss at Epoch 35: 2017.359375\n",
            "Loss at Epoch 36: 1996.676025390625\n",
            "Loss at Epoch 37: 1976.2467041015625\n",
            "Loss at Epoch 38: 1956.0667724609375\n",
            "Loss at Epoch 39: 1936.1334228515625\n",
            "Loss at Epoch 40: 1916.442626953125\n",
            "Loss at Epoch 41: 1896.991943359375\n",
            "Loss at Epoch 42: 1877.7786865234375\n",
            "Loss at Epoch 43: 1858.798583984375\n",
            "Loss at Epoch 44: 1840.050048828125\n",
            "Loss at Epoch 45: 1821.5296630859375\n",
            "Loss at Epoch 46: 1803.2337646484375\n",
            "Loss at Epoch 47: 1785.160400390625\n",
            "Loss at Epoch 48: 1767.306396484375\n",
            "Loss at Epoch 49: 1749.669677734375\n",
            "Loss at Epoch 50: 1732.2464599609375\n",
            "Loss at Epoch 51: 1715.0347900390625\n",
            "Loss at Epoch 52: 1698.0318603515625\n",
            "Loss at Epoch 53: 1681.234619140625\n",
            "Loss at Epoch 54: 1664.6412353515625\n",
            "Loss at Epoch 55: 1648.248291015625\n",
            "Loss at Epoch 56: 1632.053955078125\n",
            "Loss at Epoch 57: 1616.0556640625\n",
            "Loss at Epoch 58: 1600.2503662109375\n",
            "Loss at Epoch 59: 1584.63623046875\n",
            "Loss at Epoch 60: 1569.2109375\n",
            "Loss at Epoch 61: 1553.9715576171875\n",
            "Loss at Epoch 62: 1538.9163818359375\n",
            "Loss at Epoch 63: 1524.042724609375\n",
            "Loss at Epoch 64: 1509.3482666015625\n",
            "Loss at Epoch 65: 1494.8310546875\n",
            "Loss at Epoch 66: 1480.4884033203125\n",
            "Loss at Epoch 67: 1466.318603515625\n",
            "Loss at Epoch 68: 1452.319580078125\n",
            "Loss at Epoch 69: 1438.488525390625\n",
            "Loss at Epoch 70: 1424.82373046875\n",
            "Loss at Epoch 71: 1411.323486328125\n",
            "Loss at Epoch 72: 1397.98486328125\n",
            "Loss at Epoch 73: 1384.8065185546875\n",
            "Loss at Epoch 74: 1371.786376953125\n",
            "Loss at Epoch 75: 1358.921875\n",
            "Loss at Epoch 76: 1346.21240234375\n",
            "Loss at Epoch 77: 1333.654541015625\n",
            "Loss at Epoch 78: 1321.2467041015625\n",
            "Loss at Epoch 79: 1308.987548828125\n",
            "Loss at Epoch 80: 1296.875244140625\n",
            "Loss at Epoch 81: 1284.9073486328125\n",
            "Loss at Epoch 82: 1273.0823974609375\n",
            "Loss at Epoch 83: 1261.398681640625\n",
            "Loss at Epoch 84: 1249.854248046875\n",
            "Loss at Epoch 85: 1238.447509765625\n",
            "Loss at Epoch 86: 1227.1767578125\n",
            "Loss at Epoch 87: 1216.039794921875\n",
            "Loss at Epoch 88: 1205.0355224609375\n",
            "Loss at Epoch 89: 1194.161865234375\n",
            "Loss at Epoch 90: 1183.4178466796875\n",
            "Loss at Epoch 91: 1172.801513671875\n",
            "Loss at Epoch 92: 1162.310791015625\n",
            "Loss at Epoch 93: 1151.9443359375\n",
            "Loss at Epoch 94: 1141.700927734375\n",
            "Loss at Epoch 95: 1131.5792236328125\n",
            "Loss at Epoch 96: 1121.5770263671875\n",
            "Loss at Epoch 97: 1111.69287109375\n",
            "Loss at Epoch 98: 1101.926025390625\n",
            "Loss at Epoch 99: 1092.2745361328125\n"
          ],
          "name": "stdout"
        }
      ]
    },
    {
      "cell_type": "markdown",
      "metadata": {
        "id": "yR_a2g7SAMIP"
      },
      "source": [
        "As it can be seen from above, the loss decreases with each epoch."
      ]
    },
    {
      "cell_type": "code",
      "metadata": {
        "colab": {
          "base_uri": "https://localhost:8080/"
        },
        "id": "fSqTAzVkAL0h",
        "outputId": "bf81061f-ecee-4f29-faba-f0c8731fcbdd"
      },
      "source": [
        "y_pred"
      ],
      "execution_count": 27,
      "outputs": [
        {
          "output_type": "execute_result",
          "data": {
            "text/plain": [
              "tensor([[ 70.1820,  72.5652],\n",
              "        [ 80.0558,  84.5284],\n",
              "        [102.6588, 166.0425],\n",
              "        [ 95.6146,  48.4494],\n",
              "        [ 54.6875,  84.3634]], grad_fn=<AddBackward0>)"
            ]
          },
          "metadata": {
            "tags": []
          },
          "execution_count": 27
        }
      ]
    },
    {
      "cell_type": "code",
      "metadata": {
        "colab": {
          "base_uri": "https://localhost:8080/"
        },
        "id": "OG-4GLxrA5gN",
        "outputId": "7904799f-7259-41c7-c7c2-dbbde73bd581"
      },
      "source": [
        "y_train"
      ],
      "execution_count": 28,
      "outputs": [
        {
          "output_type": "execute_result",
          "data": {
            "text/plain": [
              "tensor([[ 56.,  70.],\n",
              "        [ 81., 101.],\n",
              "        [119., 133.],\n",
              "        [ 22.,  37.],\n",
              "        [103., 119.]])"
            ]
          },
          "metadata": {
            "tags": []
          },
          "execution_count": 28
        }
      ]
    },
    {
      "cell_type": "markdown",
      "metadata": {
        "id": "z_VZsHtfAhIX"
      },
      "source": [
        "The predicted values are closer to the true values as compared to before."
      ]
    },
    {
      "cell_type": "code",
      "metadata": {
        "id": "xqs98G9H_wj2"
      },
      "source": [
        ""
      ],
      "execution_count": 28,
      "outputs": []
    }
  ]
}