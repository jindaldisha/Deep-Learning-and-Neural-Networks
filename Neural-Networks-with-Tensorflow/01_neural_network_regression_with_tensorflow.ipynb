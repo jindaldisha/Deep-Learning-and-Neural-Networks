{
  "nbformat": 4,
  "nbformat_minor": 0,
  "metadata": {
    "colab": {
      "name": "01_neural_network_regression_with_tensorflow.ipynb",
      "provenance": [],
      "collapsed_sections": [],
      "authorship_tag": "ABX9TyMIVznZzzJfin/UffGRfCum",
      "include_colab_link": true
    },
    "kernelspec": {
      "name": "python3",
      "display_name": "Python 3"
    },
    "language_info": {
      "name": "python"
    },
    "accelerator": "GPU"
  },
  "cells": [
    {
      "cell_type": "markdown",
      "metadata": {
        "id": "view-in-github",
        "colab_type": "text"
      },
      "source": [
        "<a href=\"https://colab.research.google.com/github/jindaldisha/Neural-Networks-with-Tensorflow/blob/main/01_neural_network_regression_with_tensorflow.ipynb\" target=\"_parent\"><img src=\"https://colab.research.google.com/assets/colab-badge.svg\" alt=\"Open In Colab\"/></a>"
      ]
    },
    {
      "cell_type": "markdown",
      "metadata": {
        "id": "4ayrcGmoY72-"
      },
      "source": [
        "# Neural Network Regression with Tensorflow"
      ]
    },
    {
      "cell_type": "markdown",
      "metadata": {
        "id": "dDI2UGQLZimu"
      },
      "source": [
        "Regression analysis is a set of statistical processes for estimating the relationships between a dependent variable (outcome variable/ labels) and one or more independent variables (features/ input variable).\n",
        "\n",
        "In a  regression problem, to put is simply, we predict numbers.\n",
        "\n",
        " \n"
      ]
    },
    {
      "cell_type": "markdown",
      "metadata": {
        "id": "an1yCB39dFUO"
      },
      "source": [
        "We're going to see how to take inputs (data), build a neural network to find patterns in those inputs and make predictions (in the form of numbers) based on those inputs."
      ]
    },
    {
      "cell_type": "markdown",
      "metadata": {
        "id": "qY4Lh1gLbs4i"
      },
      "source": [
        "Things to do:\n",
        "\n",
        "* Build an architecture of a neural network model\n",
        "* Input shapes (features) and output shapes (labels) of a regression model\n",
        "  - `X`: features/data (inputs)\n",
        "  - `y`: labels (outputs)\n",
        "* Creating custom data to view and fit\n",
        "* Steps in modelling:\n",
        " * Creating a Model\n",
        " * Compiling a Model\n",
        "    - Defining a loss function\n",
        "    - Setting up an optimizer\n",
        "    - Creating evaluation metrics\n",
        " * Fitting a Model (getting it to find patterns in our data)\n",
        " *  Visualizng the model\n",
        "  - Looking at training curves\n",
        "  - Compare predictions to ground truth (using our evaluation metrics)\n",
        "* Saving a model (so we can use it later)\n",
        "* Loading a model\n",
        "\n",
        "\n",
        "\n",
        " "
      ]
    },
    {
      "cell_type": "markdown",
      "metadata": {
        "id": "JLaPmS6Lgqxq"
      },
      "source": [
        "Say we have to predict the price of house and we're given the values of number of bedrooms, number of bathrooms etc. We have to numerically enocode these values. And these are the input variables i.e. the input features. These features go into our machine learning algorithm, and our algorithm will make a prediction of the price (the label that we're trying to calculate) based on the input features. This predicted output comes out of learning off of various actual outputs. This is an example of Supervised Learning. We might have hundreds of/or thousands of different homes with all of their input features and their actual sale price. And then we might feed these inputs and outputs to our machine learning algorithm and its going to learn the relationships between the features and labels.  \n",
        "   "
      ]
    },
    {
      "cell_type": "markdown",
      "metadata": {
        "id": "_kAvjFZwciDe"
      },
      "source": [
        " ## Anatomy of Neural Networks \n",
        "\n",
        " Every neural network has:\n",
        " - Input Layer (daya goes in here)\n",
        " - Hidden Layer(s) (learns pattern in data) \n",
        " - Output Layer (outputs learned representation or prediction probabilites\n",
        "\n",
        "\n",
        "\n",
        "The more the number of hidden layers, the deeper the neural network is.\n",
        "\n",
        "\n",
        "## Architecture of Neural Networks\n",
        "\n",
        "| **Hyperparameter** | **Typical value** |\n",
        "| --- | --- |\n",
        "| Input layer shape | Same shape as number of features (e.g. 3 for # bedrooms, # bathrooms, # car spaces in housing price prediction) |\n",
        "| Hidden layer(s) | Problem specific, minimum = 1, maximum = unlimited |\n",
        "| Neurons per hidden layer | Problem specific, generally 10 to 100 |\n",
        "| Output layer shape | Same shape as desired prediction shape (e.g. 1 for house price) |\n",
        "| Hidden activation | Usually ReLU (rectified linear unit) |\n",
        "| Output activation | None, ReLU, logistic/tanh |\n",
        "| Loss function | MSE (mean absolute error)/Huber (combination of MAE/MSE) if outliers |\n",
        "| Optimizer | SGD (stochastic gradient descent), Adam |\n",
        "\n",
        "\n",
        " A **hyperparameter** in machine learning is something a data analyst or developer can set themselves, where as a **parameter** usually describes something a model learns on its own (a value not explicitly set by an analyst).\n",
        "\n",
        " The value of parameters depend on the value of hyperparameters.\n",
        "\n",
        " Loss function measures how wrong our neural network is i.e. how wrong the relations between the input and the output is, and then we optimize it (try to decrease the loss function) by using optimizers (SGD, Adam, etc.).\n",
        " It tells us how we can improve our model to reduce the loss function.\n",
        "\n",
        " And then we fit our model to the data."
      ]
    },
    {
      "cell_type": "code",
      "metadata": {
        "id": "s1_1sMq9lOAT",
        "colab": {
          "base_uri": "https://localhost:8080/"
        },
        "outputId": "119171e9-b8f0-4006-e598-973740f52de8"
      },
      "source": [
        "#Import TensorFlow\n",
        "import tensorflow as tf\n",
        "print(tf.__version__)"
      ],
      "execution_count": 1,
      "outputs": [
        {
          "output_type": "stream",
          "text": [
            "2.5.0\n"
          ],
          "name": "stdout"
        }
      ]
    },
    {
      "cell_type": "markdown",
      "metadata": {
        "id": "MxEbdneDNytm"
      },
      "source": [
        "##Creating data to View and Fit\n"
      ]
    },
    {
      "cell_type": "code",
      "metadata": {
        "colab": {
          "base_uri": "https://localhost:8080/",
          "height": 287
        },
        "id": "5EWitX1XN9Fj",
        "outputId": "3a040ea6-f18c-40f4-9c44-a4ea5ed77e67"
      },
      "source": [
        "import numpy as np\n",
        "import matplotlib.pyplot as plt\n",
        "\n",
        "#Create features\n",
        "x = np.array([-7.0, -4.0, -1.0, 2.0, 5.0, 8.0, 11.0, 14.0])\n",
        "\n",
        "# Create labels\n",
        "y = np.array([3.0, 6.0, 9.0, 12.0, 15.0, 18.0, 21.0, 24.0])\n",
        "\n",
        "#Visualize\n",
        "plt.scatter(x,y)"
      ],
      "execution_count": 3,
      "outputs": [
        {
          "output_type": "execute_result",
          "data": {
            "text/plain": [
              "<matplotlib.collections.PathCollection at 0x7f324d8bffd0>"
            ]
          },
          "metadata": {
            "tags": []
          },
          "execution_count": 3
        },
        {
          "output_type": "display_data",
          "data": {
            "image/png": "[encoded data removed]",
            "text/plain": [
              "<Figure size 432x288 with 1 Axes>"
            ]
          },
          "metadata": {
            "tags": [],
            "needs_background": "light"
          }
        }
      ]
    },
    {
      "cell_type": "markdown",
      "metadata": {
        "id": "nXQClVDgO0OI"
      },
      "source": [
        "##Input and Output shapes\n"
      ]
    },
    {
      "cell_type": "code",
      "metadata": {
        "id": "KM0HyZyTPNkO"
      },
      "source": [
        "#Create a demo tensor for our housing price prediction problem\n",
        " "
      ],
      "execution_count": null,
      "outputs": []
    }
  ]
}