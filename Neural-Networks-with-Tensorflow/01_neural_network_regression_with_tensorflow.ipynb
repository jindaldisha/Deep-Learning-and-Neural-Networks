{
  "nbformat": 4,
  "nbformat_minor": 0,
  "metadata": {
    "colab": {
      "name": "01_neural_network_regression_with_tensorflow.ipynb",
      "provenance": [],
      "collapsed_sections": [],
      "authorship_tag": "ABX9TyP66jGNKXTqnDDpZAsKayLJ",
      "include_colab_link": true
    },
    "kernelspec": {
      "display_name": "Python 3",
      "name": "python3"
    },
    "language_info": {
      "name": "python"
    }
  },
  "cells": [
    {
      "cell_type": "markdown",
      "metadata": {
        "id": "view-in-github",
        "colab_type": "text"
      },
      "source": [
        "<a href=\"https://colab.research.google.com/github/jindaldisha/Deep-Learning-and-Neural-Networks/blob/main/Neural-Networks-with-Tensorflow/01_neural_network_regression_with_tensorflow.ipynb\" target=\"_parent\"><img src=\"https://colab.research.google.com/assets/colab-badge.svg\" alt=\"Open In Colab\"/></a>"
      ]
    },
    {
      "cell_type": "markdown",
      "metadata": {
        "id": "4ayrcGmoY72-"
      },
      "source": [
        "# Neural Network Regression with Tensorflow"
      ]
    },
    {
      "cell_type": "markdown",
      "metadata": {
        "id": "dDI2UGQLZimu"
      },
      "source": [
        "Regression analysis is a set of statistical processes for estimating the relationships between a dependent variable (outcome variable/ labels) and one or more independent variables (features/ input variable).\n",
        "\n",
        "In a  regression problem, to put is simply, we predict numbers.\n",
        "\n",
        " \n"
      ]
    },
    {
      "cell_type": "markdown",
      "metadata": {
        "id": "an1yCB39dFUO"
      },
      "source": [
        "We're going to see how to take inputs (data), build a neural network to find patterns in those inputs and make predictions (in the form of numbers) based on those inputs."
      ]
    },
    {
      "cell_type": "markdown",
      "metadata": {
        "id": "qY4Lh1gLbs4i"
      },
      "source": [
        "Things to do:\n",
        "\n",
        "* Build an architecture of a neural network model\n",
        "* Input shapes (features) and output shapes (labels) of a regression model\n",
        "  - `x`: features/data (inputs)\n",
        "  - `y`: labels (outputs)\n",
        "* Creating custom data to view and fit\n",
        "* Steps in modelling:\n",
        " * Creating a Model\n",
        " * Compiling a Model\n",
        "    - Defining a loss function\n",
        "    - Setting up an optimizer\n",
        "    - Creating evaluation metrics\n",
        " * Fitting a Model (getting it to find patterns in our data)\n",
        " *  Visualizng the model\n",
        "  - Looking at training curves\n",
        "  - Compare predictions to ground truth (using our evaluation metrics)\n",
        "* Saving a model (so we can use it later)\n",
        "* Loading a model\n",
        "\n",
        "\n",
        "\n",
        " "
      ]
    },
    {
      "cell_type": "markdown",
      "metadata": {
        "id": "JLaPmS6Lgqxq"
      },
      "source": [
        "Say we have to predict the price of house and we're given the values of number of bedrooms, number of bathrooms etc. We have to numerically enocode these values. And these are the input variables i.e. the input features. These features go into our machine learning algorithm, and our algorithm will make a prediction of the price (the label that we're trying to calculate) based on the input features. This predicted output comes out of learning off of various actual outputs. This is an example of Supervised Learning. We might have hundreds of/or thousands of different homes with all of their input features and their actual sale price. And then we might feed these inputs and outputs to our machine learning algorithm and its going to learn the relationships between the features and labels.  \n",
        "   \n",
        "\n",
        "Steps: \n",
        " - Get data ready (turn into tensors)\n",
        " - Build or pick a pretrained model (to suit your problem)\n",
        " - Fit the model to the data and make a prediction\n",
        " - Evaluate the model\n",
        " - Improve through experimentation\n",
        " - Save and reload your trained model"
      ]
    },
    {
      "cell_type": "markdown",
      "metadata": {
        "id": "_kAvjFZwciDe"
      },
      "source": [
        " ## Anatomy of Neural Networks \n",
        "\n",
        " Every neural network has:\n",
        " - Input Layer (data goes in here)\n",
        " - Hidden Layer(s) (learns pattern in data) \n",
        " - Output Layer (outputs learned representation or prediction probabilites\n",
        "\n",
        "\n",
        "\n",
        "The more the number of hidden layers, the deeper the neural network is.\n",
        "\n",
        "\n",
        "## Architecture of Neural Networks\n",
        "\n",
        "| **Hyperparameter** | **Typical value** |\n",
        "| --- | --- |\n",
        "| Input layer shape | Same shape as number of features (e.g. 3 for # bedrooms, # bathrooms, # car spaces in housing price prediction) |\n",
        "| Hidden layer(s) | Problem specific, minimum = 1, maximum = unlimited |\n",
        "| Neurons per hidden layer | Problem specific, generally 10 to 100 |\n",
        "| Output layer shape | Same shape as desired prediction shape (e.g. 1 for house price) |\n",
        "| Hidden activation | Usually ReLU (rectified linear unit) |\n",
        "| Output activation | None, ReLU, logistic/tanh |\n",
        "| Loss function | MSE (mean absolute error)/Huber (combination of MAE/MSE) if outliers |\n",
        "| Optimizer | SGD (stochastic gradient descent), Adam |\n",
        "\n",
        "\n",
        " A **hyperparameter** in machine learning is something a data analyst or developer can set themselves, where as a **parameter** usually describes something a model learns on its own (a value not explicitly set by an analyst).\n",
        "\n",
        " The value of parameters depend on the value of hyperparameters.\n",
        "\n",
        " Loss function measures how wrong our neural network is i.e. how wrong the relations between the input and the output is, and then we optimize it (try to decrease the loss function) by using optimizers (SGD, Adam, etc.).\n",
        " It tells us how we can improve our model to reduce the loss function.\n",
        "\n",
        " And then we fit our model to the data."
      ]
    },
    {
      "cell_type": "code",
      "metadata": {
        "colab": {
          "base_uri": "https://localhost:8080/"
        },
        "id": "s1_1sMq9lOAT",
        "outputId": "9a5fc499-6d22-4483-a926-0016ba6330f6"
      },
      "source": [
        "#Import TensorFlow\n",
        "import tensorflow as tf\n",
        "print(tf.__version__)"
      ],
      "execution_count": 197,
      "outputs": [
        {
          "output_type": "stream",
          "text": [
            "2.5.0\n"
          ],
          "name": "stdout"
        }
      ]
    },
    {
      "cell_type": "markdown",
      "metadata": {
        "id": "MxEbdneDNytm"
      },
      "source": [
        "##Creating data to View and Fit"
      ]
    },
    {
      "cell_type": "code",
      "metadata": {
        "colab": {
          "base_uri": "https://localhost:8080/",
          "height": 287
        },
        "id": "5EWitX1XN9Fj",
        "outputId": "3a11679c-909b-4dbb-c50e-83d08aa57016"
      },
      "source": [
        "import numpy as np\n",
        "import matplotlib.pyplot as plt\n",
        "import pandas as pd\n",
        "\n",
        "#Create features\n",
        "x = np.array([-7.0, -4.0, -1.0, 2.0, 5.0, 8.0, 11.0, 14.0])\n",
        "\n",
        "# Create labels\n",
        "y = np.array([3.0, 6.0, 9.0, 12.0, 15.0, 18.0, 21.0, 24.0])\n",
        "\n",
        "#Visualize\n",
        "plt.scatter(x,y)"
      ],
      "execution_count": 198,
      "outputs": [
        {
          "output_type": "execute_result",
          "data": {
            "text/plain": [
              "<matplotlib.collections.PathCollection at 0x7f936bcb3c90>"
            ]
          },
          "metadata": {
            "tags": []
          },
          "execution_count": 198
        },
        {
          "output_type": "display_data",
          "data": {
            "image/png": "[encoded data removed]",
            "text/plain": [
              "<Figure size 432x288 with 1 Axes>"
            ]
          },
          "metadata": {
            "tags": [],
            "needs_background": "light"
          }
        }
      ]
    },
    {
      "cell_type": "markdown",
      "metadata": {
        "id": "nXQClVDgO0OI"
      },
      "source": [
        "##Input and Output shapes\n"
      ]
    },
    {
      "cell_type": "code",
      "metadata": {
        "colab": {
          "base_uri": "https://localhost:8080/"
        },
        "id": "KM0HyZyTPNkO",
        "outputId": "b0165a17-ba09-4d66-b03d-6f672b1c92ec"
      },
      "source": [
        "#Turning numpy arrays into tensors\n",
        "x = tf.cast(tf.constant(x), dtype=tf.float32)\n",
        "y = tf.cast(tf.constant(y), dtype=tf.float32)\n",
        "x, y"
      ],
      "execution_count": 199,
      "outputs": [
        {
          "output_type": "execute_result",
          "data": {
            "text/plain": [
              "(<tf.Tensor: shape=(8,), dtype=float32, numpy=array([-7., -4., -1.,  2.,  5.,  8., 11., 14.], dtype=float32)>,\n",
              " <tf.Tensor: shape=(8,), dtype=float32, numpy=array([ 3.,  6.,  9., 12., 15., 18., 21., 24.], dtype=float32)>)"
            ]
          },
          "metadata": {
            "tags": []
          },
          "execution_count": 199
        }
      ]
    },
    {
      "cell_type": "markdown",
      "metadata": {
        "id": "1kXrFQw0Ked4"
      },
      "source": [
        "##Steps in modelling with tensorflow\n",
        "\n",
        "1. **Creating a model** -  \n",
        "  - Define the input and output layers\n",
        "  - as well as the hidden layers of our neurl network\n",
        "\n",
        "2. **Compiling a model** - \n",
        "  - Define the loss function (it tells our model how wrong it is)\n",
        "  - and the optimizers (tells our model how to improve the pattern its learning by decreasing the loss function)\n",
        "  - and the evaluation metrices (we use to interpret the performance of our model)\n",
        "\n",
        "3. **Fitting the model** - \n",
        "  - Letting the model try to find patterns between x and y (features and labels)\n"
      ]
    },
    {
      "cell_type": "code",
      "metadata": {
        "colab": {
          "base_uri": "https://localhost:8080/"
        },
        "id": "_u-s6oH3KaYU",
        "outputId": "cdb2b6e9-c028-4937-9159-2b71a048bfec"
      },
      "source": [
        "# Set random seed (yeah i recognized the 42 reference in a hearbeat *nerd alert*)\n",
        "tf.random.set_seed(42)\n",
        "\n",
        "# 1. Create a model using the Sequential API\n",
        "#It basically means I want to make a model and i want you to sequentially go through the following\n",
        "model = tf.keras.Sequential([\n",
        "  tf.keras.layers.Dense(1) #Layer and the number of neurons it has                           \n",
        "])\n",
        "\n",
        "# 2. Compiling a Model\n",
        "model.compile(loss = tf.keras.losses.mae, #Calculating loss using mean absolute error\n",
        "                                          #It is the mean of the absolute of the difference between predicted and actual value\n",
        "              optimizer = tf.keras.optimizers.SGD(), # Calculate how to optimze our predictions\n",
        "                                                    # Stochastic Gradient Descent\n",
        "              metrics = [\"mae\"] #evaluation metrices\n",
        "              )\n",
        "\n",
        "#3 \n",
        "history = model.fit(x,y, epochs=5) #epochs is the number of iterations/laps"
      ],
      "execution_count": 200,
      "outputs": [
        {
          "output_type": "stream",
          "text": [
            "Epoch 1/5\n",
            "1/1 [==============================] - 0s 247ms/step - loss: 11.5048 - mae: 11.5048\n",
            "Epoch 2/5\n",
            "1/1 [==============================] - 0s 5ms/step - loss: 11.3723 - mae: 11.3723\n",
            "Epoch 3/5\n",
            "1/1 [==============================] - 0s 5ms/step - loss: 11.2398 - mae: 11.2398\n",
            "Epoch 4/5\n",
            "1/1 [==============================] - 0s 5ms/step - loss: 11.1073 - mae: 11.1073\n",
            "Epoch 5/5\n",
            "1/1 [==============================] - 0s 5ms/step - loss: 10.9748 - mae: 10.9748\n"
          ],
          "name": "stdout"
        }
      ]
    },
    {
      "cell_type": "code",
      "metadata": {
        "colab": {
          "base_uri": "https://localhost:8080/"
        },
        "id": "r_uFFgnfN5UF",
        "outputId": "f9b5c68a-f0db-4dab-821e-6309cad3a21e"
      },
      "source": [
        "x, y"
      ],
      "execution_count": 201,
      "outputs": [
        {
          "output_type": "execute_result",
          "data": {
            "text/plain": [
              "(<tf.Tensor: shape=(8,), dtype=float32, numpy=array([-7., -4., -1.,  2.,  5.,  8., 11., 14.], dtype=float32)>,\n",
              " <tf.Tensor: shape=(8,), dtype=float32, numpy=array([ 3.,  6.,  9., 12., 15., 18., 21., 24.], dtype=float32)>)"
            ]
          },
          "metadata": {
            "tags": []
          },
          "execution_count": 201
        }
      ]
    },
    {
      "cell_type": "code",
      "metadata": {
        "colab": {
          "base_uri": "https://localhost:8080/"
        },
        "id": "BHe50WEjT71b",
        "outputId": "dd8d5484-c95d-493a-93fa-bcdfa384647e"
      },
      "source": [
        "#Try and make a prediction using our model\n",
        "model.predict([17.0]) #About 15 off "
      ],
      "execution_count": 202,
      "outputs": [
        {
          "output_type": "execute_result",
          "data": {
            "text/plain": [
              "array([[12.716021]], dtype=float32)"
            ]
          },
          "metadata": {
            "tags": []
          },
          "execution_count": 202
        }
      ]
    },
    {
      "cell_type": "code",
      "metadata": {
        "colab": {
          "base_uri": "https://localhost:8080/",
          "height": 297
        },
        "id": "ixwcCYAWwhj2",
        "outputId": "6aa779d1-935a-48b9-d5d6-58f5361c2e6b"
      },
      "source": [
        "#Plot history (Loss Curve/ Training Curve)\n",
        "pd.DataFrame(history.history).plot()\n",
        "plt.ylabel(\"Loss\")\n",
        "plt.xlabel(\"Epochs\")"
      ],
      "execution_count": 203,
      "outputs": [
        {
          "output_type": "execute_result",
          "data": {
            "text/plain": [
              "Text(0.5, 0, 'Epochs')"
            ]
          },
          "metadata": {
            "tags": []
          },
          "execution_count": 203
        },
        {
          "output_type": "display_data",
          "data": {
            "image/png": "[encoded data removed]",
            "text/plain": [
              "<Figure size 432x288 with 1 Axes>"
            ]
          },
          "metadata": {
            "tags": [],
            "needs_background": "light"
          }
        }
      ]
    },
    {
      "cell_type": "markdown",
      "metadata": {
        "id": "RRKhhMmqVBxZ"
      },
      "source": [
        "## Improving our Model\n",
        " \n",
        " We can improve our model by tweaking and altering the steps we took to create the model.\n",
        "\n",
        " **Creating the model** - \n",
        "  - Add more layer\n",
        "  - Increase the number of hidden neurons withim each of the hidden layers\n",
        "  - Change the activation functions of each layer\n",
        "\n",
        "**Compiling the model** - \n",
        "  - Change the optimization function\n",
        "  - Change the learning rate of the said optimization function\n",
        "\n",
        "**Fitting the model** - \n",
        " - Let it learn for longer (increase the value of the epochs\n",
        " - Give the model more examples to learn from\n"
      ]
    },
    {
      "cell_type": "markdown",
      "metadata": {
        "id": "zdiZ6GT-X5wH"
      },
      "source": [
        "##Building a bigger model\n",
        "\n",
        "As compared to the previous model, we'll add more hidden layers and the number of neurons each hidden layer has. We'll also pass an activation function for each layer.\n",
        "\n",
        "We'll change the optimizer and also give it a learning rate (alpha).\n",
        "\n",
        "Smaller the value of alpha, the smaller the steps the optimizer takes. It might make the optimizer slow but it will give a more accurate result.\n",
        "\n",
        "If the learning rate is too large, our optimizer may never converge and even pass over the optimal value. \n",
        "\n",
        "The learning rate is the most important hyperparameter you can change to improve your model\n",
        "\n",
        "We'll increase the value of epochs and also increase the size of our dataset.\n"
      ]
    },
    {
      "cell_type": "code",
      "metadata": {
        "id": "V1z8I8vUUHQ_"
      },
      "source": [
        "#Let's rebuild our model\n",
        "#Changes from the previous one - (Increase the number of epochs - Train for longer)\n",
        "# 1. Create the model\n",
        "model = tf.keras.Sequential([\n",
        "                             tf.keras.layers.Dense(1)\n",
        "])\n",
        "\n",
        "# 2. Compiling the model\n",
        "model.compile(\n",
        "    loss = tf.keras.losses.mae,\n",
        "    optimizer = tf.keras.optimizers.SGD(),\n",
        "    metrics = [\"mae\"]\n",
        ")\n",
        "# 3. Fitting the model\n",
        "history = model.fit(x,y,epochs = 100, verbose=0)"
      ],
      "execution_count": 204,
      "outputs": []
    },
    {
      "cell_type": "code",
      "metadata": {
        "colab": {
          "base_uri": "https://localhost:8080/",
          "height": 297
        },
        "id": "2Rv4UWftwshW",
        "outputId": "efcc6479-7e3a-4a12-de5b-0e4d3a9643bb"
      },
      "source": [
        "#Plot history (Loss Curve/ Training Curve)\n",
        "pd.DataFrame(history.history).plot()\n",
        "plt.ylabel(\"Loss\")\n",
        "plt.xlabel(\"Epochs\")"
      ],
      "execution_count": 205,
      "outputs": [
        {
          "output_type": "execute_result",
          "data": {
            "text/plain": [
              "Text(0.5, 0, 'Epochs')"
            ]
          },
          "metadata": {
            "tags": []
          },
          "execution_count": 205
        },
        {
          "output_type": "display_data",
          "data": {
            "image/png": "[encoded data removed]",
            "text/plain": [
              "<Figure size 432x288 with 1 Axes>"
            ]
          },
          "metadata": {
            "tags": [],
            "needs_background": "light"
          }
        }
      ]
    },
    {
      "cell_type": "code",
      "metadata": {
        "colab": {
          "base_uri": "https://localhost:8080/"
        },
        "id": "gEdc5Z5MbJdF",
        "outputId": "60dfbe35-4a12-4d39-8901-721e82253949"
      },
      "source": [
        " x, y"
      ],
      "execution_count": 206,
      "outputs": [
        {
          "output_type": "execute_result",
          "data": {
            "text/plain": [
              "(<tf.Tensor: shape=(8,), dtype=float32, numpy=array([-7., -4., -1.,  2.,  5.,  8., 11., 14.], dtype=float32)>,\n",
              " <tf.Tensor: shape=(8,), dtype=float32, numpy=array([ 3.,  6.,  9., 12., 15., 18., 21., 24.], dtype=float32)>)"
            ]
          },
          "metadata": {
            "tags": []
          },
          "execution_count": 206
        }
      ]
    },
    {
      "cell_type": "code",
      "metadata": {
        "colab": {
          "base_uri": "https://localhost:8080/"
        },
        "id": "PzkvB49-buDT",
        "outputId": "4bb73a62-8c11-40fa-828a-d9f7771119a4"
      },
      "source": [
        "model.predict([17.0]) #Much closer than before, about 3 off"
      ],
      "execution_count": 207,
      "outputs": [
        {
          "output_type": "execute_result",
          "data": {
            "text/plain": [
              "array([[29.739855]], dtype=float32)"
            ]
          },
          "metadata": {
            "tags": []
          },
          "execution_count": 207
        }
      ]
    },
    {
      "cell_type": "code",
      "metadata": {
        "id": "ALKL0siXbwqg"
      },
      "source": [
        "#Changes from the previous one - (adding a hidden layer)\n",
        "\n",
        "# 1. Create the model\n",
        "model = tf.keras.Sequential([\n",
        "  tf.keras.layers.Dense(100, activation=\"relu\"),\n",
        "  tf.keras.layers.Dense(1)\n",
        "])\n",
        "\n",
        "# 2. Compile the model\n",
        "model.compile(\n",
        "    loss = \"mae\",\n",
        "    optimizer = tf.keras.optimizers.SGD(),\n",
        "    metrics = ([\"mae\"])\n",
        ")\n",
        "\n",
        "# 3. Fit the model\n",
        "history = model.fit(x, y, epochs = 100, verbose=0)"
      ],
      "execution_count": 208,
      "outputs": []
    },
    {
      "cell_type": "code",
      "metadata": {
        "colab": {
          "base_uri": "https://localhost:8080/",
          "height": 297
        },
        "id": "LA58N9wbwxXy",
        "outputId": "f3ac2819-e28f-47e4-c7f2-69c4e6bf3b82"
      },
      "source": [
        "#Plot history (Loss Curve/ Training Curve)\n",
        "pd.DataFrame(history.history).plot()\n",
        "plt.ylabel(\"Loss\")\n",
        "plt.xlabel(\"Epochs\")"
      ],
      "execution_count": 209,
      "outputs": [
        {
          "output_type": "execute_result",
          "data": {
            "text/plain": [
              "Text(0.5, 0, 'Epochs')"
            ]
          },
          "metadata": {
            "tags": []
          },
          "execution_count": 209
        },
        {
          "output_type": "display_data",
          "data": {
            "image/png": "[encoded data removed]",
            "text/plain": [
              "<Figure size 432x288 with 1 Axes>"
            ]
          },
          "metadata": {
            "tags": [],
            "needs_background": "light"
          }
        }
      ]
    },
    {
      "cell_type": "code",
      "metadata": {
        "colab": {
          "base_uri": "https://localhost:8080/"
        },
        "id": "mASfl9yXdTKq",
        "outputId": "64320f59-6794-45d8-f36e-fd920c78f7cc"
      },
      "source": [
        "x, y"
      ],
      "execution_count": 210,
      "outputs": [
        {
          "output_type": "execute_result",
          "data": {
            "text/plain": [
              "(<tf.Tensor: shape=(8,), dtype=float32, numpy=array([-7., -4., -1.,  2.,  5.,  8., 11., 14.], dtype=float32)>,\n",
              " <tf.Tensor: shape=(8,), dtype=float32, numpy=array([ 3.,  6.,  9., 12., 15., 18., 21., 24.], dtype=float32)>)"
            ]
          },
          "metadata": {
            "tags": []
          },
          "execution_count": 210
        }
      ]
    },
    {
      "cell_type": "code",
      "metadata": {
        "colab": {
          "base_uri": "https://localhost:8080/"
        },
        "id": "WYggXmirdUBO",
        "outputId": "4657c360-f617-4363-8204-9e68cc210da0"
      },
      "source": [
        "model.predict([17.0]) #Off by about 5, the previous one was better, our model has overfitted"
      ],
      "execution_count": 211,
      "outputs": [
        {
          "output_type": "execute_result",
          "data": {
            "text/plain": [
              "array([[31.223137]], dtype=float32)"
            ]
          },
          "metadata": {
            "tags": []
          },
          "execution_count": 211
        }
      ]
    },
    {
      "cell_type": "code",
      "metadata": {
        "colab": {
          "base_uri": "https://localhost:8080/"
        },
        "id": "4Gjbk9oEe4Nk",
        "outputId": "3374142b-3c7f-4863-e566-f04af62a8aa2"
      },
      "source": [
        "#Changes from the previous one - (change the activation function and the optimizer)\n",
        " \n",
        "# 1. Create a Model\n",
        "model = tf.keras.Sequential([\n",
        "  tf.keras.layers.Dense(100),\n",
        "  tf.keras.layers.Dense(1)\n",
        "])\n",
        "\n",
        "# 2. Compile the Model\n",
        "model.compile(\n",
        "    loss = \"mae\",\n",
        "    optimizer = tf.keras.optimizers.Adam(lr=0.01),\n",
        "    metrics = ([\"mae\"])\n",
        ")\n",
        "\n",
        "# 3. Fitting the Model\n",
        "history = model.fit(x, y, epochs=100, verbose=0)\n"
      ],
      "execution_count": 212,
      "outputs": [
        {
          "output_type": "stream",
          "text": [
            "/usr/local/lib/python3.7/dist-packages/tensorflow/python/keras/optimizer_v2/optimizer_v2.py:375: UserWarning: The `lr` argument is deprecated, use `learning_rate` instead.\n",
            "  \"The `lr` argument is deprecated, use `learning_rate` instead.\")\n"
          ],
          "name": "stderr"
        }
      ]
    },
    {
      "cell_type": "code",
      "metadata": {
        "colab": {
          "base_uri": "https://localhost:8080/",
          "height": 297
        },
        "id": "miR1IgJjw5WV",
        "outputId": "352178eb-40a5-488d-e4ca-60c39ee1296f"
      },
      "source": [
        "#Plot history (Loss Curve/ Training Curve)\n",
        "pd.DataFrame(history.history).plot()\n",
        "plt.ylabel(\"Loss\")\n",
        "plt.xlabel(\"Epochs\")"
      ],
      "execution_count": 213,
      "outputs": [
        {
          "output_type": "execute_result",
          "data": {
            "text/plain": [
              "Text(0.5, 0, 'Epochs')"
            ]
          },
          "metadata": {
            "tags": []
          },
          "execution_count": 213
        },
        {
          "output_type": "display_data",
          "data": {
            "image/png": "[encoded data removed]",
            "text/plain": [
              "<Figure size 432x288 with 1 Axes>"
            ]
          },
          "metadata": {
            "tags": [],
            "needs_background": "light"
          }
        }
      ]
    },
    {
      "cell_type": "code",
      "metadata": {
        "colab": {
          "base_uri": "https://localhost:8080/"
        },
        "id": "D3L6KNMmfNWO",
        "outputId": "0384952d-b34c-49de-c566-668db80742b3"
      },
      "source": [
        "x, y"
      ],
      "execution_count": 214,
      "outputs": [
        {
          "output_type": "execute_result",
          "data": {
            "text/plain": [
              "(<tf.Tensor: shape=(8,), dtype=float32, numpy=array([-7., -4., -1.,  2.,  5.,  8., 11., 14.], dtype=float32)>,\n",
              " <tf.Tensor: shape=(8,), dtype=float32, numpy=array([ 3.,  6.,  9., 12., 15., 18., 21., 24.], dtype=float32)>)"
            ]
          },
          "metadata": {
            "tags": []
          },
          "execution_count": 214
        }
      ]
    },
    {
      "cell_type": "code",
      "metadata": {
        "colab": {
          "base_uri": "https://localhost:8080/"
        },
        "id": "b7FLE2qpirEm",
        "outputId": "25abe439-8c69-4a37-ad86-f0cc3b71b403"
      },
      "source": [
        "model.predict([17.0]) #The best model so far"
      ],
      "execution_count": 215,
      "outputs": [
        {
          "output_type": "execute_result",
          "data": {
            "text/plain": [
              "array([[28.114773]], dtype=float32)"
            ]
          },
          "metadata": {
            "tags": []
          },
          "execution_count": 215
        }
      ]
    },
    {
      "cell_type": "markdown",
      "metadata": {
        "id": "o35J2ioNjYnu"
      },
      "source": [
        "##Evaluating a Model\n",
        "\n",
        "In practice, a typical workflow you'll go through when building a neural network is:\n",
        "\n",
        "Build a model -> fit it -> evaluate it -> tweak it -> fit it -> evaluate it .. and the cycle goes on. \n",
        "\n",
        "When evaluating a model, its a good idea to visualize:\n",
        " \n",
        "- The data (what data are we working with, what does it look like)\n",
        "- The model itself (what does our model look like)\n",
        "- The training of a model (how does a model perform while it learns)\n",
        "- The predictions (how do the predictions of a model line up against the original labels)"
      ]
    },
    {
      "cell_type": "code",
      "metadata": {
        "colab": {
          "base_uri": "https://localhost:8080/"
        },
        "id": "4VeUNq7Bitvn",
        "outputId": "d776fc73-1371-46e9-91ea-80e415119f1b"
      },
      "source": [
        "#Make a bigger dataset\n",
        "x = tf.range(-100, 100, 4)\n",
        "x"
      ],
      "execution_count": 216,
      "outputs": [
        {
          "output_type": "execute_result",
          "data": {
            "text/plain": [
              "<tf.Tensor: shape=(50,), dtype=int32, numpy=\n",
              "array([-100,  -96,  -92,  -88,  -84,  -80,  -76,  -72,  -68,  -64,  -60,\n",
              "        -56,  -52,  -48,  -44,  -40,  -36,  -32,  -28,  -24,  -20,  -16,\n",
              "        -12,   -8,   -4,    0,    4,    8,   12,   16,   20,   24,   28,\n",
              "         32,   36,   40,   44,   48,   52,   56,   60,   64,   68,   72,\n",
              "         76,   80,   84,   88,   92,   96], dtype=int32)>"
            ]
          },
          "metadata": {
            "tags": []
          },
          "execution_count": 216
        }
      ]
    },
    {
      "cell_type": "code",
      "metadata": {
        "colab": {
          "base_uri": "https://localhost:8080/"
        },
        "id": "pJXQb1dFBKCh",
        "outputId": "5fa09cd5-d522-458f-f2b9-b8f2f19c34c0"
      },
      "source": [
        "#Make labels for the dataset\n",
        "y = x + 10\n",
        "y"
      ],
      "execution_count": 217,
      "outputs": [
        {
          "output_type": "execute_result",
          "data": {
            "text/plain": [
              "<tf.Tensor: shape=(50,), dtype=int32, numpy=\n",
              "array([-90, -86, -82, -78, -74, -70, -66, -62, -58, -54, -50, -46, -42,\n",
              "       -38, -34, -30, -26, -22, -18, -14, -10,  -6,  -2,   2,   6,  10,\n",
              "        14,  18,  22,  26,  30,  34,  38,  42,  46,  50,  54,  58,  62,\n",
              "        66,  70,  74,  78,  82,  86,  90,  94,  98, 102, 106], dtype=int32)>"
            ]
          },
          "metadata": {
            "tags": []
          },
          "execution_count": 217
        }
      ]
    },
    {
      "cell_type": "code",
      "metadata": {
        "colab": {
          "base_uri": "https://localhost:8080/",
          "height": 283
        },
        "id": "nua2LvY9BU-5",
        "outputId": "d84e87bc-6ca1-4b42-ae95-936452183bbf"
      },
      "source": [
        "#Visualize the data\n",
        "import matplotlib.pyplot as plt\n",
        "plt.scatter(x, y)"
      ],
      "execution_count": 218,
      "outputs": [
        {
          "output_type": "execute_result",
          "data": {
            "text/plain": [
              "<matplotlib.collections.PathCollection at 0x7f936f6e43d0>"
            ]
          },
          "metadata": {
            "tags": []
          },
          "execution_count": 218
        },
        {
          "output_type": "display_data",
          "data": {
            "image/png": "[encoded data removed]",
            "text/plain": [
              "<Figure size 432x288 with 1 Axes>"
            ]
          },
          "metadata": {
            "tags": [],
            "needs_background": "light"
          }
        }
      ]
    },
    {
      "cell_type": "markdown",
      "metadata": {
        "id": "DxWSf1LEB_Eq"
      },
      "source": [
        "###The 3 sets\n",
        "- **Training Set** - The model learns from this data - typically 70 - 80 % of the total available data\n",
        "- **Validation Set** - The model is tweaked on this data - typically 10 - 15 % of the available data\n",
        "- **Testing Set** - The model is tested on this data - typically 10 - 15 % of available data\n",
        "\n",
        "\n",
        "If you want only two sets, you usually drop the validation set and do a 80 - 20 split between train and test. \n",
        "\n",
        "We want our model to be in an ideal state of **Generalization**. It is the ability of a model to perform well on data it hasn't seen before.  "
      ]
    },
    {
      "cell_type": "code",
      "metadata": {
        "colab": {
          "base_uri": "https://localhost:8080/"
        },
        "id": "vLu9-lQgDpXu",
        "outputId": "41e0b9ce-002c-4487-fdb9-7a0e391db1cc"
      },
      "source": [
        "#Length of sample data\n",
        "len(x)"
      ],
      "execution_count": 219,
      "outputs": [
        {
          "output_type": "execute_result",
          "data": {
            "text/plain": [
              "50"
            ]
          },
          "metadata": {
            "tags": []
          },
          "execution_count": 219
        }
      ]
    },
    {
      "cell_type": "code",
      "metadata": {
        "colab": {
          "base_uri": "https://localhost:8080/"
        },
        "id": "MvUU0iuCBjWq",
        "outputId": "2c8b1d8f-66a1-4fc6-9fe5-084d6a054661"
      },
      "source": [
        "#Splitting into train and test\n",
        "x_train = x[:40] #First 40 are training examples (80%)\n",
        "y_train = y[:40]\n",
        "x_test = x[40:] #Last 10 are testing examples (20%)\n",
        "y_test = y[40:]\n",
        "len(x_train), len(x_test), len(y_train), len(y_test)"
      ],
      "execution_count": 220,
      "outputs": [
        {
          "output_type": "execute_result",
          "data": {
            "text/plain": [
              "(40, 10, 40, 10)"
            ]
          },
          "metadata": {
            "tags": []
          },
          "execution_count": 220
        }
      ]
    },
    {
      "cell_type": "markdown",
      "metadata": {
        "id": "B_9E7tJKELRY"
      },
      "source": [
        "###Visualize the Data"
      ]
    },
    {
      "cell_type": "code",
      "metadata": {
        "colab": {
          "base_uri": "https://localhost:8080/",
          "height": 428
        },
        "id": "LliN_jnpE3d7",
        "outputId": "8a07d4bb-954d-4594-a302-a18ae87fa0f6"
      },
      "source": [
        "plt.figure(figsize=(10,7))\n",
        "#Training data in blue\n",
        "plt.scatter(x_train, y_train, c=\"b\", label = \"Training Data\")\n",
        "#Testing data in red\n",
        "plt.scatter(x_test, y_test, c=\"r\", label=\"Testing Data\")\n",
        "#Show legend\n",
        "plt.legend();"
      ],
      "execution_count": 221,
      "outputs": [
        {
          "output_type": "display_data",
          "data": {
            "image/png": "[encoded data removed]",
            "text/plain": [
              "<Figure size 720x504 with 1 Axes>"
            ]
          },
          "metadata": {
            "tags": [],
            "needs_background": "light"
          }
        }
      ]
    },
    {
      "cell_type": "code",
      "metadata": {
        "id": "DoupNpyvFZJ6"
      },
      "source": [
        "#Build Neural Network for our data\n",
        "# 1. Create a Model\n",
        "model = tf.keras.Sequential([\n",
        "    tf.keras.layers.Dense(1)                             \n",
        "])\n",
        "# 2. Compile the Model\n",
        "model.compile(\n",
        "    loss = tf.keras.losses.mae,\n",
        "    optimizer = tf.keras.optimizers.SGD(),\n",
        "    metrics = [\"mae\"]\n",
        ")\n",
        "# 3. Fit the Model\n",
        "# model.fit(x_train, y_train, epochs=100)"
      ],
      "execution_count": 222,
      "outputs": []
    },
    {
      "cell_type": "code",
      "metadata": {
        "id": "5GCwJJFcJmZG"
      },
      "source": [
        "#Create a model that builds automatically by defining the input shape argument in the first layer\n",
        "tf.random.set_seed(42)\n",
        "\n",
        "# 1. Create a model (same as above)\n",
        "model = tf.keras.Sequential([\n",
        "    tf.keras.layers.Dense(10, input_shape=[1], name = \"input_layer\"),\n",
        "    tf.keras.layers.Dense(1, name=\"output_layer\")                             \n",
        "], name = \"model_1\")\n",
        "\n",
        "#2. Compile the model\n",
        "model.compile(\n",
        "    loss = tf.keras.losses.mae,\n",
        "    optimizer = tf.keras.optimizers.SGD(),\n",
        "    metrics = [\"mae\"]\n",
        ")\n",
        "\n",
        "\n"
      ],
      "execution_count": 223,
      "outputs": []
    },
    {
      "cell_type": "code",
      "metadata": {
        "colab": {
          "base_uri": "https://localhost:8080/"
        },
        "id": "BIB7lZlX1t-D",
        "outputId": "143681a0-1de8-4f5d-92e8-c6e949eda6ac"
      },
      "source": [
        "model.summary()"
      ],
      "execution_count": 224,
      "outputs": [
        {
          "output_type": "stream",
          "text": [
            "Model: \"model_1\"\n",
            "_________________________________________________________________\n",
            "Layer (type)                 Output Shape              Param #   \n",
            "=================================================================\n",
            "input_layer (Dense)          (None, 10)                20        \n",
            "_________________________________________________________________\n",
            "output_layer (Dense)         (None, 1)                 11        \n",
            "=================================================================\n",
            "Total params: 31\n",
            "Trainable params: 31\n",
            "Non-trainable params: 0\n",
            "_________________________________________________________________\n"
          ],
          "name": "stdout"
        }
      ]
    },
    {
      "cell_type": "markdown",
      "metadata": {
        "id": "QjsKlKHO3tA1"
      },
      "source": [
        "- **Total params** - Total number of parameters in the model\n",
        "- **Trainable params** - The parameters (patterns) that the model can update\n",
        "- **Non-trainable param** - The parameters aren't updated during training. When say in future, we import a model that has already learned patterns in data, what we might do is freeze those learned patterns, so in that case we might have a whole bunch of non-trainable paramters to keep its existing pattern. This happens in Transfer learning."
      ]
    },
    {
      "cell_type": "code",
      "metadata": {
        "id": "rznwmKzu3cBJ"
      },
      "source": [
        " #3. Fit the model\n",
        "history = model.fit(x_train, y_train, epochs=100, verbose=0) #verbose = 0 doesn't show any output"
      ],
      "execution_count": 225,
      "outputs": []
    },
    {
      "cell_type": "code",
      "metadata": {
        "colab": {
          "base_uri": "https://localhost:8080/",
          "height": 297
        },
        "id": "13dmQ17fxDw-",
        "outputId": "c87ecad3-602b-4850-fc86-1a0b45fa503b"
      },
      "source": [
        "#Plot history (Loss Curve/ Training Curve)\n",
        "pd.DataFrame(history.history).plot()\n",
        "plt.ylabel(\"Loss\")\n",
        "plt.xlabel(\"Epochs\")"
      ],
      "execution_count": 226,
      "outputs": [
        {
          "output_type": "execute_result",
          "data": {
            "text/plain": [
              "Text(0.5, 0, 'Epochs')"
            ]
          },
          "metadata": {
            "tags": []
          },
          "execution_count": 226
        },
        {
          "output_type": "display_data",
          "data": {
            "image/png": "[encoded data removed]",
            "text/plain": [
              "<Figure size 432x288 with 1 Axes>"
            ]
          },
          "metadata": {
            "tags": [],
            "needs_background": "light"
          }
        }
      ]
    },
    {
      "cell_type": "code",
      "metadata": {
        "colab": {
          "base_uri": "https://localhost:8080/"
        },
        "id": "h8oB8CQo9B_x",
        "outputId": "8d65fcb2-85bc-4f42-cceb-59cfcd51e49a"
      },
      "source": [
        "model.summary()"
      ],
      "execution_count": 227,
      "outputs": [
        {
          "output_type": "stream",
          "text": [
            "Model: \"model_1\"\n",
            "_________________________________________________________________\n",
            "Layer (type)                 Output Shape              Param #   \n",
            "=================================================================\n",
            "input_layer (Dense)          (None, 10)                20        \n",
            "_________________________________________________________________\n",
            "output_layer (Dense)         (None, 1)                 11        \n",
            "=================================================================\n",
            "Total params: 31\n",
            "Trainable params: 31\n",
            "Non-trainable params: 0\n",
            "_________________________________________________________________\n"
          ],
          "name": "stdout"
        }
      ]
    },
    {
      "cell_type": "code",
      "metadata": {
        "colab": {
          "base_uri": "https://localhost:8080/",
          "height": 312
        },
        "id": "TuC3_4JZ9njl",
        "outputId": "8dd626a4-572a-40a8-a566-a1391c1dbc89"
      },
      "source": [
        "from tensorflow.keras.utils import plot_model\n",
        "#Converts a Keras model to dot format and save to a file.\n",
        "plot_model(model = model, show_shapes=True)"
      ],
      "execution_count": 228,
      "outputs": [
        {
          "output_type": "execute_result",
          "data": {
            "image/png": "[encoded data removed]",
            "text/plain": [
              "<IPython.core.display.Image object>"
            ]
          },
          "metadata": {
            "tags": []
          },
          "execution_count": 228
        }
      ]
    },
    {
      "cell_type": "markdown",
      "metadata": {
        "id": "3hLgJx4pDWOH"
      },
      "source": [
        "###Visualize Model's Preductions\n",
        "\n",
        "To visualize predictions, it's a good idea to plot them against the actual labels.\n",
        "\n",
        "Often it is seen in the form of y_test/y_true vs y_pred.\n",
        "\n",
        "In an ideal world, y_test == y_pred"
      ]
    },
    {
      "cell_type": "code",
      "metadata": {
        "colab": {
          "base_uri": "https://localhost:8080/"
        },
        "id": "0TacjOmxA1cw",
        "outputId": "b2cc2bd3-c65a-4c64-8d74-2364e9fcd769"
      },
      "source": [
        "#Make some predictions\n",
        "y_pred = model.predict(x_test)\n",
        "y_pred"
      ],
      "execution_count": 229,
      "outputs": [
        {
          "output_type": "execute_result",
          "data": {
            "text/plain": [
              "array([[ 70.55218 ],\n",
              "       [ 75.13991 ],\n",
              "       [ 79.72763 ],\n",
              "       [ 84.31535 ],\n",
              "       [ 88.903076],\n",
              "       [ 93.49081 ],\n",
              "       [ 98.07853 ],\n",
              "       [102.66625 ],\n",
              "       [107.253975],\n",
              "       [111.8417  ]], dtype=float32)"
            ]
          },
          "metadata": {
            "tags": []
          },
          "execution_count": 229
        }
      ]
    },
    {
      "cell_type": "code",
      "metadata": {
        "colab": {
          "base_uri": "https://localhost:8080/"
        },
        "id": "XYLxwAKFEI7k",
        "outputId": "312f87b0-ef1a-40bc-e1ec-c302b7b6370e"
      },
      "source": [
        "y_test"
      ],
      "execution_count": 230,
      "outputs": [
        {
          "output_type": "execute_result",
          "data": {
            "text/plain": [
              "<tf.Tensor: shape=(10,), dtype=int32, numpy=array([ 70,  74,  78,  82,  86,  90,  94,  98, 102, 106], dtype=int32)>"
            ]
          },
          "metadata": {
            "tags": []
          },
          "execution_count": 230
        }
      ]
    },
    {
      "cell_type": "code",
      "metadata": {
        "id": "UXT4dE4lEP22"
      },
      "source": [
        "#Plotting Function\n",
        "\n",
        "def plot_predictions(train_data = x_train,\n",
        "                     train_labels = y_train,\n",
        "                     test_data = x_test,\n",
        "                     test_labels = y_test,\n",
        "                     predictions = y_pred):\n",
        "  \"\"\"\n",
        "  Plot training data, test data and compares predictions to the actual labels.\n",
        "  \"\"\"\n",
        "  plt.figure(figsize=(9,7))\n",
        "  #Training data in blue\n",
        "  plt.scatter(train_data, train_labels, c=\"b\", label=\"Training Data\")\n",
        "  #Testing data in green\n",
        "  plt.scatter(test_data, test_labels, c=\"g\", label=\"Testing Data\")\n",
        "  #Predictions in red\n",
        "  plt.scatter(test_data, predictions, c=\"r\", label=\"Predictions\")\n",
        "  #Show Legends\n",
        "  plt.legend();"
      ],
      "execution_count": 231,
      "outputs": []
    },
    {
      "cell_type": "code",
      "metadata": {
        "colab": {
          "base_uri": "https://localhost:8080/",
          "height": 428
        },
        "id": "lJEJ3bW4GQRf",
        "outputId": "88a20da1-9929-44fa-e7c7-b3f7ac87d101"
      },
      "source": [
        "plot_predictions(train_data = x_train,\n",
        "                     train_labels = y_train,\n",
        "                     test_data = x_test,\n",
        "                     test_labels = y_test,\n",
        "                     predictions = y_pred)"
      ],
      "execution_count": 232,
      "outputs": [
        {
          "output_type": "display_data",
          "data": {
            "image/png": "[encoded data removed]",
            "text/plain": [
              "<Figure size 648x504 with 1 Axes>"
            ]
          },
          "metadata": {
            "tags": [],
            "needs_background": "light"
          }
        }
      ]
    },
    {
      "cell_type": "markdown",
      "metadata": {
        "id": "E6neBL01GXRk"
      },
      "source": [
        "###Evaluating our model's predictions with regression evaluation metrics\n",
        "\n",
        "\n",
        "The different evaluation metrics we use to evaluate our model's performance depend on the problem that we're working on.\n",
        "\n",
        "For regression, two of the main metrics are:\n",
        "- **MAE** - Mean Absolute Error - On average how wrong is each of the model's predictions. It is the average of the absolute of the difference between the actual value and the predicted value. It is agreat starter metric for any regression problem\n",
        "    - `tf.keras.losses.MAE()`\n",
        "    - `tf.metrics.mean_absolute_error()`\n",
        "- **MSE** - Mean Square Error - Square the average errors. It is the average of the square of the difference between the actual value and the predicted value. It is used when larger errors are more significant than smaller errors.\n",
        "    - `tf.keras.losses.MSE()`\n",
        "    - `tf.metrics.mean_squared_error()`\n",
        "- **Huber** - It is a combination of MSE and MAE. It is a less sensitive outliers than MSE.\n",
        "    - `tf.keras.losses.Huber()`\n",
        "\n",
        "- You can also use `model.evaluate()` which will return the loss of the model as well as any metrics setup during the compile step."
      ]
    },
    {
      "cell_type": "code",
      "metadata": {
        "colab": {
          "base_uri": "https://localhost:8080/"
        },
        "id": "7DEJUXlJGvgm",
        "outputId": "2fcee4aa-ecfd-48b9-b798-80fd53136b60"
      },
      "source": [
        "#Evaluate the model on the test set\n",
        "model.evaluate(x_test, y_test)"
      ],
      "execution_count": 233,
      "outputs": [
        {
          "output_type": "stream",
          "text": [
            "1/1 [==============================] - 0s 87ms/step - loss: 3.1969 - mae: 3.1969\n"
          ],
          "name": "stdout"
        },
        {
          "output_type": "execute_result",
          "data": {
            "text/plain": [
              "[3.196942090988159, 3.196942090988159]"
            ]
          },
          "metadata": {
            "tags": []
          },
          "execution_count": 233
        }
      ]
    },
    {
      "cell_type": "code",
      "metadata": {
        "colab": {
          "base_uri": "https://localhost:8080/"
        },
        "id": "VEfw_JBcN4Mm",
        "outputId": "be0c8c2c-2c58-435b-9b46-e6cf23f04259"
      },
      "source": [
        "#Making sure the shapes are same\n",
        "y_pred = tf.constant(y_pred,shape=(10,)) #We can also create the tensor then use tf.squeeze() to remove  the 1s in its shape\n",
        "y_test, y_pred"
      ],
      "execution_count": 234,
      "outputs": [
        {
          "output_type": "execute_result",
          "data": {
            "text/plain": [
              "(<tf.Tensor: shape=(10,), dtype=int32, numpy=array([ 70,  74,  78,  82,  86,  90,  94,  98, 102, 106], dtype=int32)>,\n",
              " <tf.Tensor: shape=(10,), dtype=float32, numpy=\n",
              " array([ 70.55218 ,  75.13991 ,  79.72763 ,  84.31535 ,  88.903076,\n",
              "         93.49081 ,  98.07853 , 102.66625 , 107.253975, 111.8417  ],\n",
              "       dtype=float32)>)"
            ]
          },
          "metadata": {
            "tags": []
          },
          "execution_count": 234
        }
      ]
    },
    {
      "cell_type": "code",
      "metadata": {
        "colab": {
          "base_uri": "https://localhost:8080/"
        },
        "id": "CKyl2KyIOUPN",
        "outputId": "ef88ec89-f6e0-4dbc-92f8-267fac8ac443"
      },
      "source": [
        "#Calculate the mean absolute error\n",
        "tf.metrics.mean_absolute_error(y_test, y_pred)\n",
        "# tf.keras.losses.mean_absolute_error(y_test, y_pred)"
      ],
      "execution_count": 235,
      "outputs": [
        {
          "output_type": "execute_result",
          "data": {
            "text/plain": [
              "<tf.Tensor: shape=(), dtype=float32, numpy=3.1969407>"
            ]
          },
          "metadata": {
            "tags": []
          },
          "execution_count": 235
        }
      ]
    },
    {
      "cell_type": "code",
      "metadata": {
        "colab": {
          "base_uri": "https://localhost:8080/"
        },
        "id": "p7n4Rc6HbSjQ",
        "outputId": "8ddf7a76-0504-4fe4-f0c2-a0e4bd93bcc8"
      },
      "source": [
        "(tf.reduce_sum(abs(tf.cast(y_test, dtype=tf.float32) - y_pred)))/10"
      ],
      "execution_count": 236,
      "outputs": [
        {
          "output_type": "execute_result",
          "data": {
            "text/plain": [
              "<tf.Tensor: shape=(), dtype=float32, numpy=3.1969407>"
            ]
          },
          "metadata": {
            "tags": []
          },
          "execution_count": 236
        }
      ]
    },
    {
      "cell_type": "code",
      "metadata": {
        "colab": {
          "base_uri": "https://localhost:8080/"
        },
        "id": "rNzVLZ9PO8mU",
        "outputId": "f7ed911e-0af1-4a17-d264-49db19b0292e"
      },
      "source": [
        "#Mean Square Error\n",
        "tf.metrics.mean_squared_error(y_test, y_pred)"
      ],
      "execution_count": 237,
      "outputs": [
        {
          "output_type": "execute_result",
          "data": {
            "text/plain": [
              "<tf.Tensor: shape=(), dtype=float32, numpy=13.070143>"
            ]
          },
          "metadata": {
            "tags": []
          },
          "execution_count": 237
        }
      ]
    },
    {
      "cell_type": "code",
      "metadata": {
        "colab": {
          "base_uri": "https://localhost:8080/"
        },
        "id": "1MtBAfUgVR_h",
        "outputId": "043a2075-d1b0-4c7b-c477-bb490bdda08e"
      },
      "source": [
        "# (tf.reduce_sum((y_pred - y_test)**2))/10\n",
        "(tf.reduce_sum((tf.cast(y_test, dtype=tf.float32) - y_pred)**2))/10"
      ],
      "execution_count": 238,
      "outputs": [
        {
          "output_type": "execute_result",
          "data": {
            "text/plain": [
              "<tf.Tensor: shape=(), dtype=float32, numpy=13.070143>"
            ]
          },
          "metadata": {
            "tags": []
          },
          "execution_count": 238
        }
      ]
    },
    {
      "cell_type": "code",
      "metadata": {
        "id": "RHcNuKA2XYeQ"
      },
      "source": [
        "#Functions for mae and mse\n",
        "\n",
        "def mae(y_test, y_pred):\n",
        "  y_pred = tf.constant(y_pred)\n",
        "  y_pred = tf.squeeze(y_pred)\n",
        "  return tf.metrics.mean_absolute_error(y_test, y_pred)\n",
        "\n",
        "def mse(y_test, y_pred):\n",
        "  y_pred = tf.constant(y_pred)\n",
        "  y_pred = tf.squeeze(y_pred)\n",
        "  return tf.metrics.mean_squared_error(y_test, y_pred)"
      ],
      "execution_count": 239,
      "outputs": []
    },
    {
      "cell_type": "markdown",
      "metadata": {
        "id": "7BBPe1G4dpjr"
      },
      "source": [
        "## Running Experiments to Improve our Model\n",
        "\n",
        "Ways to improve your model:\n",
        "\n",
        "1. Get more data - get more examples for your model to train on. It gives our model more opportunities to learn patterns and relationships between the features and labels.\n",
        "2. Make your model larger (use a more complex model) - add more layers or more hidden units in each layer.\n",
        "3. Train for longer - increase the value of epochs - give the model more chance to find patterns in the data.\n",
        "\n",
        "\n",
        "Modeling Experiments to do:\n",
        "- model_1 -> layers = 1, epochs = 100\n",
        "- model_2 -> layers = 2, epochs = 100\n",
        "- model_3 -> layers = 2, epochs = 500"
      ]
    },
    {
      "cell_type": "code",
      "metadata": {
        "colab": {
          "base_uri": "https://localhost:8080/"
        },
        "id": "P3icxHxOd_64",
        "outputId": "d64fb8be-1f4a-4f93-d4d2-53676b9187be"
      },
      "source": [
        "x_train, y_train"
      ],
      "execution_count": 240,
      "outputs": [
        {
          "output_type": "execute_result",
          "data": {
            "text/plain": [
              "(<tf.Tensor: shape=(40,), dtype=int32, numpy=\n",
              " array([-100,  -96,  -92,  -88,  -84,  -80,  -76,  -72,  -68,  -64,  -60,\n",
              "         -56,  -52,  -48,  -44,  -40,  -36,  -32,  -28,  -24,  -20,  -16,\n",
              "         -12,   -8,   -4,    0,    4,    8,   12,   16,   20,   24,   28,\n",
              "          32,   36,   40,   44,   48,   52,   56], dtype=int32)>,\n",
              " <tf.Tensor: shape=(40,), dtype=int32, numpy=\n",
              " array([-90, -86, -82, -78, -74, -70, -66, -62, -58, -54, -50, -46, -42,\n",
              "        -38, -34, -30, -26, -22, -18, -14, -10,  -6,  -2,   2,   6,  10,\n",
              "         14,  18,  22,  26,  30,  34,  38,  42,  46,  50,  54,  58,  62,\n",
              "         66], dtype=int32)>)"
            ]
          },
          "metadata": {
            "tags": []
          },
          "execution_count": 240
        }
      ]
    },
    {
      "cell_type": "code",
      "metadata": {
        "id": "VBvqwESiqvgq"
      },
      "source": [
        "#model_1\n",
        "\n",
        "tf.random.set_seed(42)\n",
        "\n",
        "# 1. Create the model\n",
        "model_1 = tf.keras.Sequential([\n",
        "    tf.keras.layers.Dense(1)                               \n",
        "])\n",
        "\n",
        "# 2. Compile the model\n",
        "model_1.compile(\n",
        "    loss = tf.keras.losses.mae,\n",
        "    optimizer = tf.keras.optimizers.SGD(),\n",
        "    metrics = [\"mae\"]\n",
        ")\n",
        "# 3. Fit the model\n",
        "\n",
        "history = model_1.fit(x_train, y_train, epochs=100, verbose=0)"
      ],
      "execution_count": 241,
      "outputs": []
    },
    {
      "cell_type": "code",
      "metadata": {
        "colab": {
          "base_uri": "https://localhost:8080/",
          "height": 297
        },
        "id": "pGCZ9vyqxLtf",
        "outputId": "932eaa3d-18cd-49bb-c9e9-56885f73a2c3"
      },
      "source": [
        "#Plot history (Loss Curve/ Training Curve)\n",
        "pd.DataFrame(history.history).plot()\n",
        "plt.ylabel(\"Loss\")\n",
        "plt.xlabel(\"Epochs\")"
      ],
      "execution_count": 242,
      "outputs": [
        {
          "output_type": "execute_result",
          "data": {
            "text/plain": [
              "Text(0.5, 0, 'Epochs')"
            ]
          },
          "metadata": {
            "tags": []
          },
          "execution_count": 242
        },
        {
          "output_type": "display_data",
          "data": {
            "image/png": "[encoded data removed]",
            "text/plain": [
              "<Figure size 432x288 with 1 Axes>"
            ]
          },
          "metadata": {
            "tags": [],
            "needs_background": "light"
          }
        }
      ]
    },
    {
      "cell_type": "code",
      "metadata": {
        "colab": {
          "base_uri": "https://localhost:8080/",
          "height": 428
        },
        "id": "8724TMiGr8cD",
        "outputId": "9bd6f9f9-8031-4d92-f226-6b4f7260006c"
      },
      "source": [
        "#Make and plot predictions for model_1\n",
        "y_pred_1 = model_1.predict(x_test)\n",
        "plot_predictions(predictions=y_pred_1)"
      ],
      "execution_count": 243,
      "outputs": [
        {
          "output_type": "display_data",
          "data": {
            "image/png": "[encoded data removed]",
            "text/plain": [
              "<Figure size 648x504 with 1 Axes>"
            ]
          },
          "metadata": {
            "tags": [],
            "needs_background": "light"
          }
        }
      ]
    },
    {
      "cell_type": "code",
      "metadata": {
        "colab": {
          "base_uri": "https://localhost:8080/"
        },
        "id": "wsJSsw-Ktpe4",
        "outputId": "4c3c6146-d1bc-4a8c-c7fc-76a252eaf56c"
      },
      "source": [
        "#Calculate model_1 evaluation metrics\n",
        "\n",
        "mae_1 = mae(y_test, y_pred_1)\n",
        "mse_1 = mse(y_test, y_pred_1)\n",
        "mae_1, mse_1"
      ],
      "execution_count": 244,
      "outputs": [
        {
          "output_type": "execute_result",
          "data": {
            "text/plain": [
              "(<tf.Tensor: shape=(), dtype=float32, numpy=18.745327>,\n",
              " <tf.Tensor: shape=(), dtype=float32, numpy=353.57336>)"
            ]
          },
          "metadata": {
            "tags": []
          },
          "execution_count": 244
        }
      ]
    },
    {
      "cell_type": "code",
      "metadata": {
        "id": "WjkVaDKbuQBt"
      },
      "source": [
        "#model_2\n",
        "tf.random.set_seed(42)\n",
        "# 1. Create a model\n",
        "model_2 = tf.keras.Sequential([\n",
        "    tf.keras.layers.Dense(10, name=\"input_layer\"),\n",
        "    tf.keras.layers.Dense(1, name=\"output_layer\")                               \n",
        "])\n",
        "\n",
        "# 2. Compile the model\n",
        "model_2.compile(\n",
        "    loss = tf.keras.losses.mae,\n",
        "    optimizer = tf.keras.optimizers.SGD(),\n",
        "    metrics = [\"mae\"]\n",
        ")\n",
        "\n",
        "# 3. Fit the model\n",
        "history = model_2.fit(x_train, y_train, epochs=100, verbose=0)"
      ],
      "execution_count": 245,
      "outputs": []
    },
    {
      "cell_type": "code",
      "metadata": {
        "colab": {
          "base_uri": "https://localhost:8080/",
          "height": 297
        },
        "id": "FGZy41SMxQf1",
        "outputId": "2c471591-1f4a-47c1-a2eb-b055661b5277"
      },
      "source": [
        "#Plot history (Loss Curve/ Training Curve)\n",
        "pd.DataFrame(history.history).plot()\n",
        "plt.ylabel(\"Loss\")\n",
        "plt.xlabel(\"Epochs\")"
      ],
      "execution_count": 246,
      "outputs": [
        {
          "output_type": "execute_result",
          "data": {
            "text/plain": [
              "Text(0.5, 0, 'Epochs')"
            ]
          },
          "metadata": {
            "tags": []
          },
          "execution_count": 246
        },
        {
          "output_type": "display_data",
          "data": {
            "image/png": "[encoded data removed]",
            "text/plain": [
              "<Figure size 432x288 with 1 Axes>"
            ]
          },
          "metadata": {
            "tags": [],
            "needs_background": "light"
          }
        }
      ]
    },
    {
      "cell_type": "code",
      "metadata": {
        "colab": {
          "base_uri": "https://localhost:8080/",
          "height": 428
        },
        "id": "UVWUlEWfE9QG",
        "outputId": "776c433e-e5c8-45f1-8efa-f2eab81bb7a5"
      },
      "source": [
        "#Make and plot predictions for model_2\n",
        "y_pred_2 = model_2.predict(x_test)\n",
        "plot_predictions(predictions = y_pred_2)"
      ],
      "execution_count": 247,
      "outputs": [
        {
          "output_type": "display_data",
          "data": {
            "image/png": "[encoded data removed]",
            "text/plain": [
              "<Figure size 648x504 with 1 Axes>"
            ]
          },
          "metadata": {
            "tags": [],
            "needs_background": "light"
          }
        }
      ]
    },
    {
      "cell_type": "code",
      "metadata": {
        "colab": {
          "base_uri": "https://localhost:8080/"
        },
        "id": "qK7iS0iDE92N",
        "outputId": "a1d78805-29e8-4f2e-8d5a-089ea68c50f7"
      },
      "source": [
        "#Evaluation metrics for model_2\n",
        "mae_2 = mae(y_test, y_pred_2)\n",
        "mse_2 = mse(y_test, y_pred_2)\n",
        "mae_2, mse_2"
      ],
      "execution_count": 248,
      "outputs": [
        {
          "output_type": "execute_result",
          "data": {
            "text/plain": [
              "(<tf.Tensor: shape=(), dtype=float32, numpy=3.1969407>,\n",
              " <tf.Tensor: shape=(), dtype=float32, numpy=13.070143>)"
            ]
          },
          "metadata": {
            "tags": []
          },
          "execution_count": 248
        }
      ]
    },
    {
      "cell_type": "code",
      "metadata": {
        "id": "JN1X5A-OGx_j"
      },
      "source": [
        "#model_3\n",
        "\n",
        "tf.random.set_seed(42)\n",
        "# 1. Create a model\n",
        "model_3 = tf.keras.Sequential([\n",
        "    tf.keras.layers.Dense(10),\n",
        "    tf.keras.layers.Dense(1)\n",
        "])\n",
        "# 2. Compile the model\n",
        "model_3.compile(\n",
        "    loss = tf.keras.losses.mae,\n",
        "    optimizer = tf.keras.optimizers.SGD(),\n",
        "    metrics = [\"mae\"]\n",
        ")\n",
        "# 3. Fit the model\n",
        "history = model_3.fit(x_train, y_train, epochs=500, verbose=0)"
      ],
      "execution_count": 249,
      "outputs": []
    },
    {
      "cell_type": "code",
      "metadata": {
        "colab": {
          "base_uri": "https://localhost:8080/",
          "height": 297
        },
        "id": "Ms_OaCiJxUVW",
        "outputId": "1a26d31a-bf73-4a94-8145-fe6b45934ccc"
      },
      "source": [
        "#Plot history (Loss Curve/ Training Curve)\n",
        "pd.DataFrame(history.history).plot()\n",
        "plt.ylabel(\"Loss\")\n",
        "plt.xlabel(\"Epochs\")"
      ],
      "execution_count": 250,
      "outputs": [
        {
          "output_type": "execute_result",
          "data": {
            "text/plain": [
              "Text(0.5, 0, 'Epochs')"
            ]
          },
          "metadata": {
            "tags": []
          },
          "execution_count": 250
        },
        {
          "output_type": "display_data",
          "data": {
            "image/png": "[encoded data removed]",
            "text/plain": [
              "<Figure size 432x288 with 1 Axes>"
            ]
          },
          "metadata": {
            "tags": [],
            "needs_background": "light"
          }
        }
      ]
    },
    {
      "cell_type": "code",
      "metadata": {
        "colab": {
          "base_uri": "https://localhost:8080/",
          "height": 428
        },
        "id": "gA-D2cTNL_Jo",
        "outputId": "5ccc0fa9-7c02-411d-db51-84518b186c6e"
      },
      "source": [
        "#Make and Plot predictions for model_3\n",
        "y_pred_3 = model_3.predict(x_test)\n",
        "plot_predictions(predictions = y_pred_3)"
      ],
      "execution_count": 251,
      "outputs": [
        {
          "output_type": "display_data",
          "data": {
            "image/png": "[encoded data removed]",
            "text/plain": [
              "<Figure size 648x504 with 1 Axes>"
            ]
          },
          "metadata": {
            "tags": [],
            "needs_background": "light"
          }
        }
      ]
    },
    {
      "cell_type": "code",
      "metadata": {
        "colab": {
          "base_uri": "https://localhost:8080/"
        },
        "id": "KILsgTYOMCBT",
        "outputId": "2bdcf084-523f-4ac1-bb9f-258bb6e081d0"
      },
      "source": [
        "#Evaluation metrics for model_3\n",
        "mae_3 = mae(y_test, y_pred_3)\n",
        "mse_3 = mse(y_test, y_pred_3)\n",
        "mae_3, mse_3   "
      ],
      "execution_count": 252,
      "outputs": [
        {
          "output_type": "execute_result",
          "data": {
            "text/plain": [
              "(<tf.Tensor: shape=(), dtype=float32, numpy=68.713615>,\n",
              " <tf.Tensor: shape=(), dtype=float32, numpy=4808.0273>)"
            ]
          },
          "metadata": {
            "tags": []
          },
          "execution_count": 252
        }
      ]
    },
    {
      "cell_type": "markdown",
      "metadata": {
        "id": "Z0UL0kK6QcP1"
      },
      "source": [
        "model_3 is an example of  overfitting - the model has learned the training data too well and isnt generalizing.\n",
        "\n",
        "\n",
        "Also when experimenting, start with small model and make sure they work and then move on to bigger more complex models."
      ]
    },
    {
      "cell_type": "markdown",
      "metadata": {
        "id": "PdDv1lQKNZ01"
      },
      "source": [
        "##Comparing results of different experiment models"
      ]
    },
    {
      "cell_type": "code",
      "metadata": {
        "colab": {
          "base_uri": "https://localhost:8080/",
          "height": 141
        },
        "id": "i-GMWgAcRp7Y",
        "outputId": "a17fb996-718a-4d8b-8841-a494bf948201"
      },
      "source": [
        "#Compare our model's results using a pandas DataFrame\n",
        "import pandas as pd\n",
        "\n",
        "model_results = [[\"model_1\", mae_1.numpy(), mse_1.numpy()],\n",
        "                 [\"model_2\", mae_2.numpy(), mse_2.numpy()],\n",
        "                 [\"model_3\", mae_3.numpy(), mse_3.numpy()]]\n",
        "all_results = pd.DataFrame(model_results, columns=[\"model\", \"mae\", \"mse\"])\n",
        "all_results"
      ],
      "execution_count": 253,
      "outputs": [
        {
          "output_type": "execute_result",
          "data": {
            "text/html": [
              "<div>\n",
              "<style scoped>\n",
              "    .dataframe tbody tr th:only-of-type {\n",
              "        vertical-align: middle;\n",
              "    }\n",
              "\n",
              "    .dataframe tbody tr th {\n",
              "        vertical-align: top;\n",
              "    }\n",
              "\n",
              "    .dataframe thead th {\n",
              "        text-align: right;\n",
              "    }\n",
              "</style>\n",
              "<table border=\"1\" class=\"dataframe\">\n",
              "  <thead>\n",
              "    <tr style=\"text-align: right;\">\n",
              "      <th></th>\n",
              "      <th>model</th>\n",
              "      <th>mae</th>\n",
              "      <th>mse</th>\n",
              "    </tr>\n",
              "  </thead>\n",
              "  <tbody>\n",
              "    <tr>\n",
              "      <th>0</th>\n",
              "      <td>model_1</td>\n",
              "      <td>18.745327</td>\n",
              "      <td>353.573364</td>\n",
              "    </tr>\n",
              "    <tr>\n",
              "      <th>1</th>\n",
              "      <td>model_2</td>\n",
              "      <td>3.196941</td>\n",
              "      <td>13.070143</td>\n",
              "    </tr>\n",
              "    <tr>\n",
              "      <th>2</th>\n",
              "      <td>model_3</td>\n",
              "      <td>68.713615</td>\n",
              "      <td>4808.027344</td>\n",
              "    </tr>\n",
              "  </tbody>\n",
              "</table>\n",
              "</div>"
            ],
            "text/plain": [
              "     model        mae          mse\n",
              "0  model_1  18.745327   353.573364\n",
              "1  model_2   3.196941    13.070143\n",
              "2  model_3  68.713615  4808.027344"
            ]
          },
          "metadata": {
            "tags": []
          },
          "execution_count": 253
        }
      ]
    },
    {
      "cell_type": "code",
      "metadata": {
        "colab": {
          "base_uri": "https://localhost:8080/"
        },
        "id": "jGNXN0wwSxtR",
        "outputId": "0e85a9d7-9a3f-4727-bef2-b95af7f3d644"
      },
      "source": [
        "#Model 2 perform the best\n",
        "model_2.summary()"
      ],
      "execution_count": 254,
      "outputs": [
        {
          "output_type": "stream",
          "text": [
            "Model: \"sequential_29\"\n",
            "_________________________________________________________________\n",
            "Layer (type)                 Output Shape              Param #   \n",
            "=================================================================\n",
            "input_layer (Dense)          (None, 10)                20        \n",
            "_________________________________________________________________\n",
            "output_layer (Dense)         (None, 1)                 11        \n",
            "=================================================================\n",
            "Total params: 31\n",
            "Trainable params: 31\n",
            "Non-trainable params: 0\n",
            "_________________________________________________________________\n"
          ],
          "name": "stdout"
        }
      ]
    },
    {
      "cell_type": "markdown",
      "metadata": {
        "id": "77O-60XKTtZ0"
      },
      "source": [
        "One of you main goals is to minimize time between each experiment. The more experiments you do, the more you'll figure what doesn't work, and in turn get closer to figuring out what does work."
      ]
    },
    {
      "cell_type": "markdown",
      "metadata": {
        "id": "p5r8eU-eTikw"
      },
      "source": [
        "##Tracking your experiments\n",
        "\n",
        "One really good habit is keeping track of your experiments.\n",
        "\n",
        "This can be done using:\n",
        "\n",
        "- TensorBoard - a component of the TensorFlow library to help track modelling experiments.\n",
        "- Weights & Biases - a tool for tracking all kinds of machine learning experiments (plugs straight into TensorBoard)"
      ]
    },
    {
      "cell_type": "markdown",
      "metadata": {
        "id": "5Hn_1pHvUS4T"
      },
      "source": [
        "##Saving our Models\n",
        "\n",
        "\n",
        "Saving a model allows us to use it outside of google colab (or wherever they were trained) such as in a web application or a mobile app.\n",
        "\n",
        "There are two main formats we can save our model in:\n",
        "- SavedModel Format \n",
        "    - tf (default)\n",
        "    - saves as a folder\n",
        "    - to load - tf.keras.models.load_model()\n",
        "- HDF5 Format (Hierarchical Data Format)\n",
        "    - .h5 extension\n",
        "    - saves as a single .h5 file\n",
        "    - to load - tf.keras.modes.load_model()\n"
      ]
    },
    {
      "cell_type": "code",
      "metadata": {
        "colab": {
          "base_uri": "https://localhost:8080/"
        },
        "id": "gInrb5D_VXlG",
        "outputId": "2977eef7-830c-49a6-c4e2-3d5fba266352"
      },
      "source": [
        "#Save model using SavedModel Format\n",
        "model_2.save(\"model_2_tf\")"
      ],
      "execution_count": 255,
      "outputs": [
        {
          "output_type": "stream",
          "text": [
            "INFO:tensorflow:Assets written to: model_2_tf/assets\n"
          ],
          "name": "stdout"
        }
      ]
    },
    {
      "cell_type": "code",
      "metadata": {
        "id": "V_tIq1qLW_QI"
      },
      "source": [
        "#Save model using HDF5 \n",
        "model_2.save(\"model_2_h5.h5\")"
      ],
      "execution_count": 256,
      "outputs": []
    },
    {
      "cell_type": "code",
      "metadata": {
        "colab": {
          "base_uri": "https://localhost:8080/"
        },
        "id": "bWcLvdABYaxB",
        "outputId": "3b2f61bd-63a7-4ce6-fce6-fa6245f10f06"
      },
      "source": [
        "##Checking the directory to make sure the model has been saved\n",
        "import os\n",
        "os.listdir('.')"
      ],
      "execution_count": 257,
      "outputs": [
        {
          "output_type": "execute_result",
          "data": {
            "text/plain": [
              "['.config', 'model_2_h5.h5', 'model.png', 'model_2_tf', 'sample_data']"
            ]
          },
          "metadata": {
            "tags": []
          },
          "execution_count": 257
        }
      ]
    },
    {
      "cell_type": "markdown",
      "metadata": {
        "id": "fyBNUw8WXrDI"
      },
      "source": [
        "##Loading in saved models\n"
      ]
    },
    {
      "cell_type": "code",
      "metadata": {
        "colab": {
          "base_uri": "https://localhost:8080/"
        },
        "id": "_JUY2McTZRrl",
        "outputId": "dc4b7cee-b0fb-4710-fa02-b2a6fc754c89"
      },
      "source": [
        "# Load in the SavedModel model\n",
        "model_tf = tf.keras.models.load_model('model_2_tf')\n",
        "model_tf.summary()"
      ],
      "execution_count": 258,
      "outputs": [
        {
          "output_type": "stream",
          "text": [
            "Model: \"sequential_29\"\n",
            "_________________________________________________________________\n",
            "Layer (type)                 Output Shape              Param #   \n",
            "=================================================================\n",
            "input_layer (Dense)          (None, 10)                20        \n",
            "_________________________________________________________________\n",
            "output_layer (Dense)         (None, 1)                 11        \n",
            "=================================================================\n",
            "Total params: 31\n",
            "Trainable params: 31\n",
            "Non-trainable params: 0\n",
            "_________________________________________________________________\n"
          ],
          "name": "stdout"
        }
      ]
    },
    {
      "cell_type": "code",
      "metadata": {
        "colab": {
          "base_uri": "https://localhost:8080/"
        },
        "id": "3SdKmVRdZtbG",
        "outputId": "39f43d3d-534e-45d3-d8f1-9df3e0860647"
      },
      "source": [
        "#Compare model_2 predictions with model_tf (SavedModel)\n",
        "\n",
        "model_2_pred = model_2.predict(x_test)\n",
        "model_tf_pred = model_tf.predict(x_test)\n",
        "mae(y_test, model_2_pred) == mae(y_test, model_tf_pred)"
      ],
      "execution_count": 259,
      "outputs": [
        {
          "output_type": "execute_result",
          "data": {
            "text/plain": [
              "<tf.Tensor: shape=(), dtype=bool, numpy=True>"
            ]
          },
          "metadata": {
            "tags": []
          },
          "execution_count": 259
        }
      ]
    },
    {
      "cell_type": "code",
      "metadata": {
        "colab": {
          "base_uri": "https://localhost:8080/"
        },
        "id": "jopppzfzZyqd",
        "outputId": "57c12fa3-604c-4ce5-b0fd-80e1701f4265"
      },
      "source": [
        "model_2_pred == model_tf_pred"
      ],
      "execution_count": 260,
      "outputs": [
        {
          "output_type": "execute_result",
          "data": {
            "text/plain": [
              "array([[ True],\n",
              "       [ True],\n",
              "       [ True],\n",
              "       [ True],\n",
              "       [ True],\n",
              "       [ True],\n",
              "       [ True],\n",
              "       [ True],\n",
              "       [ True],\n",
              "       [ True]])"
            ]
          },
          "metadata": {
            "tags": []
          },
          "execution_count": 260
        }
      ]
    },
    {
      "cell_type": "code",
      "metadata": {
        "colab": {
          "base_uri": "https://localhost:8080/"
        },
        "id": "mlGTwM5Xaip-",
        "outputId": "c9b2debc-21de-4a90-da11-02845926f643"
      },
      "source": [
        "#Load in the HDF5 Model\n",
        "model_h5 = tf.keras.models.load_model(\"model_2_h5.h5\")\n",
        "model_h5.summary()"
      ],
      "execution_count": 261,
      "outputs": [
        {
          "output_type": "stream",
          "text": [
            "Model: \"sequential_29\"\n",
            "_________________________________________________________________\n",
            "Layer (type)                 Output Shape              Param #   \n",
            "=================================================================\n",
            "input_layer (Dense)          (None, 10)                20        \n",
            "_________________________________________________________________\n",
            "output_layer (Dense)         (None, 1)                 11        \n",
            "=================================================================\n",
            "Total params: 31\n",
            "Trainable params: 31\n",
            "Non-trainable params: 0\n",
            "_________________________________________________________________\n"
          ],
          "name": "stdout"
        }
      ]
    },
    {
      "cell_type": "code",
      "metadata": {
        "colab": {
          "base_uri": "https://localhost:8080/"
        },
        "id": "43naW96RbCe5",
        "outputId": "394e5652-e663-48e1-ff23-23af1269f1c4"
      },
      "source": [
        "#Compare model_2 predictions with model_h5 (HDF5)\n",
        "\n",
        "model_2_pred = model_2.predict(x_test)\n",
        "model_h5_pred = model_h5.predict(x_test)\n",
        "mae(y_test, model_2_pred) == mae(y_test, model_h5_pred)"
      ],
      "execution_count": 262,
      "outputs": [
        {
          "output_type": "execute_result",
          "data": {
            "text/plain": [
              "<tf.Tensor: shape=(), dtype=bool, numpy=True>"
            ]
          },
          "metadata": {
            "tags": []
          },
          "execution_count": 262
        }
      ]
    },
    {
      "cell_type": "code",
      "metadata": {
        "colab": {
          "base_uri": "https://localhost:8080/"
        },
        "id": "Ho0VuCm_bLFN",
        "outputId": "1ba812dd-bd00-440a-8248-95c327e5a0d4"
      },
      "source": [
        "model_2_pred == model_h5_pred"
      ],
      "execution_count": 263,
      "outputs": [
        {
          "output_type": "execute_result",
          "data": {
            "text/plain": [
              "array([[ True],\n",
              "       [ True],\n",
              "       [ True],\n",
              "       [ True],\n",
              "       [ True],\n",
              "       [ True],\n",
              "       [ True],\n",
              "       [ True],\n",
              "       [ True],\n",
              "       [ True]])"
            ]
          },
          "metadata": {
            "tags": []
          },
          "execution_count": 263
        }
      ]
    },
    {
      "cell_type": "markdown",
      "metadata": {
        "id": "V1oi6Dp7bQRi"
      },
      "source": [
        "From above, we can see that the models were saved and loaded correctly."
      ]
    },
    {
      "cell_type": "markdown",
      "metadata": {
        "id": "UJaAKKgIcaKp"
      },
      "source": [
        "Note: To download a file from google colab\n",
        "\n",
        "`from google.colab import files`\n",
        "\n",
        "`files.download(file_path)`"
      ]
    },
    {
      "cell_type": "markdown",
      "metadata": {
        "id": "TFFifmMnhbTn"
      },
      "source": [
        "##Neural Network Regression For Insurance Forecast"
      ]
    },
    {
      "cell_type": "markdown",
      "metadata": {
        "id": "UaA619F5fKcX"
      },
      "source": [
        "\n",
        "Columns:\n",
        "\n",
        "- age: age of primary beneficiary\n",
        "\n",
        "- sex: insurance contractor gender, female, male\n",
        "\n",
        "- bmi: Body mass index, providing an understanding of body, weights that are relatively high or low relative to height,\n",
        "objective index of body weight (kg / m ^ 2) using the ratio of height to weight, ideally 18.5 to 24.9\n",
        "\n",
        "- children: Number of children covered by health insurance / Number of dependents\n",
        "\n",
        "- smoker: Smoking\n",
        "\n",
        "- region: the beneficiary's residential area in the US, northeast, southeast, southwest, northwest.\n",
        "\n",
        "- charges: Individual medical costs billed by health insurance"
      ]
    },
    {
      "cell_type": "markdown",
      "metadata": {
        "id": "VIS_TEWPfKgn"
      },
      "source": [
        "To find what someone's medical costs build by health insurance will be.\n",
        "\n",
        "We're using the features to predict a number (the cost of the insurance), therefore it is a regression problem.\n"
      ]
    },
    {
      "cell_type": "markdown",
      "metadata": {
        "id": "2O3-4c2ainK1"
      },
      "source": [
        " - The dependent variable (label) - charges\n",
        " - The independent variable (features) - age, sex, bmi, children, smoker, region\n"
      ]
    },
    {
      "cell_type": "markdown",
      "metadata": {
        "id": "G38UToLqiHXd"
      },
      "source": [
        "Steps:\n",
        "\n",
        "- Get data ready (turn into tensors)\n",
        "- Build or pick a pretrained model (to suit your problem)\n",
        "- Fit the model to the data and make a prediction\n",
        "- Evaluate the model\n",
        "- Improve through experimentation\n",
        "- Save and reload your trained model"
      ]
    },
    {
      "cell_type": "code",
      "metadata": {
        "id": "N6ln-yi5ezAx"
      },
      "source": [
        "#Import required libraries\n",
        "import tensorflow as tf\n",
        "import pandas as pd\n",
        "import matplotlib.pyplot as plt\n"
      ],
      "execution_count": 264,
      "outputs": []
    },
    {
      "cell_type": "code",
      "metadata": {
        "id": "eQ_2bwYihSmv"
      },
      "source": [
        "#Read in the insurance dataset\n",
        "insurance = pd.read_csv(\"https://raw.githubusercontent.com/stedy/Machine-Learning-with-R-datasets/master/insurance.csv\")"
      ],
      "execution_count": 265,
      "outputs": []
    },
    {
      "cell_type": "code",
      "metadata": {
        "colab": {
          "base_uri": "https://localhost:8080/",
          "height": 415
        },
        "id": "8ALFmM4xhYu0",
        "outputId": "b66cb26f-4ed3-47d9-c364-3769a95a4415"
      },
      "source": [
        "insurance"
      ],
      "execution_count": 266,
      "outputs": [
        {
          "output_type": "execute_result",
          "data": {
            "text/html": [
              "<div>\n",
              "<style scoped>\n",
              "    .dataframe tbody tr th:only-of-type {\n",
              "        vertical-align: middle;\n",
              "    }\n",
              "\n",
              "    .dataframe tbody tr th {\n",
              "        vertical-align: top;\n",
              "    }\n",
              "\n",
              "    .dataframe thead th {\n",
              "        text-align: right;\n",
              "    }\n",
              "</style>\n",
              "<table border=\"1\" class=\"dataframe\">\n",
              "  <thead>\n",
              "    <tr style=\"text-align: right;\">\n",
              "      <th></th>\n",
              "      <th>age</th>\n",
              "      <th>sex</th>\n",
              "      <th>bmi</th>\n",
              "      <th>children</th>\n",
              "      <th>smoker</th>\n",
              "      <th>region</th>\n",
              "      <th>charges</th>\n",
              "    </tr>\n",
              "  </thead>\n",
              "  <tbody>\n",
              "    <tr>\n",
              "      <th>0</th>\n",
              "      <td>19</td>\n",
              "      <td>female</td>\n",
              "      <td>27.900</td>\n",
              "      <td>0</td>\n",
              "      <td>yes</td>\n",
              "      <td>southwest</td>\n",
              "      <td>16884.92400</td>\n",
              "    </tr>\n",
              "    <tr>\n",
              "      <th>1</th>\n",
              "      <td>18</td>\n",
              "      <td>male</td>\n",
              "      <td>33.770</td>\n",
              "      <td>1</td>\n",
              "      <td>no</td>\n",
              "      <td>southeast</td>\n",
              "      <td>1725.55230</td>\n",
              "    </tr>\n",
              "    <tr>\n",
              "      <th>2</th>\n",
              "      <td>28</td>\n",
              "      <td>male</td>\n",
              "      <td>33.000</td>\n",
              "      <td>3</td>\n",
              "      <td>no</td>\n",
              "      <td>southeast</td>\n",
              "      <td>4449.46200</td>\n",
              "    </tr>\n",
              "    <tr>\n",
              "      <th>3</th>\n",
              "      <td>33</td>\n",
              "      <td>male</td>\n",
              "      <td>22.705</td>\n",
              "      <td>0</td>\n",
              "      <td>no</td>\n",
              "      <td>northwest</td>\n",
              "      <td>21984.47061</td>\n",
              "    </tr>\n",
              "    <tr>\n",
              "      <th>4</th>\n",
              "      <td>32</td>\n",
              "      <td>male</td>\n",
              "      <td>28.880</td>\n",
              "      <td>0</td>\n",
              "      <td>no</td>\n",
              "      <td>northwest</td>\n",
              "      <td>3866.85520</td>\n",
              "    </tr>\n",
              "    <tr>\n",
              "      <th>...</th>\n",
              "      <td>...</td>\n",
              "      <td>...</td>\n",
              "      <td>...</td>\n",
              "      <td>...</td>\n",
              "      <td>...</td>\n",
              "      <td>...</td>\n",
              "      <td>...</td>\n",
              "    </tr>\n",
              "    <tr>\n",
              "      <th>1333</th>\n",
              "      <td>50</td>\n",
              "      <td>male</td>\n",
              "      <td>30.970</td>\n",
              "      <td>3</td>\n",
              "      <td>no</td>\n",
              "      <td>northwest</td>\n",
              "      <td>10600.54830</td>\n",
              "    </tr>\n",
              "    <tr>\n",
              "      <th>1334</th>\n",
              "      <td>18</td>\n",
              "      <td>female</td>\n",
              "      <td>31.920</td>\n",
              "      <td>0</td>\n",
              "      <td>no</td>\n",
              "      <td>northeast</td>\n",
              "      <td>2205.98080</td>\n",
              "    </tr>\n",
              "    <tr>\n",
              "      <th>1335</th>\n",
              "      <td>18</td>\n",
              "      <td>female</td>\n",
              "      <td>36.850</td>\n",
              "      <td>0</td>\n",
              "      <td>no</td>\n",
              "      <td>southeast</td>\n",
              "      <td>1629.83350</td>\n",
              "    </tr>\n",
              "    <tr>\n",
              "      <th>1336</th>\n",
              "      <td>21</td>\n",
              "      <td>female</td>\n",
              "      <td>25.800</td>\n",
              "      <td>0</td>\n",
              "      <td>no</td>\n",
              "      <td>southwest</td>\n",
              "      <td>2007.94500</td>\n",
              "    </tr>\n",
              "    <tr>\n",
              "      <th>1337</th>\n",
              "      <td>61</td>\n",
              "      <td>female</td>\n",
              "      <td>29.070</td>\n",
              "      <td>0</td>\n",
              "      <td>yes</td>\n",
              "      <td>northwest</td>\n",
              "      <td>29141.36030</td>\n",
              "    </tr>\n",
              "  </tbody>\n",
              "</table>\n",
              "<p>1338 rows × 7 columns</p>\n",
              "</div>"
            ],
            "text/plain": [
              "      age     sex     bmi  children smoker     region      charges\n",
              "0      19  female  27.900         0    yes  southwest  16884.92400\n",
              "1      18    male  33.770         1     no  southeast   1725.55230\n",
              "2      28    male  33.000         3     no  southeast   4449.46200\n",
              "3      33    male  22.705         0     no  northwest  21984.47061\n",
              "4      32    male  28.880         0     no  northwest   3866.85520\n",
              "...   ...     ...     ...       ...    ...        ...          ...\n",
              "1333   50    male  30.970         3     no  northwest  10600.54830\n",
              "1334   18  female  31.920         0     no  northeast   2205.98080\n",
              "1335   18  female  36.850         0     no  southeast   1629.83350\n",
              "1336   21  female  25.800         0     no  southwest   2007.94500\n",
              "1337   61  female  29.070         0    yes  northwest  29141.36030\n",
              "\n",
              "[1338 rows x 7 columns]"
            ]
          },
          "metadata": {
            "tags": []
          },
          "execution_count": 266
        }
      ]
    },
    {
      "cell_type": "markdown",
      "metadata": {
        "id": "QnljS91wjVMX"
      },
      "source": [
        " Since some of the features are non-numerical, we have to first turn them into numbers."
      ]
    },
    {
      "cell_type": "code",
      "metadata": {
        "colab": {
          "base_uri": "https://localhost:8080/",
          "height": 222
        },
        "id": "SLBJRVySh1yR",
        "outputId": "584fb8de-df1a-418b-e1f0-4ff98d12a315"
      },
      "source": [
        "#One-hot encode our DataFrame (Numerical Encoding)\n",
        "\n",
        "insurance_one_hot = pd.get_dummies(insurance)\n",
        "insurance_one_hot.head()"
      ],
      "execution_count": 267,
      "outputs": [
        {
          "output_type": "execute_result",
          "data": {
            "text/html": [
              "<div>\n",
              "<style scoped>\n",
              "    .dataframe tbody tr th:only-of-type {\n",
              "        vertical-align: middle;\n",
              "    }\n",
              "\n",
              "    .dataframe tbody tr th {\n",
              "        vertical-align: top;\n",
              "    }\n",
              "\n",
              "    .dataframe thead th {\n",
              "        text-align: right;\n",
              "    }\n",
              "</style>\n",
              "<table border=\"1\" class=\"dataframe\">\n",
              "  <thead>\n",
              "    <tr style=\"text-align: right;\">\n",
              "      <th></th>\n",
              "      <th>age</th>\n",
              "      <th>bmi</th>\n",
              "      <th>children</th>\n",
              "      <th>charges</th>\n",
              "      <th>sex_female</th>\n",
              "      <th>sex_male</th>\n",
              "      <th>smoker_no</th>\n",
              "      <th>smoker_yes</th>\n",
              "      <th>region_northeast</th>\n",
              "      <th>region_northwest</th>\n",
              "      <th>region_southeast</th>\n",
              "      <th>region_southwest</th>\n",
              "    </tr>\n",
              "  </thead>\n",
              "  <tbody>\n",
              "    <tr>\n",
              "      <th>0</th>\n",
              "      <td>19</td>\n",
              "      <td>27.900</td>\n",
              "      <td>0</td>\n",
              "      <td>16884.92400</td>\n",
              "      <td>1</td>\n",
              "      <td>0</td>\n",
              "      <td>0</td>\n",
              "      <td>1</td>\n",
              "      <td>0</td>\n",
              "      <td>0</td>\n",
              "      <td>0</td>\n",
              "      <td>1</td>\n",
              "    </tr>\n",
              "    <tr>\n",
              "      <th>1</th>\n",
              "      <td>18</td>\n",
              "      <td>33.770</td>\n",
              "      <td>1</td>\n",
              "      <td>1725.55230</td>\n",
              "      <td>0</td>\n",
              "      <td>1</td>\n",
              "      <td>1</td>\n",
              "      <td>0</td>\n",
              "      <td>0</td>\n",
              "      <td>0</td>\n",
              "      <td>1</td>\n",
              "      <td>0</td>\n",
              "    </tr>\n",
              "    <tr>\n",
              "      <th>2</th>\n",
              "      <td>28</td>\n",
              "      <td>33.000</td>\n",
              "      <td>3</td>\n",
              "      <td>4449.46200</td>\n",
              "      <td>0</td>\n",
              "      <td>1</td>\n",
              "      <td>1</td>\n",
              "      <td>0</td>\n",
              "      <td>0</td>\n",
              "      <td>0</td>\n",
              "      <td>1</td>\n",
              "      <td>0</td>\n",
              "    </tr>\n",
              "    <tr>\n",
              "      <th>3</th>\n",
              "      <td>33</td>\n",
              "      <td>22.705</td>\n",
              "      <td>0</td>\n",
              "      <td>21984.47061</td>\n",
              "      <td>0</td>\n",
              "      <td>1</td>\n",
              "      <td>1</td>\n",
              "      <td>0</td>\n",
              "      <td>0</td>\n",
              "      <td>1</td>\n",
              "      <td>0</td>\n",
              "      <td>0</td>\n",
              "    </tr>\n",
              "    <tr>\n",
              "      <th>4</th>\n",
              "      <td>32</td>\n",
              "      <td>28.880</td>\n",
              "      <td>0</td>\n",
              "      <td>3866.85520</td>\n",
              "      <td>0</td>\n",
              "      <td>1</td>\n",
              "      <td>1</td>\n",
              "      <td>0</td>\n",
              "      <td>0</td>\n",
              "      <td>1</td>\n",
              "      <td>0</td>\n",
              "      <td>0</td>\n",
              "    </tr>\n",
              "  </tbody>\n",
              "</table>\n",
              "</div>"
            ],
            "text/plain": [
              "   age     bmi  children  ...  region_northwest  region_southeast  region_southwest\n",
              "0   19  27.900         0  ...                 0                 0                 1\n",
              "1   18  33.770         1  ...                 0                 1                 0\n",
              "2   28  33.000         3  ...                 0                 1                 0\n",
              "3   33  22.705         0  ...                 1                 0                 0\n",
              "4   32  28.880         0  ...                 1                 0                 0\n",
              "\n",
              "[5 rows x 12 columns]"
            ]
          },
          "metadata": {
            "tags": []
          },
          "execution_count": 267
        }
      ]
    },
    {
      "cell_type": "code",
      "metadata": {
        "id": "u36vsutqlA8z"
      },
      "source": [
        "#Create x and y (features and labels)\n",
        "x = insurance_one_hot.drop(\"charges\", axis = 1)\n",
        "y = insurance_one_hot[\"charges\"]"
      ],
      "execution_count": 268,
      "outputs": []
    },
    {
      "cell_type": "code",
      "metadata": {
        "colab": {
          "base_uri": "https://localhost:8080/",
          "height": 202
        },
        "id": "U9W0cv9RmaHv",
        "outputId": "2a2e6a8e-34e7-40cc-9f52-48327a44f2d9"
      },
      "source": [
        "#View x (features)\n",
        "x.head()"
      ],
      "execution_count": 269,
      "outputs": [
        {
          "output_type": "execute_result",
          "data": {
            "text/html": [
              "<div>\n",
              "<style scoped>\n",
              "    .dataframe tbody tr th:only-of-type {\n",
              "        vertical-align: middle;\n",
              "    }\n",
              "\n",
              "    .dataframe tbody tr th {\n",
              "        vertical-align: top;\n",
              "    }\n",
              "\n",
              "    .dataframe thead th {\n",
              "        text-align: right;\n",
              "    }\n",
              "</style>\n",
              "<table border=\"1\" class=\"dataframe\">\n",
              "  <thead>\n",
              "    <tr style=\"text-align: right;\">\n",
              "      <th></th>\n",
              "      <th>age</th>\n",
              "      <th>bmi</th>\n",
              "      <th>children</th>\n",
              "      <th>sex_female</th>\n",
              "      <th>sex_male</th>\n",
              "      <th>smoker_no</th>\n",
              "      <th>smoker_yes</th>\n",
              "      <th>region_northeast</th>\n",
              "      <th>region_northwest</th>\n",
              "      <th>region_southeast</th>\n",
              "      <th>region_southwest</th>\n",
              "    </tr>\n",
              "  </thead>\n",
              "  <tbody>\n",
              "    <tr>\n",
              "      <th>0</th>\n",
              "      <td>19</td>\n",
              "      <td>27.900</td>\n",
              "      <td>0</td>\n",
              "      <td>1</td>\n",
              "      <td>0</td>\n",
              "      <td>0</td>\n",
              "      <td>1</td>\n",
              "      <td>0</td>\n",
              "      <td>0</td>\n",
              "      <td>0</td>\n",
              "      <td>1</td>\n",
              "    </tr>\n",
              "    <tr>\n",
              "      <th>1</th>\n",
              "      <td>18</td>\n",
              "      <td>33.770</td>\n",
              "      <td>1</td>\n",
              "      <td>0</td>\n",
              "      <td>1</td>\n",
              "      <td>1</td>\n",
              "      <td>0</td>\n",
              "      <td>0</td>\n",
              "      <td>0</td>\n",
              "      <td>1</td>\n",
              "      <td>0</td>\n",
              "    </tr>\n",
              "    <tr>\n",
              "      <th>2</th>\n",
              "      <td>28</td>\n",
              "      <td>33.000</td>\n",
              "      <td>3</td>\n",
              "      <td>0</td>\n",
              "      <td>1</td>\n",
              "      <td>1</td>\n",
              "      <td>0</td>\n",
              "      <td>0</td>\n",
              "      <td>0</td>\n",
              "      <td>1</td>\n",
              "      <td>0</td>\n",
              "    </tr>\n",
              "    <tr>\n",
              "      <th>3</th>\n",
              "      <td>33</td>\n",
              "      <td>22.705</td>\n",
              "      <td>0</td>\n",
              "      <td>0</td>\n",
              "      <td>1</td>\n",
              "      <td>1</td>\n",
              "      <td>0</td>\n",
              "      <td>0</td>\n",
              "      <td>1</td>\n",
              "      <td>0</td>\n",
              "      <td>0</td>\n",
              "    </tr>\n",
              "    <tr>\n",
              "      <th>4</th>\n",
              "      <td>32</td>\n",
              "      <td>28.880</td>\n",
              "      <td>0</td>\n",
              "      <td>0</td>\n",
              "      <td>1</td>\n",
              "      <td>1</td>\n",
              "      <td>0</td>\n",
              "      <td>0</td>\n",
              "      <td>1</td>\n",
              "      <td>0</td>\n",
              "      <td>0</td>\n",
              "    </tr>\n",
              "  </tbody>\n",
              "</table>\n",
              "</div>"
            ],
            "text/plain": [
              "   age     bmi  children  ...  region_northwest  region_southeast  region_southwest\n",
              "0   19  27.900         0  ...                 0                 0                 1\n",
              "1   18  33.770         1  ...                 0                 1                 0\n",
              "2   28  33.000         3  ...                 0                 1                 0\n",
              "3   33  22.705         0  ...                 1                 0                 0\n",
              "4   32  28.880         0  ...                 1                 0                 0\n",
              "\n",
              "[5 rows x 11 columns]"
            ]
          },
          "metadata": {
            "tags": []
          },
          "execution_count": 269
        }
      ]
    },
    {
      "cell_type": "code",
      "metadata": {
        "colab": {
          "base_uri": "https://localhost:8080/"
        },
        "id": "5ANPqPUymjzI",
        "outputId": "701d4943-745c-4b23-b00c-8d2669799fd6"
      },
      "source": [
        "#View y (labels)\n",
        "y.head()"
      ],
      "execution_count": 270,
      "outputs": [
        {
          "output_type": "execute_result",
          "data": {
            "text/plain": [
              "0    16884.92400\n",
              "1     1725.55230\n",
              "2     4449.46200\n",
              "3    21984.47061\n",
              "4     3866.85520\n",
              "Name: charges, dtype: float64"
            ]
          },
          "metadata": {
            "tags": []
          },
          "execution_count": 270
        }
      ]
    },
    {
      "cell_type": "code",
      "metadata": {
        "id": "qXHorQRalii8"
      },
      "source": [
        "#Splitting into training and test set\n",
        "from sklearn.model_selection import train_test_split\n",
        "\n",
        "x_train, x_test, y_train, y_test = train_test_split(x, y, test_size=0.2, random_state=42)"
      ],
      "execution_count": 271,
      "outputs": []
    },
    {
      "cell_type": "code",
      "metadata": {
        "colab": {
          "base_uri": "https://localhost:8080/"
        },
        "id": "YsGtcXw1nVSU",
        "outputId": "08f7b82c-66bd-4b87-e6d4-a202cf07efa6"
      },
      "source": [
        "#Checking length\n",
        "len(x), len(x_train), len(x_test), len(y), len(y_train), len(y_test)"
      ],
      "execution_count": 272,
      "outputs": [
        {
          "output_type": "execute_result",
          "data": {
            "text/plain": [
              "(1338, 1070, 268, 1338, 1070, 268)"
            ]
          },
          "metadata": {
            "tags": []
          },
          "execution_count": 272
        }
      ]
    },
    {
      "cell_type": "code",
      "metadata": {
        "id": "3OkX4o06nnFS",
        "colab": {
          "base_uri": "https://localhost:8080/"
        },
        "outputId": "71b351ce-9de0-42cc-da8b-f793ad36345f"
      },
      "source": [
        "#Build a Neural Network\n",
        "#Set seed\n",
        "tf.random.set_seed(42)\n",
        "\n",
        "# 1. Create a Model\n",
        "insurance_model = tf.keras.Sequential([\n",
        "    tf.keras.layers.Dense(10, name=\"input_layer\"),\n",
        "    tf.keras.layers.Dense(1, name=\"output_layer\")                                       \n",
        "])\n",
        "# 2. Compile the Model\n",
        "insurance_model.compile(\n",
        "    loss = tf.keras.losses.mae,\n",
        "    optimizer = tf.keras.optimizers.SGD(),\n",
        "    metrics = [\"mae\"]\n",
        ")\n",
        "# 3. Fit the Model\n",
        "insurance_model.fit(x_train, y_train, epochs=100, verbose=0)"
      ],
      "execution_count": 273,
      "outputs": [
        {
          "output_type": "execute_result",
          "data": {
            "text/plain": [
              "<tensorflow.python.keras.callbacks.History at 0x7f936fcf8050>"
            ]
          },
          "metadata": {
            "tags": []
          },
          "execution_count": 273
        }
      ]
    },
    {
      "cell_type": "code",
      "metadata": {
        "colab": {
          "base_uri": "https://localhost:8080/"
        },
        "id": "D0vB3iivqojO",
        "outputId": "3821fa8a-cd9f-4673-8191-e64a91f41c83"
      },
      "source": [
        "#Check the results of the insurance model on the test data\n",
        "insurance_model.evaluate(x_test, y_test)"
      ],
      "execution_count": 274,
      "outputs": [
        {
          "output_type": "stream",
          "text": [
            "9/9 [==============================] - 0s 2ms/step - loss: 7023.3291 - mae: 7023.3291\n"
          ],
          "name": "stdout"
        },
        {
          "output_type": "execute_result",
          "data": {
            "text/plain": [
              "[7023.3291015625, 7023.3291015625]"
            ]
          },
          "metadata": {
            "tags": []
          },
          "execution_count": 274
        }
      ]
    },
    {
      "cell_type": "markdown",
      "metadata": {
        "id": "PpwckazrrSEO"
      },
      "source": [
        "Experimenting to improve our model's performance.\n",
        "To try to improve our model, we'll run the following experiments:\n",
        " - Add an extra layer and increase the number of hidden units and changing the optimizer.\n",
        " - Increase the value of epochs (train for longer)."
      ]
    },
    {
      "cell_type": "code",
      "metadata": {
        "id": "e1Rx8iN9rROu",
        "colab": {
          "base_uri": "https://localhost:8080/"
        },
        "outputId": "54391c84-c605-46c7-b070-3ecebd543cb4"
      },
      "source": [
        "#Change from the previous model - increase the number of layers and hidden units\n",
        "#Set seed\n",
        "tf.random.set_seed(42)\n",
        "\n",
        "# 1. Create a Model\n",
        "insurance_model_2 = tf.keras.Sequential([\n",
        "    tf.keras.layers.Dense(100),\n",
        "    tf.keras.layers.Dense(10),\n",
        "    tf.keras.layers.Dense(1)                                       \n",
        "])\n",
        "# 2. Compile the Model\n",
        "insurance_model_2.compile(\n",
        "    loss = tf.keras.losses.mae,\n",
        "    optimizer = tf.keras.optimizers.Adam(),\n",
        "    metrics = [\"mae\"]\n",
        ")\n",
        "# 3. Fit the Model\n",
        "insurance_model_2.fit(x_train, y_train, epochs=100, verbose=0)"
      ],
      "execution_count": 275,
      "outputs": [
        {
          "output_type": "execute_result",
          "data": {
            "text/plain": [
              "<tensorflow.python.keras.callbacks.History at 0x7f936efea1d0>"
            ]
          },
          "metadata": {
            "tags": []
          },
          "execution_count": 275
        }
      ]
    },
    {
      "cell_type": "code",
      "metadata": {
        "colab": {
          "base_uri": "https://localhost:8080/"
        },
        "id": "fp85Va3gscRh",
        "outputId": "b2af5197-4fd1-4c79-880e-36581fe55883"
      },
      "source": [
        "#Check the results of the insurance model on the test data\n",
        "insurance_model_2.evaluate(x_test, y_test)"
      ],
      "execution_count": 276,
      "outputs": [
        {
          "output_type": "stream",
          "text": [
            "9/9 [==============================] - 0s 2ms/step - loss: 4924.4961 - mae: 4924.4961\n"
          ],
          "name": "stdout"
        },
        {
          "output_type": "execute_result",
          "data": {
            "text/plain": [
              "[4924.49609375, 4924.49609375]"
            ]
          },
          "metadata": {
            "tags": []
          },
          "execution_count": 276
        }
      ]
    },
    {
      "cell_type": "code",
      "metadata": {
        "id": "Ujc1yf1htvMJ"
      },
      "source": [
        "#Change from the previous model - train for longer\n",
        "#Set seed\n",
        "tf.random.set_seed(42)\n",
        "\n",
        "# 1. Create a Model\n",
        "insurance_model_3 = tf.keras.Sequential([\n",
        "    tf.keras.layers.Dense(100),\n",
        "    tf.keras.layers.Dense(10),\n",
        "    tf.keras.layers.Dense(1)                                       \n",
        "])\n",
        "# 2. Compile the Model\n",
        "insurance_model_3.compile(\n",
        "    loss = tf.keras.losses.mae,\n",
        "    optimizer = tf.keras.optimizers.Adam(),\n",
        "    metrics = [\"mae\"]\n",
        ")\n",
        "# 3. Fit the Model\n",
        "history = insurance_model_3.fit(x_train, y_train, epochs=200, verbose=0)"
      ],
      "execution_count": 277,
      "outputs": []
    },
    {
      "cell_type": "code",
      "metadata": {
        "colab": {
          "base_uri": "https://localhost:8080/"
        },
        "id": "7C8AVvoLt43U",
        "outputId": "46a1d46a-c98c-4e4b-c150-9bec898743a6"
      },
      "source": [
        "#Check the results of the insurance model on the test data\n",
        "insurance_model_3.evaluate(x_test, y_test)"
      ],
      "execution_count": 278,
      "outputs": [
        {
          "output_type": "stream",
          "text": [
            "9/9 [==============================] - 0s 2ms/step - loss: 3488.7854 - mae: 3488.7854\n"
          ],
          "name": "stdout"
        },
        {
          "output_type": "execute_result",
          "data": {
            "text/plain": [
              "[3488.785400390625, 3488.785400390625]"
            ]
          },
          "metadata": {
            "tags": []
          },
          "execution_count": 278
        }
      ]
    },
    {
      "cell_type": "code",
      "metadata": {
        "colab": {
          "base_uri": "https://localhost:8080/",
          "height": 297
        },
        "id": "LKZYlKKjuU2m",
        "outputId": "206d9ab2-d77a-446d-bdc8-b576674cc32e"
      },
      "source": [
        "#Plot history (Loss Curve/ Training Curve)\n",
        "pd.DataFrame(history.history).plot()\n",
        "plt.ylabel(\"Loss\")\n",
        "plt.xlabel(\"Epochs\")"
      ],
      "execution_count": 279,
      "outputs": [
        {
          "output_type": "execute_result",
          "data": {
            "text/plain": [
              "Text(0.5, 0, 'Epochs')"
            ]
          },
          "metadata": {
            "tags": []
          },
          "execution_count": 279
        },
        {
          "output_type": "display_data",
          "data": {
            "image/png": "[encoded data removed]",
            "text/plain": [
              "<Figure size 432x288 with 1 Axes>"
            ]
          },
          "metadata": {
            "tags": [],
            "needs_background": "light"
          }
        }
      ]
    },
    {
      "cell_type": "markdown",
      "metadata": {
        "id": "0jObBI5-xc-9"
      },
      "source": [
        "How long should you train your model for?\n",
        "\n",
        "It depends on the problem that we're working on.\n",
        "However, there is a tensorflow component called `EarlyStopping Callback`,\n",
        "which you can add to your model to stop training once it stops improving."
      ]
    },
    {
      "cell_type": "markdown",
      "metadata": {
        "id": "ZL8sXrAx4oir"
      },
      "source": [
        "##Preprocessing Data (Normalization and Standardization)"
      ]
    },
    {
      "cell_type": "markdown",
      "metadata": {
        "id": "QmqqLkQMpGqU"
      },
      "source": [
        "There is one step that we can use to improve the preprocessing of our data.\n",
        "\n",
        "A common practice when working with neural networks is to make sure all of the data you pass to them is in the range 0 to 1.\n",
        "\n",
        "This practice is called **normalization** (scaling all values from their original range to, e.g. between 0 and 100,000 to be between 0 and 1).\n",
        "\n",
        "There is another process call **standardization** which converts all of your data to unit variance and 0 mean.\n",
        "\n",
        "These two practices are often part of a preprocessing pipeline (a series of functions to prepare your data for use with neural networks).\n",
        "\n",
        "\n",
        "The first step of modelling with Tensorflow is Preprocessing. It includes:\n",
        "- Turning all the data into numbers (neural networks cannot handle strings)\n",
        "- Make sure all of your tensors are the right shape.\n",
        "- Scale features (normalize or standardize, neural networks tend to prefer normalization)\n",
        "    - The goal of normalization is to change the values of numeric columsn in the dataset to a common scale, without distorting differences in the range of values. Normalizing data (making sure all values are between 0 and 1). This is done by subtracting the minimum value then dividing by the maximum value minus the minmum. This is also referred to as min-max scaling.\n",
        "    - Standardization (making sure all values have a mean of 0 and a variance of 1). This is done by substracting the mean value from the target feature and then dividing it by the standard deviation.\n",
        "\n",
        "| **Scaling Type** | **What it does** | **Scikit-Learn-Function** | **When to use** |\n",
        "| --- | -- | -- | -- |\n",
        "|Scale (also referred to as normalisation) | Converts all values to between 0 and 1 <br>whilst preserving the original distribution. | MinMaxScaler | Use as default scaler with neural networks. |\n",
        "| Standardization | Removes the mean and divides by the standard deviation | StandardScaler | Transform a feature to have close to normal distribution <br>(caution: this reduces the effect of outliers). |\n",
        "\n",
        "\n",
        "Many machine learning algorithms perform better or converge faster when the features are on a relatively similar scale and/or close to normally distributed.  \n"
      ]
    },
    {
      "cell_type": "code",
      "metadata": {
        "colab": {
          "base_uri": "https://localhost:8080/",
          "height": 415
        },
        "id": "e_yu8qr7cHSk",
        "outputId": "a3e391df-7c99-4d8a-e38f-ab0b38d4e3a2"
      },
      "source": [
        "insurance"
      ],
      "execution_count": 280,
      "outputs": [
        {
          "output_type": "execute_result",
          "data": {
            "text/html": [
              "<div>\n",
              "<style scoped>\n",
              "    .dataframe tbody tr th:only-of-type {\n",
              "        vertical-align: middle;\n",
              "    }\n",
              "\n",
              "    .dataframe tbody tr th {\n",
              "        vertical-align: top;\n",
              "    }\n",
              "\n",
              "    .dataframe thead th {\n",
              "        text-align: right;\n",
              "    }\n",
              "</style>\n",
              "<table border=\"1\" class=\"dataframe\">\n",
              "  <thead>\n",
              "    <tr style=\"text-align: right;\">\n",
              "      <th></th>\n",
              "      <th>age</th>\n",
              "      <th>sex</th>\n",
              "      <th>bmi</th>\n",
              "      <th>children</th>\n",
              "      <th>smoker</th>\n",
              "      <th>region</th>\n",
              "      <th>charges</th>\n",
              "    </tr>\n",
              "  </thead>\n",
              "  <tbody>\n",
              "    <tr>\n",
              "      <th>0</th>\n",
              "      <td>19</td>\n",
              "      <td>female</td>\n",
              "      <td>27.900</td>\n",
              "      <td>0</td>\n",
              "      <td>yes</td>\n",
              "      <td>southwest</td>\n",
              "      <td>16884.92400</td>\n",
              "    </tr>\n",
              "    <tr>\n",
              "      <th>1</th>\n",
              "      <td>18</td>\n",
              "      <td>male</td>\n",
              "      <td>33.770</td>\n",
              "      <td>1</td>\n",
              "      <td>no</td>\n",
              "      <td>southeast</td>\n",
              "      <td>1725.55230</td>\n",
              "    </tr>\n",
              "    <tr>\n",
              "      <th>2</th>\n",
              "      <td>28</td>\n",
              "      <td>male</td>\n",
              "      <td>33.000</td>\n",
              "      <td>3</td>\n",
              "      <td>no</td>\n",
              "      <td>southeast</td>\n",
              "      <td>4449.46200</td>\n",
              "    </tr>\n",
              "    <tr>\n",
              "      <th>3</th>\n",
              "      <td>33</td>\n",
              "      <td>male</td>\n",
              "      <td>22.705</td>\n",
              "      <td>0</td>\n",
              "      <td>no</td>\n",
              "      <td>northwest</td>\n",
              "      <td>21984.47061</td>\n",
              "    </tr>\n",
              "    <tr>\n",
              "      <th>4</th>\n",
              "      <td>32</td>\n",
              "      <td>male</td>\n",
              "      <td>28.880</td>\n",
              "      <td>0</td>\n",
              "      <td>no</td>\n",
              "      <td>northwest</td>\n",
              "      <td>3866.85520</td>\n",
              "    </tr>\n",
              "    <tr>\n",
              "      <th>...</th>\n",
              "      <td>...</td>\n",
              "      <td>...</td>\n",
              "      <td>...</td>\n",
              "      <td>...</td>\n",
              "      <td>...</td>\n",
              "      <td>...</td>\n",
              "      <td>...</td>\n",
              "    </tr>\n",
              "    <tr>\n",
              "      <th>1333</th>\n",
              "      <td>50</td>\n",
              "      <td>male</td>\n",
              "      <td>30.970</td>\n",
              "      <td>3</td>\n",
              "      <td>no</td>\n",
              "      <td>northwest</td>\n",
              "      <td>10600.54830</td>\n",
              "    </tr>\n",
              "    <tr>\n",
              "      <th>1334</th>\n",
              "      <td>18</td>\n",
              "      <td>female</td>\n",
              "      <td>31.920</td>\n",
              "      <td>0</td>\n",
              "      <td>no</td>\n",
              "      <td>northeast</td>\n",
              "      <td>2205.98080</td>\n",
              "    </tr>\n",
              "    <tr>\n",
              "      <th>1335</th>\n",
              "      <td>18</td>\n",
              "      <td>female</td>\n",
              "      <td>36.850</td>\n",
              "      <td>0</td>\n",
              "      <td>no</td>\n",
              "      <td>southeast</td>\n",
              "      <td>1629.83350</td>\n",
              "    </tr>\n",
              "    <tr>\n",
              "      <th>1336</th>\n",
              "      <td>21</td>\n",
              "      <td>female</td>\n",
              "      <td>25.800</td>\n",
              "      <td>0</td>\n",
              "      <td>no</td>\n",
              "      <td>southwest</td>\n",
              "      <td>2007.94500</td>\n",
              "    </tr>\n",
              "    <tr>\n",
              "      <th>1337</th>\n",
              "      <td>61</td>\n",
              "      <td>female</td>\n",
              "      <td>29.070</td>\n",
              "      <td>0</td>\n",
              "      <td>yes</td>\n",
              "      <td>northwest</td>\n",
              "      <td>29141.36030</td>\n",
              "    </tr>\n",
              "  </tbody>\n",
              "</table>\n",
              "<p>1338 rows × 7 columns</p>\n",
              "</div>"
            ],
            "text/plain": [
              "      age     sex     bmi  children smoker     region      charges\n",
              "0      19  female  27.900         0    yes  southwest  16884.92400\n",
              "1      18    male  33.770         1     no  southeast   1725.55230\n",
              "2      28    male  33.000         3     no  southeast   4449.46200\n",
              "3      33    male  22.705         0     no  northwest  21984.47061\n",
              "4      32    male  28.880         0     no  northwest   3866.85520\n",
              "...   ...     ...     ...       ...    ...        ...          ...\n",
              "1333   50    male  30.970         3     no  northwest  10600.54830\n",
              "1334   18  female  31.920         0     no  northeast   2205.98080\n",
              "1335   18  female  36.850         0     no  southeast   1629.83350\n",
              "1336   21  female  25.800         0     no  southwest   2007.94500\n",
              "1337   61  female  29.070         0    yes  northwest  29141.36030\n",
              "\n",
              "[1338 rows x 7 columns]"
            ]
          },
          "metadata": {
            "tags": []
          },
          "execution_count": 280
        }
      ]
    },
    {
      "cell_type": "code",
      "metadata": {
        "id": "4RScjY2gn81L"
      },
      "source": [
        "from sklearn.compose import make_column_transformer\n",
        "from sklearn.preprocessing import MinMaxScaler, OneHotEncoder\n",
        "\n",
        "#Create a column transformer\n",
        "ct = make_column_transformer(\n",
        "    (MinMaxScaler(), [\"age\", \"bmi\", \"children\"]), #normalize values in these columns\n",
        "    (OneHotEncoder(handle_unknown = \"ignore\"), [\"sex\", \"smoker\", \"region\"])\n",
        ")\n",
        "\n",
        "#Create x and y\n",
        "x = insurance.drop(\"charges\", axis = 1)\n",
        "y = insurance[\"charges\"]\n",
        "\n",
        "#Split data into train and test sets\n",
        "x_train, x_test, y_train, y_test = train_test_split(x, y, test_size = 0.2, random_state = 42)\n",
        "\n",
        "#Fit the column transformer to our training data\n",
        "ct.fit(x_train)\n",
        "\n",
        "#Transform training and test data with normalization (MinMaxScaler) and OneHotEncoder\n",
        "x_train_normal = ct.transform(x_train)\n",
        "x_test_normal = ct.transform(x_test)\n"
      ],
      "execution_count": 281,
      "outputs": []
    },
    {
      "cell_type": "code",
      "metadata": {
        "id": "yNgsN7FdpEF2",
        "colab": {
          "base_uri": "https://localhost:8080/"
        },
        "outputId": "9dfcf12e-203f-4422-f2d0-645807f0e30d"
      },
      "source": [
        "#Viewing the data\n",
        "x_train_normal[0]"
      ],
      "execution_count": 282,
      "outputs": [
        {
          "output_type": "execute_result",
          "data": {
            "text/plain": [
              "array([0.60869565, 0.10734463, 0.4       , 1.        , 0.        ,\n",
              "       1.        , 0.        , 0.        , 1.        , 0.        ,\n",
              "       0.        ])"
            ]
          },
          "metadata": {
            "tags": []
          },
          "execution_count": 282
        }
      ]
    },
    {
      "cell_type": "code",
      "metadata": {
        "id": "8RbA4I4OpM5H"
      },
      "source": [
        "#Build the neural network model\n",
        "#Set random seed\n",
        "tf.random.set_seed(42)\n",
        "\n",
        "# 1. Build a model\n",
        "model = tf.keras.Sequential([\n",
        "    tf.keras.layers.Dense(100),\n",
        "    tf.keras.layers.Dense(10),\n",
        "    tf.keras.layers.Dense(1)\n",
        "])\n",
        "\n",
        "# 2. Compile the model\n",
        "model.compile(\n",
        "    loss = tf.keras.losses.mae,\n",
        "    optimizer = tf.keras.optimizers.Adam(),\n",
        "    metrics = [\"mae\"]\n",
        ")\n",
        "\n",
        "# 3. Fit the model\n",
        "history = model.fit(x_train_normal, y_train, epochs=100, verbose = 0)"
      ],
      "execution_count": 283,
      "outputs": []
    },
    {
      "cell_type": "code",
      "metadata": {
        "id": "z37RttUHpu4_",
        "colab": {
          "base_uri": "https://localhost:8080/"
        },
        "outputId": "bd0998a2-fbbf-441e-db36-852442ebbef9"
      },
      "source": [
        "#Evaluate the model\n",
        "model.evaluate(x_test_normal, y_test)"
      ],
      "execution_count": 284,
      "outputs": [
        {
          "output_type": "stream",
          "text": [
            "9/9 [==============================] - 0s 2ms/step - loss: 3438.7844 - mae: 3438.7844\n"
          ],
          "name": "stdout"
        },
        {
          "output_type": "execute_result",
          "data": {
            "text/plain": [
              "[3438.784423828125, 3438.784423828125]"
            ]
          },
          "metadata": {
            "tags": []
          },
          "execution_count": 284
        }
      ]
    },
    {
      "cell_type": "code",
      "metadata": {
        "colab": {
          "base_uri": "https://localhost:8080/",
          "height": 279
        },
        "id": "i6r4TdDEiFXh",
        "outputId": "6b1af7f9-fda9-4d61-f73d-4e037f531c79"
      },
      "source": [
        "pd.DataFrame(history.history).plot()\n",
        "plt.xlabel(\"Loss\")\n",
        "plt.ylabel(\"Epochs\")\n",
        "plt.legend();"
      ],
      "execution_count": 285,
      "outputs": [
        {
          "output_type": "display_data",
          "data": {
            "image/png": "[encoded data removed]",
            "text/plain": [
              "<Figure size 432x288 with 1 Axes>"
            ]
          },
          "metadata": {
            "tags": [],
            "needs_background": "light"
          }
        }
      ]
    },
    {
      "cell_type": "markdown",
      "metadata": {
        "id": "gftW4CgXjiCV"
      },
      "source": [
        "From the above model, we can see that normalizing the data helped in faster convergence."
      ]
    },
    {
      "cell_type": "code",
      "metadata": {
        "id": "-1DqCE0abNxl"
      },
      "source": [
        ""
      ],
      "execution_count": 285,
      "outputs": []
    }
  ]
}