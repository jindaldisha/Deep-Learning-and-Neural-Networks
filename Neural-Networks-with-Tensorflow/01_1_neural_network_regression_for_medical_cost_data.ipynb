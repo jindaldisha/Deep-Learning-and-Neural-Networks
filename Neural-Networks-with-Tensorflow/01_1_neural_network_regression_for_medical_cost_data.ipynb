{
  "nbformat": 4,
  "nbformat_minor": 0,
  "metadata": {
    "colab": {
      "name": "01.1_Neural_Network_Regression_for_Medical_Cost_Data.ipynb",
      "provenance": [],
      "collapsed_sections": [],
      "authorship_tag": "ABX9TyPq6I6U7ajmb98AYy09z2ma",
      "include_colab_link": true
    },
    "kernelspec": {
      "name": "python3",
      "display_name": "Python 3"
    },
    "language_info": {
      "name": "python"
    }
  },
  "cells": [
    {
      "cell_type": "markdown",
      "metadata": {
        "id": "view-in-github",
        "colab_type": "text"
      },
      "source": [
        "<a href=\"https://colab.research.google.com/github/jindaldisha/Deep-Learning-and-Neural-Networks/blob/main/Neural-Networks-with-Tensorflow/01_1_Neural_Network_Regression_for_Medical_Cost_Data.ipynb\" target=\"_parent\"><img src=\"https://colab.research.google.com/assets/colab-badge.svg\" alt=\"Open In Colab\"/></a>"
      ]
    },
    {
      "cell_type": "markdown",
      "metadata": {
        "id": "TFFifmMnhbTn"
      },
      "source": [
        "##Neural Network Regression For Insurance Forecast"
      ]
    },
    {
      "cell_type": "markdown",
      "metadata": {
        "id": "G38UToLqiHXd"
      },
      "source": [
        "We will be using the following steps:\n",
        "\n",
        "- Get data ready (turn into tensors)\n",
        "- Build or pick a pretrained model (to suit your problem)\n",
        "- Fit the model to the data and make a prediction\n",
        "- Evaluate the model\n",
        "- Improve through experimentation\n",
        "- Save and reload your trained model\n",
        "---"
      ]
    },
    {
      "cell_type": "markdown",
      "metadata": {
        "id": "UaA619F5fKcX"
      },
      "source": [
        "\n",
        "Columns:\n",
        "\n",
        "- age: age of primary beneficiary\n",
        "\n",
        "- sex: insurance contractor gender, female, male\n",
        "\n",
        "- bmi: Body mass index, providing an understanding of body, weights that are relatively high or low relative to height,\n",
        "objective index of body weight (kg / m ^ 2) using the ratio of height to weight, ideally 18.5 to 24.9\n",
        "\n",
        "- children: Number of children covered by health insurance / Number of dependents\n",
        "\n",
        "- smoker: Smoking\n",
        "\n",
        "- region: the beneficiary's residential area in the US, northeast, southeast, southwest, northwest.\n",
        "\n",
        "- charges: Individual medical costs billed by health insurance"
      ]
    },
    {
      "cell_type": "markdown",
      "metadata": {
        "id": "v1HUkGNalZH5"
      },
      "source": [
        "---"
      ]
    },
    {
      "cell_type": "markdown",
      "metadata": {
        "id": "2O3-4c2ainK1"
      },
      "source": [
        " - The dependent variable (label) - charges\n",
        " - The independent variable (features) - age, sex, bmi, children, smoker, region\n"
      ]
    },
    {
      "cell_type": "markdown",
      "metadata": {
        "id": "0avvxlMWlbJQ"
      },
      "source": [
        "---"
      ]
    },
    {
      "cell_type": "markdown",
      "metadata": {
        "id": "VIS_TEWPfKgn"
      },
      "source": [
        "To find what someone's medical costs build by health insurance will be.\n",
        "\n",
        "We're using the features to predict a number (the cost of the insurance), therefore it is a regression problem.\n"
      ]
    },
    {
      "cell_type": "code",
      "metadata": {
        "id": "N6ln-yi5ezAx"
      },
      "source": [
        "#Import required libraries\n",
        "import tensorflow as tf\n",
        "import pandas as pd\n",
        "import matplotlib.pyplot as plt\n"
      ],
      "execution_count": 25,
      "outputs": []
    },
    {
      "cell_type": "code",
      "metadata": {
        "id": "eQ_2bwYihSmv"
      },
      "source": [
        "#Read in the insurance dataset\n",
        "insurance = pd.read_csv(\"https://raw.githubusercontent.com/stedy/Machine-Learning-with-R-datasets/master/insurance.csv\")"
      ],
      "execution_count": 26,
      "outputs": []
    },
    {
      "cell_type": "code",
      "metadata": {
        "colab": {
          "base_uri": "https://localhost:8080/",
          "height": 415
        },
        "id": "8ALFmM4xhYu0",
        "outputId": "714f054b-6f4a-4392-a34b-1d48b2667702"
      },
      "source": [
        "insurance"
      ],
      "execution_count": 27,
      "outputs": [
        {
          "output_type": "execute_result",
          "data": {
            "text/html": [
              "<div>\n",
              "<style scoped>\n",
              "    .dataframe tbody tr th:only-of-type {\n",
              "        vertical-align: middle;\n",
              "    }\n",
              "\n",
              "    .dataframe tbody tr th {\n",
              "        vertical-align: top;\n",
              "    }\n",
              "\n",
              "    .dataframe thead th {\n",
              "        text-align: right;\n",
              "    }\n",
              "</style>\n",
              "<table border=\"1\" class=\"dataframe\">\n",
              "  <thead>\n",
              "    <tr style=\"text-align: right;\">\n",
              "      <th></th>\n",
              "      <th>age</th>\n",
              "      <th>sex</th>\n",
              "      <th>bmi</th>\n",
              "      <th>children</th>\n",
              "      <th>smoker</th>\n",
              "      <th>region</th>\n",
              "      <th>charges</th>\n",
              "    </tr>\n",
              "  </thead>\n",
              "  <tbody>\n",
              "    <tr>\n",
              "      <th>0</th>\n",
              "      <td>19</td>\n",
              "      <td>female</td>\n",
              "      <td>27.900</td>\n",
              "      <td>0</td>\n",
              "      <td>yes</td>\n",
              "      <td>southwest</td>\n",
              "      <td>16884.92400</td>\n",
              "    </tr>\n",
              "    <tr>\n",
              "      <th>1</th>\n",
              "      <td>18</td>\n",
              "      <td>male</td>\n",
              "      <td>33.770</td>\n",
              "      <td>1</td>\n",
              "      <td>no</td>\n",
              "      <td>southeast</td>\n",
              "      <td>1725.55230</td>\n",
              "    </tr>\n",
              "    <tr>\n",
              "      <th>2</th>\n",
              "      <td>28</td>\n",
              "      <td>male</td>\n",
              "      <td>33.000</td>\n",
              "      <td>3</td>\n",
              "      <td>no</td>\n",
              "      <td>southeast</td>\n",
              "      <td>4449.46200</td>\n",
              "    </tr>\n",
              "    <tr>\n",
              "      <th>3</th>\n",
              "      <td>33</td>\n",
              "      <td>male</td>\n",
              "      <td>22.705</td>\n",
              "      <td>0</td>\n",
              "      <td>no</td>\n",
              "      <td>northwest</td>\n",
              "      <td>21984.47061</td>\n",
              "    </tr>\n",
              "    <tr>\n",
              "      <th>4</th>\n",
              "      <td>32</td>\n",
              "      <td>male</td>\n",
              "      <td>28.880</td>\n",
              "      <td>0</td>\n",
              "      <td>no</td>\n",
              "      <td>northwest</td>\n",
              "      <td>3866.85520</td>\n",
              "    </tr>\n",
              "    <tr>\n",
              "      <th>...</th>\n",
              "      <td>...</td>\n",
              "      <td>...</td>\n",
              "      <td>...</td>\n",
              "      <td>...</td>\n",
              "      <td>...</td>\n",
              "      <td>...</td>\n",
              "      <td>...</td>\n",
              "    </tr>\n",
              "    <tr>\n",
              "      <th>1333</th>\n",
              "      <td>50</td>\n",
              "      <td>male</td>\n",
              "      <td>30.970</td>\n",
              "      <td>3</td>\n",
              "      <td>no</td>\n",
              "      <td>northwest</td>\n",
              "      <td>10600.54830</td>\n",
              "    </tr>\n",
              "    <tr>\n",
              "      <th>1334</th>\n",
              "      <td>18</td>\n",
              "      <td>female</td>\n",
              "      <td>31.920</td>\n",
              "      <td>0</td>\n",
              "      <td>no</td>\n",
              "      <td>northeast</td>\n",
              "      <td>2205.98080</td>\n",
              "    </tr>\n",
              "    <tr>\n",
              "      <th>1335</th>\n",
              "      <td>18</td>\n",
              "      <td>female</td>\n",
              "      <td>36.850</td>\n",
              "      <td>0</td>\n",
              "      <td>no</td>\n",
              "      <td>southeast</td>\n",
              "      <td>1629.83350</td>\n",
              "    </tr>\n",
              "    <tr>\n",
              "      <th>1336</th>\n",
              "      <td>21</td>\n",
              "      <td>female</td>\n",
              "      <td>25.800</td>\n",
              "      <td>0</td>\n",
              "      <td>no</td>\n",
              "      <td>southwest</td>\n",
              "      <td>2007.94500</td>\n",
              "    </tr>\n",
              "    <tr>\n",
              "      <th>1337</th>\n",
              "      <td>61</td>\n",
              "      <td>female</td>\n",
              "      <td>29.070</td>\n",
              "      <td>0</td>\n",
              "      <td>yes</td>\n",
              "      <td>northwest</td>\n",
              "      <td>29141.36030</td>\n",
              "    </tr>\n",
              "  </tbody>\n",
              "</table>\n",
              "<p>1338 rows × 7 columns</p>\n",
              "</div>"
            ],
            "text/plain": [
              "      age     sex     bmi  children smoker     region      charges\n",
              "0      19  female  27.900         0    yes  southwest  16884.92400\n",
              "1      18    male  33.770         1     no  southeast   1725.55230\n",
              "2      28    male  33.000         3     no  southeast   4449.46200\n",
              "3      33    male  22.705         0     no  northwest  21984.47061\n",
              "4      32    male  28.880         0     no  northwest   3866.85520\n",
              "...   ...     ...     ...       ...    ...        ...          ...\n",
              "1333   50    male  30.970         3     no  northwest  10600.54830\n",
              "1334   18  female  31.920         0     no  northeast   2205.98080\n",
              "1335   18  female  36.850         0     no  southeast   1629.83350\n",
              "1336   21  female  25.800         0     no  southwest   2007.94500\n",
              "1337   61  female  29.070         0    yes  northwest  29141.36030\n",
              "\n",
              "[1338 rows x 7 columns]"
            ]
          },
          "metadata": {
            "tags": []
          },
          "execution_count": 27
        }
      ]
    },
    {
      "cell_type": "markdown",
      "metadata": {
        "id": "QnljS91wjVMX"
      },
      "source": [
        " Since some of the features are non-numerical, we have to first turn them into numbers and also normalize the data."
      ]
    },
    {
      "cell_type": "code",
      "metadata": {
        "id": "_mV_R-M-kPPa"
      },
      "source": [
        "from sklearn.compose import make_column_transformer\n",
        "from sklearn.preprocessing import MinMaxScaler, OneHotEncoder\n",
        "from sklearn.model_selection import train_test_split\n",
        "\n",
        "#Create a column transformer\n",
        "ct = make_column_transformer(\n",
        "    (MinMaxScaler(), [\"age\", \"bmi\", \"children\"]), #normalize values in these columns\n",
        "    (OneHotEncoder(handle_unknown = \"ignore\"), [\"sex\", \"smoker\", \"region\"])\n",
        ")\n",
        "\n",
        "#Create x and y\n",
        "x = insurance.drop(\"charges\", axis = 1)\n",
        "y = insurance[\"charges\"]\n",
        "\n",
        "#Split data into train and test sets\n",
        "x_train, x_test, y_train, y_test = train_test_split(x, y, test_size = 0.2, random_state = 42)\n",
        "\n",
        "#Fit the column transformer to our training data\n",
        "ct.fit(x_train)\n",
        "\n",
        "#Transform training and test data with normalization (MinMaxScaler) and OneHotEncoder\n",
        "x_train_normal = ct.transform(x_train)\n",
        "x_test_normal = ct.transform(x_test)\n"
      ],
      "execution_count": 28,
      "outputs": []
    },
    {
      "cell_type": "code",
      "metadata": {
        "id": "3OkX4o06nnFS"
      },
      "source": [
        "#Build a Neural Network\n",
        "#Set seed\n",
        "tf.random.set_seed(42)\n",
        "\n",
        "# 1. Create a Model\n",
        "insurance_model_1 = tf.keras.Sequential([\n",
        "    tf.keras.layers.Dense(10, name=\"input_layer\"),\n",
        "    tf.keras.layers.Dense(1, name=\"output_layer\")                                       \n",
        "])\n",
        "# 2. Compile the Model\n",
        "insurance_model_1.compile(\n",
        "    loss = tf.keras.losses.mae,\n",
        "    optimizer = tf.keras.optimizers.SGD(),\n",
        "    metrics = [\"mae\"]\n",
        ")\n",
        "# 3. Fit the Model\n",
        "history = insurance_model_1.fit(x_train_normal, y_train, epochs=100, verbose=0)"
      ],
      "execution_count": 29,
      "outputs": []
    },
    {
      "cell_type": "code",
      "metadata": {
        "colab": {
          "base_uri": "https://localhost:8080/"
        },
        "id": "v42cbSaakk-6",
        "outputId": "fe7ccfb2-a4c5-4eb4-fb29-52b3b8902ce0"
      },
      "source": [
        "#Evaluate the model\n",
        "insurance_model_1.evaluate(x_test_normal, y_test)"
      ],
      "execution_count": 30,
      "outputs": [
        {
          "output_type": "stream",
          "text": [
            "9/9 [==============================] - 0s 1ms/step - loss: 3170.0486 - mae: 3170.0486\n"
          ],
          "name": "stdout"
        },
        {
          "output_type": "execute_result",
          "data": {
            "text/plain": [
              "[3170.048583984375, 3170.048583984375]"
            ]
          },
          "metadata": {
            "tags": []
          },
          "execution_count": 30
        }
      ]
    },
    {
      "cell_type": "code",
      "metadata": {
        "colab": {
          "base_uri": "https://localhost:8080/",
          "height": 279
        },
        "id": "i6r4TdDEiFXh",
        "outputId": "fa76355f-4fe9-4c3d-c865-15b782150e7f"
      },
      "source": [
        "pd.DataFrame(history.history).plot()\n",
        "plt.xlabel(\"Loss\")\n",
        "plt.ylabel(\"Epochs\")\n",
        "plt.legend();"
      ],
      "execution_count": 31,
      "outputs": [
        {
          "output_type": "display_data",
          "data": {
            "image/png": "[encoded data removed]",
            "text/plain": [
              "<Figure size 432x288 with 1 Axes>"
            ]
          },
          "metadata": {
            "tags": [],
            "needs_background": "light"
          }
        }
      ]
    },
    {
      "cell_type": "markdown",
      "metadata": {
        "id": "PpwckazrrSEO"
      },
      "source": [
        "Experimenting to improve our model's performance.\n",
        "To try to improve our model, we'll run the following experiments:\n",
        " - Add an extra layer and increase the number of hidden units and changing the optimizer.\n",
        " - Increase the value of epochs (train for longer)."
      ]
    },
    {
      "cell_type": "code",
      "metadata": {
        "id": "gnULZnBikk-0"
      },
      "source": [
        "#Change from the previous model - increase the number of layers and hidden units\n",
        "#Set random seed\n",
        "tf.random.set_seed(42)\n",
        "\n",
        "# 1. Build a model\n",
        "insurance_model_2 = tf.keras.Sequential([\n",
        "    tf.keras.layers.Dense(100),\n",
        "    tf.keras.layers.Dense(10),\n",
        "    tf.keras.layers.Dense(1)\n",
        "])\n",
        "\n",
        "# 2. Compile the model\n",
        "insurance_model_2.compile(\n",
        "    loss = tf.keras.losses.mae,\n",
        "    optimizer = tf.keras.optimizers.Adam(),\n",
        "    metrics = [\"mae\"]\n",
        ")\n",
        "\n",
        "# 3. Fit the model\n",
        "history = insurance_model_2.fit(x_train_normal, y_train, epochs=100, verbose = 0)"
      ],
      "execution_count": 32,
      "outputs": []
    },
    {
      "cell_type": "code",
      "metadata": {
        "colab": {
          "base_uri": "https://localhost:8080/"
        },
        "id": "D0vB3iivqojO",
        "outputId": "e01bad79-4a62-4b5d-de36-7c0bbb5af9c2"
      },
      "source": [
        "#Check the results of the insurance model on the test data\n",
        "insurance_model_2.evaluate(x_test_normal, y_test)"
      ],
      "execution_count": 33,
      "outputs": [
        {
          "output_type": "stream",
          "text": [
            "9/9 [==============================] - 0s 2ms/step - loss: 3438.7844 - mae: 3438.7844\n"
          ],
          "name": "stdout"
        },
        {
          "output_type": "execute_result",
          "data": {
            "text/plain": [
              "[3438.784423828125, 3438.784423828125]"
            ]
          },
          "metadata": {
            "tags": []
          },
          "execution_count": 33
        }
      ]
    },
    {
      "cell_type": "code",
      "metadata": {
        "colab": {
          "base_uri": "https://localhost:8080/",
          "height": 279
        },
        "id": "NvAuT2bBl85U",
        "outputId": "26085877-0613-4902-fcf5-4c7976ef02b7"
      },
      "source": [
        "pd.DataFrame(history.history).plot()\n",
        "plt.xlabel(\"Loss\")\n",
        "plt.ylabel(\"Epochs\")\n",
        "plt.legend();"
      ],
      "execution_count": 34,
      "outputs": [
        {
          "output_type": "display_data",
          "data": {
            "image/png": "[encoded data removed]",
            "text/plain": [
              "<Figure size 432x288 with 1 Axes>"
            ]
          },
          "metadata": {
            "tags": [],
            "needs_background": "light"
          }
        }
      ]
    },
    {
      "cell_type": "code",
      "metadata": {
        "id": "Ujc1yf1htvMJ"
      },
      "source": [
        "#Change from the previous model - train for longer\n",
        "#Set seed\n",
        "tf.random.set_seed(42)\n",
        "\n",
        "# 1. Create a Model\n",
        "insurance_model_3 = tf.keras.Sequential([\n",
        "    tf.keras.layers.Dense(100),\n",
        "    tf.keras.layers.Dense(10),\n",
        "    tf.keras.layers.Dense(1)                                       \n",
        "])\n",
        "# 2. Compile the Model\n",
        "insurance_model_3.compile(\n",
        "    loss = tf.keras.losses.mae,\n",
        "    optimizer = tf.keras.optimizers.Adam(),\n",
        "    metrics = [\"mae\"]\n",
        ")\n",
        "# 3. Fit the Model\n",
        "history = insurance_model_3.fit(x_train_normal, y_train, epochs=200, verbose=0)"
      ],
      "execution_count": 35,
      "outputs": []
    },
    {
      "cell_type": "code",
      "metadata": {
        "colab": {
          "base_uri": "https://localhost:8080/"
        },
        "id": "7C8AVvoLt43U",
        "outputId": "88d6899f-94f1-4dfa-932c-68c7f2b16a89"
      },
      "source": [
        "#Check the results of the insurance model on the test data\n",
        "insurance_model_3.evaluate(x_test_normal, y_test)"
      ],
      "execution_count": 38,
      "outputs": [
        {
          "output_type": "stream",
          "text": [
            "9/9 [==============================] - 0s 2ms/step - loss: 3171.5776 - mae: 3171.5776\n"
          ],
          "name": "stdout"
        },
        {
          "output_type": "execute_result",
          "data": {
            "text/plain": [
              "[3171.57763671875, 3171.57763671875]"
            ]
          },
          "metadata": {
            "tags": []
          },
          "execution_count": 38
        }
      ]
    },
    {
      "cell_type": "code",
      "metadata": {
        "colab": {
          "base_uri": "https://localhost:8080/",
          "height": 297
        },
        "id": "LKZYlKKjuU2m",
        "outputId": "4cd6928b-54f9-4f6d-884d-aec19a843a9a"
      },
      "source": [
        "#Plot history (Loss Curve/ Training Curve)\n",
        "pd.DataFrame(history.history).plot()\n",
        "plt.ylabel(\"Loss\")\n",
        "plt.xlabel(\"Epochs\")"
      ],
      "execution_count": 37,
      "outputs": [
        {
          "output_type": "execute_result",
          "data": {
            "text/plain": [
              "Text(0.5, 0, 'Epochs')"
            ]
          },
          "metadata": {
            "tags": []
          },
          "execution_count": 37
        },
        {
          "output_type": "display_data",
          "data": {
            "image/png": "[encoded data removed]",
            "text/plain": [
              "<Figure size 432x288 with 1 Axes>"
            ]
          },
          "metadata": {
            "tags": [],
            "needs_background": "light"
          }
        }
      ]
    },
    {
      "cell_type": "code",
      "metadata": {
        "id": "QmqqLkQMpGqU"
      },
      "source": [
        ""
      ],
      "execution_count": 37,
      "outputs": []
    },
    {
      "cell_type": "code",
      "metadata": {
        "id": "4RScjY2gn81L"
      },
      "source": [
        ""
      ],
      "execution_count": 37,
      "outputs": []
    },
    {
      "cell_type": "code",
      "metadata": {
        "id": "yNgsN7FdpEF2"
      },
      "source": [
        ""
      ],
      "execution_count": 37,
      "outputs": []
    },
    {
      "cell_type": "code",
      "metadata": {
        "id": "8RbA4I4OpM5H"
      },
      "source": [
        ""
      ],
      "execution_count": 37,
      "outputs": []
    },
    {
      "cell_type": "code",
      "metadata": {
        "id": "z37RttUHpu4_"
      },
      "source": [
        ""
      ],
      "execution_count": 37,
      "outputs": []
    },
    {
      "cell_type": "code",
      "metadata": {
        "id": "-1DqCE0abNxl"
      },
      "source": [
        "  "
      ],
      "execution_count": 37,
      "outputs": []
    }
  ]
}
