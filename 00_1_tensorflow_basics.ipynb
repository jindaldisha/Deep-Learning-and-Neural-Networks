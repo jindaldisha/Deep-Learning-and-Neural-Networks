{
  "nbformat": 4,
  "nbformat_minor": 0,
  "metadata": {
    "colab": {
      "name": "00_tensorflow_basics.ipynb",
      "provenance": [],
      "collapsed_sections": [],
      "authorship_tag": "ABX9TyOp2Hj4YJNrJI1Hw8/3vXdu",
      "include_colab_link": true
    },
    "kernelspec": {
      "name": "python3",
      "display_name": "Python 3"
    },
    "language_info": {
      "name": "python"
    },
    "accelerator": "GPU"
  },
  "cells": [
    {
      "cell_type": "markdown",
      "metadata": {
        "id": "view-in-github",
        "colab_type": "text"
      },
      "source": [
        "<a href=\"https://colab.research.google.com/github/jindaldisha/Neural-Networks-with-Tensorflow/blob/main/00_tensorflow_basics.ipynb\" target=\"_parent\"><img src=\"https://colab.research.google.com/assets/colab-badge.svg\" alt=\"Open In Colab\"/></a>"
      ]
    },
    {
      "cell_type": "markdown",
      "metadata": {
        "id": "oFUKEbMnHltq"
      },
      "source": [
        "Tensorflow Basics\n",
        "\n",
        "Cover the fundamentals of tensor using tensorflow\n"
      ]
    },
    {
      "cell_type": "code",
      "metadata": {
        "colab": {
          "base_uri": "https://localhost:8080/"
        },
        "id": "b0UIQQsgHk_a",
        "outputId": "c2dc3b73-0c3e-4e99-aefd-ea6cd21b222b"
      },
      "source": [
        "import tensorflow as tf\n",
        "import sys\n",
        "import numpy as np\n",
        "import tensorflow_probability as tfp\n",
        "print(tf.__version__)"
      ],
      "execution_count": null,
      "outputs": [
        {
          "output_type": "stream",
          "text": [
            "2.5.0\n"
          ],
          "name": "stdout"
        }
      ]
    },
    {
      "cell_type": "code",
      "metadata": {
        "colab": {
          "base_uri": "https://localhost:8080/"
        },
        "id": "7pL_p7ecH_Lb",
        "outputId": "72caf6c9-f05b-4a8d-e6f0-73748765cd6c"
      },
      "source": [
        "#Creating tensor with tf.constant\n",
        "scalar = tf.constant(7)\n",
        "scalar"
      ],
      "execution_count": null,
      "outputs": [
        {
          "output_type": "execute_result",
          "data": {
            "text/plain": [
              "<tf.Tensor: shape=(), dtype=int32, numpy=7>"
            ]
          },
          "metadata": {
            "tags": []
          },
          "execution_count": 158
        }
      ]
    },
    {
      "cell_type": "code",
      "metadata": {
        "colab": {
          "base_uri": "https://localhost:8080/"
        },
        "id": "h6UiJbdFKHQR",
        "outputId": "25efe9dc-5254-4cfc-c631-a65e783c8af5"
      },
      "source": [
        "#Check the number of dimensions of a tensor\n",
        "scalar.ndim"
      ],
      "execution_count": null,
      "outputs": [
        {
          "output_type": "execute_result",
          "data": {
            "text/plain": [
              "0"
            ]
          },
          "metadata": {
            "tags": []
          },
          "execution_count": 159
        }
      ]
    },
    {
      "cell_type": "code",
      "metadata": {
        "colab": {
          "base_uri": "https://localhost:8080/"
        },
        "id": "sLFilaVLKfRO",
        "outputId": "653463cc-1fe1-468a-afc8-432509378766"
      },
      "source": [
        "#Create a vector\n",
        "vector = tf.constant([[10, 10]])\n",
        "vector, vector.ndim"
      ],
      "execution_count": null,
      "outputs": [
        {
          "output_type": "execute_result",
          "data": {
            "text/plain": [
              "(<tf.Tensor: shape=(1, 2), dtype=int32, numpy=array([[10, 10]], dtype=int32)>,\n",
              " 2)"
            ]
          },
          "metadata": {
            "tags": []
          },
          "execution_count": 160
        }
      ]
    },
    {
      "cell_type": "code",
      "metadata": {
        "colab": {
          "base_uri": "https://localhost:8080/"
        },
        "id": "Lss7mUvKK-ba",
        "outputId": "4906111c-a13a-4cf6-91b0-0c4a3cf0a869"
      },
      "source": [
        "vector = tf.constant([10, 10])\n",
        "vector, vector.ndim"
      ],
      "execution_count": null,
      "outputs": [
        {
          "output_type": "execute_result",
          "data": {
            "text/plain": [
              "(<tf.Tensor: shape=(2,), dtype=int32, numpy=array([10, 10], dtype=int32)>, 1)"
            ]
          },
          "metadata": {
            "tags": []
          },
          "execution_count": 161
        }
      ]
    },
    {
      "cell_type": "code",
      "metadata": {
        "colab": {
          "base_uri": "https://localhost:8080/"
        },
        "id": "GgGowH30LDdo",
        "outputId": "2088e1fa-1cb6-44ec-f12d-d1dc5e498a0c"
      },
      "source": [
        "#Create a matrix\n",
        "matrix = tf.constant([[10, 7],\n",
        "                      [7, 10]])\n",
        "matrix, matrix.ndim"
      ],
      "execution_count": null,
      "outputs": [
        {
          "output_type": "execute_result",
          "data": {
            "text/plain": [
              "(<tf.Tensor: shape=(2, 2), dtype=int32, numpy=\n",
              " array([[10,  7],\n",
              "        [ 7, 10]], dtype=int32)>, 2)"
            ]
          },
          "metadata": {
            "tags": []
          },
          "execution_count": 162
        }
      ]
    },
    {
      "cell_type": "markdown",
      "metadata": {
        "id": "QAszdPqJLhD9"
      },
      "source": [
        "A scalar had no shape and 0 dimensions, it is a single number\n",
        "\n",
        "A vector has one dimension and a shape of (m,1) or (1,m)\n",
        "\n",
        "A matrix has two dimensions and a shape of (m,n)\n",
        "\n",
        "A tensor is an n-dimensional array of numbers"
      ]
    },
    {
      "cell_type": "code",
      "metadata": {
        "colab": {
          "base_uri": "https://localhost:8080/"
        },
        "id": "3iWSK8GnLUSW",
        "outputId": "3e304246-82e3-45cf-a118-435bde6e4a39"
      },
      "source": [
        "#specify datatype\n",
        "mat2 = tf.constant([[10. , 7.],\n",
        "                    [2. , 3. ]], dtype=tf.float16)\n",
        "mat2, mat2.ndim"
      ],
      "execution_count": null,
      "outputs": [
        {
          "output_type": "execute_result",
          "data": {
            "text/plain": [
              "(<tf.Tensor: shape=(2, 2), dtype=float16, numpy=\n",
              " array([[10.,  7.],\n",
              "        [ 2.,  3.]], dtype=float16)>, 2)"
            ]
          },
          "metadata": {
            "tags": []
          },
          "execution_count": 163
        }
      ]
    },
    {
      "cell_type": "code",
      "metadata": {
        "colab": {
          "base_uri": "https://localhost:8080/"
        },
        "id": "1BMEwhMBM06T",
        "outputId": "83a6b8dc-1ac2-483c-b651-d09a9f76f7c7"
      },
      "source": [
        "mat3 = tf.constant([[[1,2,3],\n",
        "                     [4,5,6]],\n",
        "                    [[7,8,9],\n",
        "                     [10,11,12]]])\n",
        "mat3, mat3.ndim"
      ],
      "execution_count": null,
      "outputs": [
        {
          "output_type": "execute_result",
          "data": {
            "text/plain": [
              "(<tf.Tensor: shape=(2, 2, 3), dtype=int32, numpy=\n",
              " array([[[ 1,  2,  3],\n",
              "         [ 4,  5,  6]],\n",
              " \n",
              "        [[ 7,  8,  9],\n",
              "         [10, 11, 12]]], dtype=int32)>, 3)"
            ]
          },
          "metadata": {
            "tags": []
          },
          "execution_count": 164
        }
      ]
    },
    {
      "cell_type": "code",
      "metadata": {
        "id": "d_Dojg1QPSrd"
      },
      "source": [
        "#Creating tensors with tf.variable\n",
        "cons_tensor = tf.constant([10,7]) #unchangable\n",
        "var_tensor = tf.Variable([10,7]) #changable"
      ],
      "execution_count": null,
      "outputs": []
    },
    {
      "cell_type": "code",
      "metadata": {
        "colab": {
          "base_uri": "https://localhost:8080/"
        },
        "id": "0Wur1b_4P0ZE",
        "outputId": "e8e12a5a-e5be-42fd-af90-1507c3387327"
      },
      "source": [
        "cons_tensor"
      ],
      "execution_count": null,
      "outputs": [
        {
          "output_type": "execute_result",
          "data": {
            "text/plain": [
              "<tf.Tensor: shape=(2,), dtype=int32, numpy=array([10,  7], dtype=int32)>"
            ]
          },
          "metadata": {
            "tags": []
          },
          "execution_count": 166
        }
      ]
    },
    {
      "cell_type": "code",
      "metadata": {
        "colab": {
          "base_uri": "https://localhost:8080/"
        },
        "id": "caDvb6gEQeX3",
        "outputId": "0ddf7d79-391a-43f0-ad98-73381eae3808"
      },
      "source": [
        "var_tensor"
      ],
      "execution_count": null,
      "outputs": [
        {
          "output_type": "execute_result",
          "data": {
            "text/plain": [
              "<tf.Variable 'Variable:0' shape=(2,) dtype=int32, numpy=array([10,  7], dtype=int32)>"
            ]
          },
          "metadata": {
            "tags": []
          },
          "execution_count": 167
        }
      ]
    },
    {
      "cell_type": "code",
      "metadata": {
        "colab": {
          "base_uri": "https://localhost:8080/",
          "height": 166
        },
        "id": "IyBryzntQfED",
        "outputId": "b2e19bbe-9a4e-4d34-ae94-9430ebbcef2d"
      },
      "source": [
        "var_tensor[0] = 7"
      ],
      "execution_count": null,
      "outputs": [
        {
          "output_type": "error",
          "ename": "TypeError",
          "evalue": "ignored",
          "traceback": [
            "\u001b[0;31m---------------------------------------------------------------------------\u001b[0m",
            "\u001b[0;31mTypeError\u001b[0m                                 Traceback (most recent call last)",
            "\u001b[0;32m<ipython-input-168-9b237ac9668a>\u001b[0m in \u001b[0;36m<module>\u001b[0;34m()\u001b[0m\n\u001b[0;32m----> 1\u001b[0;31m \u001b[0mvar_tensor\u001b[0m\u001b[0;34m[\u001b[0m\u001b[0;36m0\u001b[0m\u001b[0;34m]\u001b[0m \u001b[0;34m=\u001b[0m \u001b[0;36m7\u001b[0m\u001b[0;34m\u001b[0m\u001b[0;34m\u001b[0m\u001b[0m\n\u001b[0m",
            "\u001b[0;31mTypeError\u001b[0m: 'ResourceVariable' object does not support item assignment"
          ]
        }
      ]
    },
    {
      "cell_type": "code",
      "metadata": {
        "id": "dOFWuuWsQ-Uo",
        "colab": {
          "base_uri": "https://localhost:8080/",
          "height": 183
        },
        "outputId": "e832f9c5-23ba-4454-d0bf-76c8906a72eb"
      },
      "source": [
        "cons_tensor[0] = 7"
      ],
      "execution_count": null,
      "outputs": [
        {
          "output_type": "error",
          "ename": "TypeError",
          "evalue": "ignored",
          "traceback": [
            "\u001b[0;31m---------------------------------------------------------------------------\u001b[0m",
            "\u001b[0;31mTypeError\u001b[0m                                 Traceback (most recent call last)",
            "\u001b[0;32m<ipython-input-169-aa4fdc66c0b3>\u001b[0m in \u001b[0;36m<module>\u001b[0;34m()\u001b[0m\n\u001b[0;32m----> 1\u001b[0;31m \u001b[0mcons_tensor\u001b[0m\u001b[0;34m[\u001b[0m\u001b[0;36m0\u001b[0m\u001b[0;34m]\u001b[0m \u001b[0;34m=\u001b[0m \u001b[0;36m7\u001b[0m\u001b[0;34m\u001b[0m\u001b[0;34m\u001b[0m\u001b[0m\n\u001b[0m",
            "\u001b[0;31mTypeError\u001b[0m: 'tensorflow.python.framework.ops.EagerTensor' object does not support item assignment"
          ]
        }
      ]
    },
    {
      "cell_type": "code",
      "metadata": {
        "id": "xANGhbrIRHkG",
        "colab": {
          "base_uri": "https://localhost:8080/"
        },
        "outputId": "9fe747e6-db3b-46de-8394-ca34298cb71d"
      },
      "source": [
        "var_tensor[0].assign(7)\n",
        "var_tensor"
      ],
      "execution_count": null,
      "outputs": [
        {
          "output_type": "execute_result",
          "data": {
            "text/plain": [
              "<tf.Variable 'Variable:0' shape=(2,) dtype=int32, numpy=array([7, 7], dtype=int32)>"
            ]
          },
          "metadata": {
            "tags": []
          },
          "execution_count": 170
        }
      ]
    },
    {
      "cell_type": "code",
      "metadata": {
        "id": "sD4e4lorRZky"
      },
      "source": [
        ""
      ],
      "execution_count": null,
      "outputs": []
    },
    {
      "cell_type": "markdown",
      "metadata": {
        "id": "qi6r9o35Saj9"
      },
      "source": [
        "We cannot change the values of constant tensors but we can change the values of variable tensors so we should choose accordingly"
      ]
    },
    {
      "cell_type": "markdown",
      "metadata": {
        "id": "XWl1orOTRw18"
      },
      "source": [
        "Creating random tensors\n",
        "\n",
        "Random tensors are tensors of some arbitrary size which contains some random numbers\n",
        "\n",
        "They are pseudo random numbers as we've set a seed here"
      ]
    },
    {
      "cell_type": "code",
      "metadata": {
        "id": "LAtnXJmTTQQR"
      },
      "source": [
        "random1 = tf.random.Generator.from_seed(42) #set seed reproducibility\n",
        "random1 = random1.normal(shape=(3,2))"
      ],
      "execution_count": null,
      "outputs": []
    },
    {
      "cell_type": "code",
      "metadata": {
        "id": "SPRhtjwCt3vK",
        "colab": {
          "base_uri": "https://localhost:8080/"
        },
        "outputId": "57c4d4a2-90c7-4f3b-cc4f-001e58a71fdc"
      },
      "source": [
        "random1"
      ],
      "execution_count": null,
      "outputs": [
        {
          "output_type": "execute_result",
          "data": {
            "text/plain": [
              "<tf.Tensor: shape=(3, 2), dtype=float32, numpy=\n",
              "array([[-0.7565803 , -0.06854702],\n",
              "       [ 0.07595026, -1.2573844 ],\n",
              "       [-0.23193763, -1.8107855 ]], dtype=float32)>"
            ]
          },
          "metadata": {
            "tags": []
          },
          "execution_count": 172
        }
      ]
    },
    {
      "cell_type": "markdown",
      "metadata": {
        "id": "Cavtj9NeuMGj"
      },
      "source": [
        "A uniform distribution sometimes known as a rectangular distribution is a distribution that has a constant probability"
      ]
    },
    {
      "cell_type": "code",
      "metadata": {
        "id": "1k-LBGnct4dT"
      },
      "source": [
        "random2 = tf.random.Generator.from_seed(42)\n",
        "random2 = random2.normal(shape=(3,2))"
      ],
      "execution_count": null,
      "outputs": []
    },
    {
      "cell_type": "code",
      "metadata": {
        "id": "OVcdxaruu2Zp",
        "colab": {
          "base_uri": "https://localhost:8080/"
        },
        "outputId": "f8eb4d36-aa81-456d-cd66-1f1745f7a1e0"
      },
      "source": [
        "random1, random2, random1 == random2"
      ],
      "execution_count": null,
      "outputs": [
        {
          "output_type": "execute_result",
          "data": {
            "text/plain": [
              "(<tf.Tensor: shape=(3, 2), dtype=float32, numpy=\n",
              " array([[-0.7565803 , -0.06854702],\n",
              "        [ 0.07595026, -1.2573844 ],\n",
              "        [-0.23193763, -1.8107855 ]], dtype=float32)>,\n",
              " <tf.Tensor: shape=(3, 2), dtype=float32, numpy=\n",
              " array([[-0.7565803 , -0.06854702],\n",
              "        [ 0.07595026, -1.2573844 ],\n",
              "        [-0.23193763, -1.8107855 ]], dtype=float32)>,\n",
              " <tf.Tensor: shape=(3, 2), dtype=bool, numpy=\n",
              " array([[ True,  True],\n",
              "        [ True,  True],\n",
              "        [ True,  True]])>)"
            ]
          },
          "metadata": {
            "tags": []
          },
          "execution_count": 174
        }
      ]
    },
    {
      "cell_type": "code",
      "metadata": {
        "id": "G7H9-Xegu6Wq",
        "colab": {
          "base_uri": "https://localhost:8080/"
        },
        "outputId": "77935303-179b-4ba1-ab80-02608d822939"
      },
      "source": [
        "#Shuffle the order of elements in a tensor\n",
        "not_shuffled = tf.constant([[10, 7],\n",
        "                           [3, 4],\n",
        "                           [2, 5]])\n",
        "not_shuffled, not_shuffled.ndim"
      ],
      "execution_count": null,
      "outputs": [
        {
          "output_type": "execute_result",
          "data": {
            "text/plain": [
              "(<tf.Tensor: shape=(3, 2), dtype=int32, numpy=\n",
              " array([[10,  7],\n",
              "        [ 3,  4],\n",
              "        [ 2,  5]], dtype=int32)>, 2)"
            ]
          },
          "metadata": {
            "tags": []
          },
          "execution_count": 175
        }
      ]
    },
    {
      "cell_type": "markdown",
      "metadata": {
        "id": "3MLVdjO8wKa4"
      },
      "source": [
        "We shuffle the order of elements in a tensor because it is valuable when you want to shuffle your data so that the inherent order of the data doesnt affect the way our model learns and then affects the final output that we get\n"
      ]
    },
    {
      "cell_type": "code",
      "metadata": {
        "id": "QbCPwrTtv_tV",
        "colab": {
          "base_uri": "https://localhost:8080/"
        },
        "outputId": "79ccb0b9-7927-436c-93fd-1273f3618cd5"
      },
      "source": [
        "#shuffle a tensor along its first dimension\n",
        "tf.random.shuffle(not_shuffled)"
      ],
      "execution_count": null,
      "outputs": [
        {
          "output_type": "execute_result",
          "data": {
            "text/plain": [
              "<tf.Tensor: shape=(3, 2), dtype=int32, numpy=\n",
              "array([[ 3,  4],\n",
              "       [ 2,  5],\n",
              "       [10,  7]], dtype=int32)>"
            ]
          },
          "metadata": {
            "tags": []
          },
          "execution_count": 176
        }
      ]
    },
    {
      "cell_type": "code",
      "metadata": {
        "id": "VQzrzdxlxQRq",
        "colab": {
          "base_uri": "https://localhost:8080/"
        },
        "outputId": "2a1cef5c-2a78-453c-d0c5-f4820cedc62b"
      },
      "source": [
        "  #There are two seeds initializations because we need a global and operation level seed\n",
        "tf.random.set_seed(42)\n",
        "tf.random.shuffle(not_shuffled, seed=42)"
      ],
      "execution_count": null,
      "outputs": [
        {
          "output_type": "execute_result",
          "data": {
            "text/plain": [
              "<tf.Tensor: shape=(3, 2), dtype=int32, numpy=\n",
              "array([[10,  7],\n",
              "       [ 3,  4],\n",
              "       [ 2,  5]], dtype=int32)>"
            ]
          },
          "metadata": {
            "tags": []
          },
          "execution_count": 177
        }
      ]
    },
    {
      "cell_type": "code",
      "metadata": {
        "id": "wKHla3pLxfwx",
        "colab": {
          "base_uri": "https://localhost:8080/"
        },
        "outputId": "3cb086c8-4fa0-4cdc-b84b-f81c6e9df814"
      },
      "source": [
        "tf.zeros((2,3)), tf.ones((4,3))"
      ],
      "execution_count": null,
      "outputs": [
        {
          "output_type": "execute_result",
          "data": {
            "text/plain": [
              "(<tf.Tensor: shape=(2, 3), dtype=float32, numpy=\n",
              " array([[0., 0., 0.],\n",
              "        [0., 0., 0.]], dtype=float32)>,\n",
              " <tf.Tensor: shape=(4, 3), dtype=float32, numpy=\n",
              " array([[1., 1., 1.],\n",
              "        [1., 1., 1.],\n",
              "        [1., 1., 1.],\n",
              "        [1., 1., 1.]], dtype=float32)>)"
            ]
          },
          "metadata": {
            "tags": []
          },
          "execution_count": 178
        }
      ]
    },
    {
      "cell_type": "markdown",
      "metadata": {
        "id": "OeMW83ho00ZB"
      },
      "source": [
        "The main difference between Tensorflow tensors and numpy arrays is that tensors can be run on gpu (much faster numeric computation)\n",
        "\n",
        "\n",
        "\n"
      ]
    },
    {
      "cell_type": "markdown",
      "metadata": {
        "id": "DxF0oslO1Wxi"
      },
      "source": [
        "Matrices and tensors are often represented with capital letters and vectors with small letter"
      ]
    },
    {
      "cell_type": "code",
      "metadata": {
        "colab": {
          "base_uri": "https://localhost:8080/"
        },
        "id": "fiK0atRQ0ter",
        "outputId": "e4045b92-d47c-41c3-e371-7d13c6746fee"
      },
      "source": [
        "#Turn numpy arrays into tensors\n",
        "numpy_A = np.arange(1,25, dtype=np.int32).reshape((2,3,4))\n",
        "numpy_A"
      ],
      "execution_count": null,
      "outputs": [
        {
          "output_type": "execute_result",
          "data": {
            "text/plain": [
              "array([[[ 1,  2,  3,  4],\n",
              "        [ 5,  6,  7,  8],\n",
              "        [ 9, 10, 11, 12]],\n",
              "\n",
              "       [[13, 14, 15, 16],\n",
              "        [17, 18, 19, 20],\n",
              "        [21, 22, 23, 24]]], dtype=int32)"
            ]
          },
          "metadata": {
            "tags": []
          },
          "execution_count": 179
        }
      ]
    },
    {
      "cell_type": "code",
      "metadata": {
        "colab": {
          "base_uri": "https://localhost:8080/"
        },
        "id": "unHmJOaw2IV_",
        "outputId": "0608b293-e6d7-4a5c-a9af-d87c7f67037b"
      },
      "source": [
        "A = tf.constant(numpy_A)\n",
        "A"
      ],
      "execution_count": null,
      "outputs": [
        {
          "output_type": "execute_result",
          "data": {
            "text/plain": [
              "<tf.Tensor: shape=(2, 3, 4), dtype=int32, numpy=\n",
              "array([[[ 1,  2,  3,  4],\n",
              "        [ 5,  6,  7,  8],\n",
              "        [ 9, 10, 11, 12]],\n",
              "\n",
              "       [[13, 14, 15, 16],\n",
              "        [17, 18, 19, 20],\n",
              "        [21, 22, 23, 24]]], dtype=int32)>"
            ]
          },
          "metadata": {
            "tags": []
          },
          "execution_count": 180
        }
      ]
    },
    {
      "cell_type": "code",
      "metadata": {
        "id": "KV8Zmuvy2K7d"
      },
      "source": [
        "B = tf.Variable(numpy_A)"
      ],
      "execution_count": null,
      "outputs": []
    },
    {
      "cell_type": "code",
      "metadata": {
        "colab": {
          "base_uri": "https://localhost:8080/"
        },
        "id": "TdbzvAcz2RYn",
        "outputId": "26c1b11d-a6a2-4bda-da09-d68d65d74b63"
      },
      "source": [
        "B"
      ],
      "execution_count": null,
      "outputs": [
        {
          "output_type": "execute_result",
          "data": {
            "text/plain": [
              "<tf.Variable 'Variable:0' shape=(2, 3, 4) dtype=int32, numpy=\n",
              "array([[[ 1,  2,  3,  4],\n",
              "        [ 5,  6,  7,  8],\n",
              "        [ 9, 10, 11, 12]],\n",
              "\n",
              "       [[13, 14, 15, 16],\n",
              "        [17, 18, 19, 20],\n",
              "        [21, 22, 23, 24]]], dtype=int32)>"
            ]
          },
          "metadata": {
            "tags": []
          },
          "execution_count": 182
        }
      ]
    },
    {
      "cell_type": "markdown",
      "metadata": {
        "id": "YZcbvp2g2SN4"
      },
      "source": [
        "Getting information from tensors\n",
        "* shape    tensor.shape\n",
        "* Rank    tensor.ndim \n",
        "* Axis or dimension    tensor[0], tensor[:, 1]\n",
        "* Size    tf.size(tensor)"
      ]
    },
    {
      "cell_type": "code",
      "metadata": {
        "colab": {
          "base_uri": "https://localhost:8080/"
        },
        "id": "MdKsmpAh3d0P",
        "outputId": "d815b681-ae54-4faf-f55b-952940807031"
      },
      "source": [
        "   B[:,1]"
      ],
      "execution_count": null,
      "outputs": [
        {
          "output_type": "execute_result",
          "data": {
            "text/plain": [
              "<tf.Tensor: shape=(2, 4), dtype=int32, numpy=\n",
              "array([[ 5,  6,  7,  8],\n",
              "       [17, 18, 19, 20]], dtype=int32)>"
            ]
          },
          "metadata": {
            "tags": []
          },
          "execution_count": 183
        }
      ]
    },
    {
      "cell_type": "code",
      "metadata": {
        "colab": {
          "base_uri": "https://localhost:8080/"
        },
        "id": "F0H1u1WQ34vb",
        "outputId": "f67cd08f-68dc-41c2-a126-d24980d2535d"
      },
      "source": [
        "tf.size(B)"
      ],
      "execution_count": null,
      "outputs": [
        {
          "output_type": "execute_result",
          "data": {
            "text/plain": [
              "<tf.Tensor: shape=(), dtype=int32, numpy=24>"
            ]
          },
          "metadata": {
            "tags": []
          },
          "execution_count": 184
        }
      ]
    },
    {
      "cell_type": "code",
      "metadata": {
        "id": "YvqFAicM4J3o"
      },
      "source": [
        ""
      ],
      "execution_count": null,
      "outputs": []
    },
    {
      "cell_type": "code",
      "metadata": {
        "colab": {
          "base_uri": "https://localhost:8080/"
        },
        "id": "4C5CjDDD4MGd",
        "outputId": "40bee8d9-9ab2-4a53-b8df-f3dfe3674c70"
      },
      "source": [
        "x = tf.zeros((2,3,4))\n",
        "x\n"
      ],
      "execution_count": null,
      "outputs": [
        {
          "output_type": "execute_result",
          "data": {
            "text/plain": [
              "<tf.Tensor: shape=(2, 3, 4), dtype=float32, numpy=\n",
              "array([[[0., 0., 0., 0.],\n",
              "        [0., 0., 0., 0.],\n",
              "        [0., 0., 0., 0.]],\n",
              "\n",
              "       [[0., 0., 0., 0.],\n",
              "        [0., 0., 0., 0.],\n",
              "        [0., 0., 0., 0.]]], dtype=float32)>"
            ]
          },
          "metadata": {
            "tags": []
          },
          "execution_count": 185
        }
      ]
    },
    {
      "cell_type": "code",
      "metadata": {
        "colab": {
          "base_uri": "https://localhost:8080/"
        },
        "id": "jJN16Kg84N9x",
        "outputId": "e15f8bdd-2f12-4aeb-9302-17cd6c8c1b18"
      },
      "source": [
        "x.shape, x.ndim"
      ],
      "execution_count": null,
      "outputs": [
        {
          "output_type": "execute_result",
          "data": {
            "text/plain": [
              "(TensorShape([2, 3, 4]), 3)"
            ]
          },
          "metadata": {
            "tags": []
          },
          "execution_count": 186
        }
      ]
    },
    {
      "cell_type": "code",
      "metadata": {
        "colab": {
          "base_uri": "https://localhost:8080/"
        },
        "id": "NNiJvymQ4yHn",
        "outputId": "ca81a47e-bd09-4079-a25f-d6416cc02cc4"
      },
      "source": [
        "x[:2,:2,:2]"
      ],
      "execution_count": null,
      "outputs": [
        {
          "output_type": "execute_result",
          "data": {
            "text/plain": [
              "<tf.Tensor: shape=(2, 2, 2), dtype=float32, numpy=\n",
              "array([[[0., 0.],\n",
              "        [0., 0.]],\n",
              "\n",
              "       [[0., 0.],\n",
              "        [0., 0.]]], dtype=float32)>"
            ]
          },
          "metadata": {
            "tags": []
          },
          "execution_count": 187
        }
      ]
    },
    {
      "cell_type": "code",
      "metadata": {
        "colab": {
          "base_uri": "https://localhost:8080/"
        },
        "id": "N-zLAvAm7AsX",
        "outputId": "cc10b288-ff33-44a1-d86f-a8f1b6f74af6"
      },
      "source": [
        "x[:-1, :-1, :-1]"
      ],
      "execution_count": null,
      "outputs": [
        {
          "output_type": "execute_result",
          "data": {
            "text/plain": [
              "<tf.Tensor: shape=(1, 2, 3), dtype=float32, numpy=\n",
              "array([[[0., 0., 0.],\n",
              "        [0., 0., 0.]]], dtype=float32)>"
            ]
          },
          "metadata": {
            "tags": []
          },
          "execution_count": 188
        }
      ]
    },
    {
      "cell_type": "code",
      "metadata": {
        "colab": {
          "base_uri": "https://localhost:8080/"
        },
        "id": "ghO4Lwy_sZtd",
        "outputId": "5e7c6172-4669-45e8-cd02-bdf08ab7d7ae"
      },
      "source": [
        "B"
      ],
      "execution_count": null,
      "outputs": [
        {
          "output_type": "execute_result",
          "data": {
            "text/plain": [
              "<tf.Variable 'Variable:0' shape=(2, 3, 4) dtype=int32, numpy=\n",
              "array([[[ 1,  2,  3,  4],\n",
              "        [ 5,  6,  7,  8],\n",
              "        [ 9, 10, 11, 12]],\n",
              "\n",
              "       [[13, 14, 15, 16],\n",
              "        [17, 18, 19, 20],\n",
              "        [21, 22, 23, 24]]], dtype=int32)>"
            ]
          },
          "metadata": {
            "tags": []
          },
          "execution_count": 189
        }
      ]
    },
    {
      "cell_type": "code",
      "metadata": {
        "colab": {
          "base_uri": "https://localhost:8080/"
        },
        "id": "uiGYPZ1l7Zhy",
        "outputId": "ba83cc69-048f-4469-fd54-7cfc8731664c"
      },
      "source": [
        "matrix"
      ],
      "execution_count": null,
      "outputs": [
        {
          "output_type": "execute_result",
          "data": {
            "text/plain": [
              "<tf.Tensor: shape=(2, 2), dtype=int32, numpy=\n",
              "array([[10,  7],\n",
              "       [ 7, 10]], dtype=int32)>"
            ]
          },
          "metadata": {
            "tags": []
          },
          "execution_count": 190
        }
      ]
    },
    {
      "cell_type": "code",
      "metadata": {
        "id": "oI4c-RVAs32t",
        "colab": {
          "base_uri": "https://localhost:8080/"
        },
        "outputId": "ba31e736-8dbc-4814-fb4d-a6f033a66f93"
      },
      "source": [
        "matrix2 = matrix\n",
        "matrix2"
      ],
      "execution_count": null,
      "outputs": [
        {
          "output_type": "execute_result",
          "data": {
            "text/plain": [
              "<tf.Tensor: shape=(2, 2), dtype=int32, numpy=\n",
              "array([[10,  7],\n",
              "       [ 7, 10]], dtype=int32)>"
            ]
          },
          "metadata": {
            "tags": []
          },
          "execution_count": 191
        }
      ]
    },
    {
      "cell_type": "code",
      "metadata": {
        "colab": {
          "base_uri": "https://localhost:8080/"
        },
        "id": "9ztgJfSas7Hz",
        "outputId": "75d85cf4-fe0e-432c-9975-876de6899152"
      },
      "source": [
        "matrix3 = matrix2[..., tf.newaxis]\n",
        "matrix3"
      ],
      "execution_count": null,
      "outputs": [
        {
          "output_type": "execute_result",
          "data": {
            "text/plain": [
              "<tf.Tensor: shape=(2, 2, 1), dtype=int32, numpy=\n",
              "array([[[10],\n",
              "        [ 7]],\n",
              "\n",
              "       [[ 7],\n",
              "        [10]]], dtype=int32)>"
            ]
          },
          "metadata": {
            "tags": []
          },
          "execution_count": 192
        }
      ]
    },
    {
      "cell_type": "code",
      "metadata": {
        "id": "A9eIBjd7tBMk",
        "colab": {
          "base_uri": "https://localhost:8080/"
        },
        "outputId": "608634ec-9a82-4aa1-def2-83406328f46f"
      },
      "source": [
        "#Alternative to tf.newaxis\n",
        "tf.expand_dims(matrix2, axis=-1)"
      ],
      "execution_count": null,
      "outputs": [
        {
          "output_type": "execute_result",
          "data": {
            "text/plain": [
              "<tf.Tensor: shape=(2, 2, 1), dtype=int32, numpy=\n",
              "array([[[10],\n",
              "        [ 7]],\n",
              "\n",
              "       [[ 7],\n",
              "        [10]]], dtype=int32)>"
            ]
          },
          "metadata": {
            "tags": []
          },
          "execution_count": 193
        }
      ]
    },
    {
      "cell_type": "code",
      "metadata": {
        "colab": {
          "base_uri": "https://localhost:8080/"
        },
        "id": "1U1OPxDC3e0n",
        "outputId": "b49e484e-d245-4449-d747-9361ec6e2d13"
      },
      "source": [
        "tf.expand_dims(matrix2, axis=1)"
      ],
      "execution_count": null,
      "outputs": [
        {
          "output_type": "execute_result",
          "data": {
            "text/plain": [
              "<tf.Tensor: shape=(2, 1, 2), dtype=int32, numpy=\n",
              "array([[[10,  7]],\n",
              "\n",
              "       [[ 7, 10]]], dtype=int32)>"
            ]
          },
          "metadata": {
            "tags": []
          },
          "execution_count": 194
        }
      ]
    },
    {
      "cell_type": "code",
      "metadata": {
        "colab": {
          "base_uri": "https://localhost:8080/"
        },
        "id": "qb0HzkKB3yvO",
        "outputId": "2f6f72a9-bdf3-4a8f-e0ae-77482e0393f2"
      },
      "source": [
        "#Manipulating Tensors (Tensor Operations)\n",
        "#Basic Operations +, -, *, / (Element Wise)\n",
        "\n",
        "tensor = tf.constant([[10, 7],[3,4]])\n",
        "tensor + 10\n"
      ],
      "execution_count": null,
      "outputs": [
        {
          "output_type": "execute_result",
          "data": {
            "text/plain": [
              "<tf.Tensor: shape=(2, 2), dtype=int32, numpy=\n",
              "array([[20, 17],\n",
              "       [13, 14]], dtype=int32)>"
            ]
          },
          "metadata": {
            "tags": []
          },
          "execution_count": 195
        }
      ]
    },
    {
      "cell_type": "code",
      "metadata": {
        "colab": {
          "base_uri": "https://localhost:8080/"
        },
        "id": "9-EG_mwF4-8A",
        "outputId": "be09bf51-751f-4634-ecc4-841fc3834248"
      },
      "source": [
        "tensor - 10"
      ],
      "execution_count": null,
      "outputs": [
        {
          "output_type": "execute_result",
          "data": {
            "text/plain": [
              "<tf.Tensor: shape=(2, 2), dtype=int32, numpy=\n",
              "array([[ 0, -3],\n",
              "       [-7, -6]], dtype=int32)>"
            ]
          },
          "metadata": {
            "tags": []
          },
          "execution_count": 196
        }
      ]
    },
    {
      "cell_type": "code",
      "metadata": {
        "colab": {
          "base_uri": "https://localhost:8080/"
        },
        "id": "hY0z_T1k5AcD",
        "outputId": "10f99345-ab3a-4b8a-8837-841d1db879c5"
      },
      "source": [
        "tensor * 5"
      ],
      "execution_count": null,
      "outputs": [
        {
          "output_type": "execute_result",
          "data": {
            "text/plain": [
              "<tf.Tensor: shape=(2, 2), dtype=int32, numpy=\n",
              "array([[50, 35],\n",
              "       [15, 20]], dtype=int32)>"
            ]
          },
          "metadata": {
            "tags": []
          },
          "execution_count": 197
        }
      ]
    },
    {
      "cell_type": "code",
      "metadata": {
        "colab": {
          "base_uri": "https://localhost:8080/"
        },
        "id": "p--A5EXh5EX3",
        "outputId": "4b2f2216-57d8-466a-803a-64f743dda588"
      },
      "source": [
        "tensor / 2"
      ],
      "execution_count": null,
      "outputs": [
        {
          "output_type": "execute_result",
          "data": {
            "text/plain": [
              "<tf.Tensor: shape=(2, 2), dtype=float64, numpy=\n",
              "array([[5. , 3.5],\n",
              "       [1.5, 2. ]])>"
            ]
          },
          "metadata": {
            "tags": []
          },
          "execution_count": 198
        }
      ]
    },
    {
      "cell_type": "code",
      "metadata": {
        "colab": {
          "base_uri": "https://localhost:8080/"
        },
        "id": "ufrktSBz5FYC",
        "outputId": "e11b0df3-e70d-4b08-b71b-ca31053a60a1"
      },
      "source": [
        "#We can use built in functions too\n",
        "#Built in functions are faster\n",
        "tf.multiply(tensor, 10)"
      ],
      "execution_count": null,
      "outputs": [
        {
          "output_type": "execute_result",
          "data": {
            "text/plain": [
              "<tf.Tensor: shape=(2, 2), dtype=int32, numpy=\n",
              "array([[100,  70],\n",
              "       [ 30,  40]], dtype=int32)>"
            ]
          },
          "metadata": {
            "tags": []
          },
          "execution_count": 199
        }
      ]
    },
    {
      "cell_type": "markdown",
      "metadata": {
        "id": "vaBzra2V56sH"
      },
      "source": [
        "Matrix Multiplication \n",
        "\n",
        "In machine learning, matrix multiplication is one the most common tensor operations\n",
        "\n",
        "Matrix Multiplication is also referred to as the dot product.\n",
        "\n",
        "You can do it using \n",
        "* tf.matmul()\n",
        "* tf.tensordot()\n",
        "\n",
        "or the python way of doing it using @ operator. though the tensor built in functions are faster"
      ]
    },
    {
      "cell_type": "code",
      "metadata": {
        "colab": {
          "base_uri": "https://localhost:8080/"
        },
        "id": "KnR4JWHB6aZM",
        "outputId": "aac3761f-f27d-4ce6-c114-e6c8da7ee145"
      },
      "source": [
        "mat1 = tf.constant([[1,2,7],\n",
        "                    [7,2,1],\n",
        "                    [3,3,3]])\n",
        "mat2 = tf.constant([[2,5],\n",
        "                    [6,7],\n",
        "                    [1,8]])\n",
        "mat1, mat2"
      ],
      "execution_count": null,
      "outputs": [
        {
          "output_type": "execute_result",
          "data": {
            "text/plain": [
              "(<tf.Tensor: shape=(3, 3), dtype=int32, numpy=\n",
              " array([[1, 2, 7],\n",
              "        [7, 2, 1],\n",
              "        [3, 3, 3]], dtype=int32)>,\n",
              " <tf.Tensor: shape=(3, 2), dtype=int32, numpy=\n",
              " array([[2, 5],\n",
              "        [6, 7],\n",
              "        [1, 8]], dtype=int32)>)"
            ]
          },
          "metadata": {
            "tags": []
          },
          "execution_count": 200
        }
      ]
    },
    {
      "cell_type": "code",
      "metadata": {
        "colab": {
          "base_uri": "https://localhost:8080/"
        },
        "id": "FS5MLexv5Z8m",
        "outputId": "afba7136-3fcb-4e24-8224-d79c78cf06ac"
      },
      "source": [
        "#Matrix Multiplication in tensorflow\n",
        "%%time\n",
        "tf.matmul(mat1, mat2)\n"
      ],
      "execution_count": null,
      "outputs": [
        {
          "output_type": "stream",
          "text": [
            "CPU times: user 1.18 ms, sys: 11 µs, total: 1.2 ms\n",
            "Wall time: 1.21 ms\n"
          ],
          "name": "stdout"
        },
        {
          "output_type": "execute_result",
          "data": {
            "text/plain": [
              "<tf.Tensor: shape=(3, 2), dtype=int32, numpy=\n",
              "array([[21, 75],\n",
              "       [27, 57],\n",
              "       [27, 60]], dtype=int32)>"
            ]
          },
          "metadata": {
            "tags": []
          },
          "execution_count": 201
        }
      ]
    },
    {
      "cell_type": "code",
      "metadata": {
        "colab": {
          "base_uri": "https://localhost:8080/"
        },
        "id": "2QNJHJ0f6uMF",
        "outputId": "0104a655-6374-4b1f-a1c9-40fa7cba0bbd"
      },
      "source": [
        "#Matrix Multiplication in python\n",
        "%%time\n",
        "mat1 @ mat2"
      ],
      "execution_count": null,
      "outputs": [
        {
          "output_type": "stream",
          "text": [
            "CPU times: user 301 µs, sys: 0 ns, total: 301 µs\n",
            "Wall time: 319 µs\n"
          ],
          "name": "stdout"
        },
        {
          "output_type": "execute_result",
          "data": {
            "text/plain": [
              "<tf.Tensor: shape=(3, 2), dtype=int32, numpy=\n",
              "array([[21, 75],\n",
              "       [27, 57],\n",
              "       [27, 60]], dtype=int32)>"
            ]
          },
          "metadata": {
            "tags": []
          },
          "execution_count": 202
        }
      ]
    },
    {
      "cell_type": "code",
      "metadata": {
        "colab": {
          "base_uri": "https://localhost:8080/"
        },
        "id": "K607RFA17ecw",
        "outputId": "8c8e1f76-1b4c-4b30-886d-f2bf4c4c0941"
      },
      "source": [
        "mat3 = tf.constant([[1,2,5],\n",
        "                    [7,2,1],\n",
        "                    [3,3,3]])\n",
        "mat4 = tf.constant([[3,5],\n",
        "                    [6,7],\n",
        "                    [1,8]])\n",
        "mat3, mat4"
      ],
      "execution_count": null,
      "outputs": [
        {
          "output_type": "execute_result",
          "data": {
            "text/plain": [
              "(<tf.Tensor: shape=(3, 3), dtype=int32, numpy=\n",
              " array([[1, 2, 5],\n",
              "        [7, 2, 1],\n",
              "        [3, 3, 3]], dtype=int32)>,\n",
              " <tf.Tensor: shape=(3, 2), dtype=int32, numpy=\n",
              " array([[3, 5],\n",
              "        [6, 7],\n",
              "        [1, 8]], dtype=int32)>)"
            ]
          },
          "metadata": {
            "tags": []
          },
          "execution_count": 203
        }
      ]
    },
    {
      "cell_type": "code",
      "metadata": {
        "colab": {
          "base_uri": "https://localhost:8080/"
        },
        "id": "c8uuERQY7hnx",
        "outputId": "16c6072c-13f7-4877-e64d-e9dbc0a8ab52"
      },
      "source": [
        " tf.matmul(mat3, mat4)"
      ],
      "execution_count": null,
      "outputs": [
        {
          "output_type": "execute_result",
          "data": {
            "text/plain": [
              "<tf.Tensor: shape=(3, 2), dtype=int32, numpy=\n",
              "array([[20, 59],\n",
              "       [34, 57],\n",
              "       [30, 60]], dtype=int32)>"
            ]
          },
          "metadata": {
            "tags": []
          },
          "execution_count": 204
        }
      ]
    },
    {
      "cell_type": "code",
      "metadata": {
        "colab": {
          "base_uri": "https://localhost:8080/"
        },
        "id": "td-oaah87415",
        "outputId": "a5f9b530-ffed-4a64-b03f-4ff8128f20cf"
      },
      "source": [
        "tf.matmul(mat4, mat3, transpose_a=True)"
      ],
      "execution_count": null,
      "outputs": [
        {
          "output_type": "execute_result",
          "data": {
            "text/plain": [
              "<tf.Tensor: shape=(2, 3), dtype=int32, numpy=\n",
              "array([[48, 21, 24],\n",
              "       [78, 48, 56]], dtype=int32)>"
            ]
          },
          "metadata": {
            "tags": []
          },
          "execution_count": 205
        }
      ]
    },
    {
      "cell_type": "code",
      "metadata": {
        "colab": {
          "base_uri": "https://localhost:8080/"
        },
        "id": "1CpBwpD98sb3",
        "outputId": "47766dd5-4f3c-483d-a338-a279e7ccf622"
      },
      "source": [
        "tf.matmul(tf.transpose(mat4), mat3)"
      ],
      "execution_count": null,
      "outputs": [
        {
          "output_type": "execute_result",
          "data": {
            "text/plain": [
              "<tf.Tensor: shape=(2, 3), dtype=int32, numpy=\n",
              "array([[48, 21, 24],\n",
              "       [78, 48, 56]], dtype=int32)>"
            ]
          },
          "metadata": {
            "tags": []
          },
          "execution_count": 206
        }
      ]
    },
    {
      "cell_type": "code",
      "metadata": {
        "colab": {
          "base_uri": "https://localhost:8080/"
        },
        "id": "Jc2JlwtO-JJ4",
        "outputId": "c384bb64-5012-4ee0-e54b-e3b9f03e4f0e"
      },
      "source": [
        " sales = tf.constant([[13,9,7,15],\n",
        "                     [8,7,4,6],\n",
        "                     [6,4,0,3]])\n",
        " cost = tf.constant([[3,4,2]])\n",
        " sales, cost"
      ],
      "execution_count": null,
      "outputs": [
        {
          "output_type": "execute_result",
          "data": {
            "text/plain": [
              "(<tf.Tensor: shape=(3, 4), dtype=int32, numpy=\n",
              " array([[13,  9,  7, 15],\n",
              "        [ 8,  7,  4,  6],\n",
              "        [ 6,  4,  0,  3]], dtype=int32)>,\n",
              " <tf.Tensor: shape=(1, 3), dtype=int32, numpy=array([[3, 4, 2]], dtype=int32)>)"
            ]
          },
          "metadata": {
            "tags": []
          },
          "execution_count": 207
        }
      ]
    },
    {
      "cell_type": "code",
      "metadata": {
        "colab": {
          "base_uri": "https://localhost:8080/"
        },
        "id": "IBaGZqcHAPWx",
        "outputId": "f5fba3b4-bf19-4387-e394-261001cfdef4"
      },
      "source": [
        "tf.matmul(cost, sales)"
      ],
      "execution_count": null,
      "outputs": [
        {
          "output_type": "execute_result",
          "data": {
            "text/plain": [
              "<tf.Tensor: shape=(1, 4), dtype=int32, numpy=array([[83, 63, 37, 75]], dtype=int32)>"
            ]
          },
          "metadata": {
            "tags": []
          },
          "execution_count": 208
        }
      ]
    },
    {
      "cell_type": "code",
      "metadata": {
        "colab": {
          "base_uri": "https://localhost:8080/"
        },
        "id": "sWKmghfoAfRp",
        "outputId": "27f71c15-d848-4bb2-e74b-3a5c97a8df41"
      },
      "source": [
        "tf.tensordot(cost, sales, axes=1)"
      ],
      "execution_count": null,
      "outputs": [
        {
          "output_type": "execute_result",
          "data": {
            "text/plain": [
              "<tf.Tensor: shape=(1, 4), dtype=int32, numpy=array([[83, 63, 37, 75]], dtype=int32)>"
            ]
          },
          "metadata": {
            "tags": []
          },
          "execution_count": 209
        }
      ]
    },
    {
      "cell_type": "code",
      "metadata": {
        "colab": {
          "base_uri": "https://localhost:8080/"
        },
        "id": "iXmkeKMkCNci",
        "outputId": "547644b8-dd74-4a7c-eaad-e71c779ec4db"
      },
      "source": [
        " #Changing the datatype of a tensor\n",
        " #It reduces the space our tensor takes on memory\n",
        " #This makes calculations faster\n",
        "B = tf.constant([2.3,1.3], dtype=tf.float16)\n",
        "A = tf.constant([1,2])\n",
        "B, A\n"
      ],
      "execution_count": null,
      "outputs": [
        {
          "output_type": "execute_result",
          "data": {
            "text/plain": [
              "(<tf.Tensor: shape=(2,), dtype=float16, numpy=array([2.3, 1.3], dtype=float16)>,\n",
              " <tf.Tensor: shape=(2,), dtype=int32, numpy=array([1, 2], dtype=int32)>)"
            ]
          },
          "metadata": {
            "tags": []
          },
          "execution_count": 210
        }
      ]
    },
    {
      "cell_type": "code",
      "metadata": {
        "colab": {
          "base_uri": "https://localhost:8080/"
        },
        "id": "jsilER3sEREG",
        "outputId": "5b9a90fe-3b82-4cf0-801d-b0fce09e7c20"
      },
      "source": [
        "tf.cast(A, dtype=tf.int16)"
      ],
      "execution_count": null,
      "outputs": [
        {
          "output_type": "execute_result",
          "data": {
            "text/plain": [
              "<tf.Tensor: shape=(2,), dtype=int16, numpy=array([1, 2], dtype=int16)>"
            ]
          },
          "metadata": {
            "tags": []
          },
          "execution_count": 211
        }
      ]
    },
    {
      "cell_type": "code",
      "metadata": {
        "colab": {
          "base_uri": "https://localhost:8080/"
        },
        "id": "mNUIpjZzLn4l",
        "outputId": "df324629-07b7-4741-d8fa-a134a74f268b"
      },
      "source": [
        "tf.cast(A, dtype=tf.float16)"
      ],
      "execution_count": null,
      "outputs": [
        {
          "output_type": "execute_result",
          "data": {
            "text/plain": [
              "<tf.Tensor: shape=(2,), dtype=float16, numpy=array([1., 2.], dtype=float16)>"
            ]
          },
          "metadata": {
            "tags": []
          },
          "execution_count": 212
        }
      ]
    },
    {
      "cell_type": "markdown",
      "metadata": {
        "id": "vWOvUPJlMGEC"
      },
      "source": [
        "Aggregrate \n",
        "\n",
        "Aggregating tensors = condensing them from multiple values down to a smaller amount of values\n",
        "\n",
        "* absolute\n",
        "* maximum\n",
        "* minimum\n",
        "* mean\n",
        "* sum\n",
        "\n"
      ]
    },
    {
      "cell_type": "code",
      "metadata": {
        "colab": {
          "base_uri": "https://localhost:8080/"
        },
        "id": "QR90koMIOmvU",
        "outputId": "c567baeb-1f54-481b-a412-099dc0d8d8cb"
      },
      "source": [
        "#Getting the absolute value\n",
        "D = tf.constant([-7, -10])\n",
        "D"
      ],
      "execution_count": null,
      "outputs": [
        {
          "output_type": "execute_result",
          "data": {
            "text/plain": [
              "<tf.Tensor: shape=(2,), dtype=int32, numpy=array([ -7, -10], dtype=int32)>"
            ]
          },
          "metadata": {
            "tags": []
          },
          "execution_count": 213
        }
      ]
    },
    {
      "cell_type": "code",
      "metadata": {
        "colab": {
          "base_uri": "https://localhost:8080/"
        },
        "id": "cDhyPRCnOsSh",
        "outputId": "dfe8e8a7-8d81-4aa3-d25b-7e18c0e09d80"
      },
      "source": [
        "tf.abs(D)"
      ],
      "execution_count": null,
      "outputs": [
        {
          "output_type": "execute_result",
          "data": {
            "text/plain": [
              "<tf.Tensor: shape=(2,), dtype=int32, numpy=array([ 7, 10], dtype=int32)>"
            ]
          },
          "metadata": {
            "tags": []
          },
          "execution_count": 214
        }
      ]
    },
    {
      "cell_type": "code",
      "metadata": {
        "colab": {
          "base_uri": "https://localhost:8080/"
        },
        "id": "rb3G7LBCO6S0",
        "outputId": "d1db08e9-918d-45fd-e878-7d1708ebc004"
      },
      "source": [
        "  sales"
      ],
      "execution_count": null,
      "outputs": [
        {
          "output_type": "execute_result",
          "data": {
            "text/plain": [
              "<tf.Tensor: shape=(3, 4), dtype=int32, numpy=\n",
              "array([[13,  9,  7, 15],\n",
              "       [ 8,  7,  4,  6],\n",
              "       [ 6,  4,  0,  3]], dtype=int32)>"
            ]
          },
          "metadata": {
            "tags": []
          },
          "execution_count": 215
        }
      ]
    },
    {
      "cell_type": "code",
      "metadata": {
        "colab": {
          "base_uri": "https://localhost:8080/"
        },
        "id": "Wxq3lyi2PTo5",
        "outputId": "f77d8f5c-4f27-4984-d728-1d4c87dd1144"
      },
      "source": [
        "tf.reduce_max(sales), tf.reduce_min(sales), tf.reduce_mean(sales), tf.reduce_sum(sales)"
      ],
      "execution_count": null,
      "outputs": [
        {
          "output_type": "execute_result",
          "data": {
            "text/plain": [
              "(<tf.Tensor: shape=(), dtype=int32, numpy=15>,\n",
              " <tf.Tensor: shape=(), dtype=int32, numpy=0>,\n",
              " <tf.Tensor: shape=(), dtype=int32, numpy=6>,\n",
              " <tf.Tensor: shape=(), dtype=int32, numpy=82>)"
            ]
          },
          "metadata": {
            "tags": []
          },
          "execution_count": 216
        }
      ]
    },
    {
      "cell_type": "code",
      "metadata": {
        "colab": {
          "base_uri": "https://localhost:8080/"
        },
        "id": "GRESxWtsPbE1",
        "outputId": "1643d4b8-23fe-42a1-cd96-93a85080cc53"
      },
      "source": [
        "sum(sum(sales)), sum(sum(sales))/tf.size(sales)"
      ],
      "execution_count": null,
      "outputs": [
        {
          "output_type": "execute_result",
          "data": {
            "text/plain": [
              "(<tf.Tensor: shape=(), dtype=int32, numpy=82>,\n",
              " <tf.Tensor: shape=(), dtype=float64, numpy=6.833333333333333>)"
            ]
          },
          "metadata": {
            "tags": []
          },
          "execution_count": 217
        }
      ]
    },
    {
      "cell_type": "code",
      "metadata": {
        "colab": {
          "base_uri": "https://localhost:8080/"
        },
        "id": "KFxSXYTgQXtF",
        "outputId": "34611eba-2388-4446-e82c-13dce636a794"
      },
      "source": [
        "e = tf.constant(np.random.randint(100, size = 50))\n",
        "e"
      ],
      "execution_count": null,
      "outputs": [
        {
          "output_type": "execute_result",
          "data": {
            "text/plain": [
              "<tf.Tensor: shape=(50,), dtype=int64, numpy=\n",
              "array([20,  2, 97,  9, 23, 16,  0, 30, 48, 14, 60,  6, 75, 92, 80, 68,  1,\n",
              "       85, 77, 13, 71, 90, 50, 60, 36, 84, 99, 49, 52, 61, 60, 74, 54, 94,\n",
              "       42, 41, 50, 69,  9, 88, 88, 62,  5,  8, 34, 17, 48, 91, 60, 94])>"
            ]
          },
          "metadata": {
            "tags": []
          },
          "execution_count": 218
        }
      ]
    },
    {
      "cell_type": "code",
      "metadata": {
        "colab": {
          "base_uri": "https://localhost:8080/"
        },
        "id": "k-mxWuO-Qeq1",
        "outputId": "7be922f1-ac75-4b7f-d664-90b76399fcf5"
      },
      "source": [
        "tf.size(e), e.ndim, e.shape"
      ],
      "execution_count": null,
      "outputs": [
        {
          "output_type": "execute_result",
          "data": {
            "text/plain": [
              "(<tf.Tensor: shape=(), dtype=int32, numpy=50>, 1, TensorShape([50]))"
            ]
          },
          "metadata": {
            "tags": []
          },
          "execution_count": 219
        }
      ]
    },
    {
      "cell_type": "code",
      "metadata": {
        "colab": {
          "base_uri": "https://localhost:8080/"
        },
        "id": "nJL2h8BNRdzZ",
        "outputId": "5f2bda87-c76b-4be8-c5d6-f59996c0bc1b"
      },
      "source": [
        "tf.reduce_max(e), tf.reduce_min(e), tf.reduce_mean(tf.cast(e, dtype=tf.float32)), tf.reduce_sum(e)"
      ],
      "execution_count": null,
      "outputs": [
        {
          "output_type": "execute_result",
          "data": {
            "text/plain": [
              "(<tf.Tensor: shape=(), dtype=int64, numpy=99>,\n",
              " <tf.Tensor: shape=(), dtype=int64, numpy=0>,\n",
              " <tf.Tensor: shape=(), dtype=float32, numpy=51.12>,\n",
              " <tf.Tensor: shape=(), dtype=int64, numpy=2556>)"
            ]
          },
          "metadata": {
            "tags": []
          },
          "execution_count": 232
        }
      ]
    },
    {
      "cell_type": "code",
      "metadata": {
        "id": "lVP83O56RqFK"
      },
      "source": [
        "#To find variance, we need to import tensorflow probability librar"
      ],
      "execution_count": null,
      "outputs": []
    },
    {
      "cell_type": "code",
      "metadata": {
        "colab": {
          "base_uri": "https://localhost:8080/"
        },
        "id": "grbl4NtMSK0c",
        "outputId": "48c0c85f-bf7b-43e2-8b42-5cd70ef1da1f"
      },
      "source": [
        "tfp.stats.variance(e)"
      ],
      "execution_count": null,
      "outputs": [
        {
          "output_type": "execute_result",
          "data": {
            "text/plain": [
              "<tf.Tensor: shape=(), dtype=int64, numpy=944>"
            ]
          },
          "metadata": {
            "tags": []
          },
          "execution_count": 224
        }
      ]
    },
    {
      "cell_type": "code",
      "metadata": {
        "colab": {
          "base_uri": "https://localhost:8080/"
        },
        "id": "yidxkwSgVBE0",
        "outputId": "e6588815-1866-4de5-9d4c-d4d2a3c10045"
      },
      "source": [
        "#Or we can also find it as follows\n",
        "tf.math.reduce_variance(tf.cast(e, dtype=tf.float32))"
      ],
      "execution_count": null,
      "outputs": [
        {
          "output_type": "execute_result",
          "data": {
            "text/plain": [
              "<tf.Tensor: shape=(), dtype=float32, numpy=944.22565>"
            ]
          },
          "metadata": {
            "tags": []
          },
          "execution_count": 231
        }
      ]
    },
    {
      "cell_type": "code",
      "metadata": {
        "colab": {
          "base_uri": "https://localhost:8080/"
        },
        "id": "EMMyhiV1TGo4",
        "outputId": "ca203d1e-38b1-4c77-fa81-d837085e4897"
      },
      "source": [
        "#data type needs to be real number (float)\n",
        "tf.math.reduce_std(tf.cast(e, dtype=tf.float32))"
      ],
      "execution_count": null,
      "outputs": [
        {
          "output_type": "execute_result",
          "data": {
            "text/plain": [
              "<tf.Tensor: shape=(), dtype=float32, numpy=30.728254>"
            ]
          },
          "metadata": {
            "tags": []
          },
          "execution_count": 227
        }
      ]
    },
    {
      "cell_type": "code",
      "metadata": {
        "colab": {
          "base_uri": "https://localhost:8080/"
        },
        "id": "b2mqTYRPWP3m",
        "outputId": "d8a2134a-efe1-416c-a118-f86b0c35cc8c"
      },
      "source": [
        "sales\n"
      ],
      "execution_count": null,
      "outputs": [
        {
          "output_type": "execute_result",
          "data": {
            "text/plain": [
              "<tf.Tensor: shape=(3, 4), dtype=int32, numpy=\n",
              "array([[13,  9,  7, 15],\n",
              "       [ 8,  7,  4,  6],\n",
              "       [ 6,  4,  0,  3]], dtype=int32)>"
            ]
          },
          "metadata": {
            "tags": []
          },
          "execution_count": 240
        }
      ]
    },
    {
      "cell_type": "code",
      "metadata": {
        "id": "BaMvOxF1TKCb",
        "colab": {
          "base_uri": "https://localhost:8080/"
        },
        "outputId": "aac71fe4-2b3a-4b7e-d311-a97c640be22c"
      },
      "source": [
        "tf.argmax(sales, axis = 1)"
      ],
      "execution_count": null,
      "outputs": [
        {
          "output_type": "execute_result",
          "data": {
            "text/plain": [
              "<tf.Tensor: shape=(3,), dtype=int64, numpy=array([3, 0, 0])>"
            ]
          },
          "metadata": {
            "tags": []
          },
          "execution_count": 241
        }
      ]
    },
    {
      "cell_type": "code",
      "metadata": {
        "colab": {
          "base_uri": "https://localhost:8080/"
        },
        "id": "frNSAYwIU8a3",
        "outputId": "c9855376-dd64-4117-d086-f28e8ee5b48e"
      },
      "source": [
        "tf.argmin(sales)"
      ],
      "execution_count": null,
      "outputs": [
        {
          "output_type": "execute_result",
          "data": {
            "text/plain": [
              "<tf.Tensor: shape=(4,), dtype=int64, numpy=array([2, 2, 2, 2])>"
            ]
          },
          "metadata": {
            "tags": []
          },
          "execution_count": 238
        }
      ]
    },
    {
      "cell_type": "code",
      "metadata": {
        "colab": {
          "base_uri": "https://localhost:8080/"
        },
        "id": "dp0piGVhV_Us",
        "outputId": "b557c58f-4b12-4361-cf6d-49a61b286d0b"
      },
      "source": [
        "tf.random.set_seed(42)\n",
        "f = tf.random.uniform(shape=[50])\n",
        "f"
      ],
      "execution_count": null,
      "outputs": [
        {
          "output_type": "execute_result",
          "data": {
            "text/plain": [
              "<tf.Tensor: shape=(50,), dtype=float32, numpy=\n",
              "array([0.6645621 , 0.44100678, 0.3528825 , 0.46448255, 0.03366041,\n",
              "       0.68467236, 0.74011743, 0.8724445 , 0.22632635, 0.22319686,\n",
              "       0.3103881 , 0.7223358 , 0.13318717, 0.5480639 , 0.5746088 ,\n",
              "       0.8996835 , 0.00946367, 0.5212307 , 0.6345445 , 0.1993283 ,\n",
              "       0.72942245, 0.54583454, 0.10756552, 0.6767061 , 0.6602763 ,\n",
              "       0.33695042, 0.60141766, 0.21062577, 0.8527372 , 0.44062173,\n",
              "       0.9485276 , 0.23752594, 0.81179297, 0.5263394 , 0.494308  ,\n",
              "       0.21612847, 0.8457197 , 0.8718841 , 0.3083862 , 0.6868038 ,\n",
              "       0.23764038, 0.7817228 , 0.9671384 , 0.06870162, 0.79873943,\n",
              "       0.66028714, 0.5871513 , 0.16461694, 0.7381023 , 0.32054043],\n",
              "      dtype=float32)>"
            ]
          },
          "metadata": {
            "tags": []
          },
          "execution_count": 244
        }
      ]
    },
    {
      "cell_type": "code",
      "metadata": {
        "colab": {
          "base_uri": "https://localhost:8080/"
        },
        "id": "cf2zYVw5We_e",
        "outputId": "adaf568e-bb63-41c9-f507-f8d7e58ffa44"
      },
      "source": [
        "#Find the position of the maximum and minimum\n",
        "tf.argmax(f), tf.argmin(f)"
      ],
      "execution_count": null,
      "outputs": [
        {
          "output_type": "execute_result",
          "data": {
            "text/plain": [
              "(<tf.Tensor: shape=(), dtype=int64, numpy=42>,\n",
              " <tf.Tensor: shape=(), dtype=int64, numpy=16>)"
            ]
          },
          "metadata": {
            "tags": []
          },
          "execution_count": 245
        }
      ]
    },
    {
      "cell_type": "code",
      "metadata": {
        "colab": {
          "base_uri": "https://localhost:8080/"
        },
        "id": "aXMum4jyXQ-q",
        "outputId": "0913ec34-bc84-42ff-b199-396f1b8d1cc7"
      },
      "source": [
        "f[tf.argmax(f)], f[tf.argmin(f)]"
      ],
      "execution_count": null,
      "outputs": [
        {
          "output_type": "execute_result",
          "data": {
            "text/plain": [
              "(<tf.Tensor: shape=(), dtype=float32, numpy=0.9671384>,\n",
              " <tf.Tensor: shape=(), dtype=float32, numpy=0.009463668>)"
            ]
          },
          "metadata": {
            "tags": []
          },
          "execution_count": 246
        }
      ]
    },
    {
      "cell_type": "code",
      "metadata": {
        "colab": {
          "base_uri": "https://localhost:8080/"
        },
        "id": "MR5gEzB0XjJH",
        "outputId": "ea9cb2a9-c64e-4b73-f3e8-6419ed9598e3"
      },
      "source": [
        "tf.reduce_max(f), tf.reduce_min(f)"
      ],
      "execution_count": null,
      "outputs": [
        {
          "output_type": "execute_result",
          "data": {
            "text/plain": [
              "(<tf.Tensor: shape=(), dtype=float32, numpy=0.9671384>,\n",
              " <tf.Tensor: shape=(), dtype=float32, numpy=0.009463668>)"
            ]
          },
          "metadata": {
            "tags": []
          },
          "execution_count": 247
        }
      ]
    },
    {
      "cell_type": "code",
      "metadata": {
        "colab": {
          "base_uri": "https://localhost:8080/"
        },
        "id": "LmTxbB08XpsP",
        "outputId": "1694991d-930d-4434-cb65-2b0b9408f03b"
      },
      "source": [
        "#Squezzing a tensor (removing all single dimensions)\n",
        "tf.random.set_seed(42)\n",
        "g = tf.constant(tf.random.uniform(shape=[50]), shape=[1,1,1,1,50])\n",
        "g"
      ],
      "execution_count": null,
      "outputs": [
        {
          "output_type": "execute_result",
          "data": {
            "text/plain": [
              "<tf.Tensor: shape=(1, 1, 1, 1, 50), dtype=float32, numpy=\n",
              "array([[[[[0.6645621 , 0.44100678, 0.3528825 , 0.46448255, 0.03366041,\n",
              "           0.68467236, 0.74011743, 0.8724445 , 0.22632635, 0.22319686,\n",
              "           0.3103881 , 0.7223358 , 0.13318717, 0.5480639 , 0.5746088 ,\n",
              "           0.8996835 , 0.00946367, 0.5212307 , 0.6345445 , 0.1993283 ,\n",
              "           0.72942245, 0.54583454, 0.10756552, 0.6767061 , 0.6602763 ,\n",
              "           0.33695042, 0.60141766, 0.21062577, 0.8527372 , 0.44062173,\n",
              "           0.9485276 , 0.23752594, 0.81179297, 0.5263394 , 0.494308  ,\n",
              "           0.21612847, 0.8457197 , 0.8718841 , 0.3083862 , 0.6868038 ,\n",
              "           0.23764038, 0.7817228 , 0.9671384 , 0.06870162, 0.79873943,\n",
              "           0.66028714, 0.5871513 , 0.16461694, 0.7381023 , 0.32054043]]]]],\n",
              "      dtype=float32)>"
            ]
          },
          "metadata": {
            "tags": []
          },
          "execution_count": 250
        }
      ]
    },
    {
      "cell_type": "code",
      "metadata": {
        "colab": {
          "base_uri": "https://localhost:8080/"
        },
        "id": "BKTxMMbVYZ9j",
        "outputId": "90ba1c9a-c52b-4a22-8021-f6ea459d00b7"
      },
      "source": [
        "g_squeezed = tf.squeeze(g, [0,1,2])\n",
        "g_squeezed"
      ],
      "execution_count": null,
      "outputs": [
        {
          "output_type": "execute_result",
          "data": {
            "text/plain": [
              "<tf.Tensor: shape=(1, 50), dtype=float32, numpy=\n",
              "array([[0.6645621 , 0.44100678, 0.3528825 , 0.46448255, 0.03366041,\n",
              "        0.68467236, 0.74011743, 0.8724445 , 0.22632635, 0.22319686,\n",
              "        0.3103881 , 0.7223358 , 0.13318717, 0.5480639 , 0.5746088 ,\n",
              "        0.8996835 , 0.00946367, 0.5212307 , 0.6345445 , 0.1993283 ,\n",
              "        0.72942245, 0.54583454, 0.10756552, 0.6767061 , 0.6602763 ,\n",
              "        0.33695042, 0.60141766, 0.21062577, 0.8527372 , 0.44062173,\n",
              "        0.9485276 , 0.23752594, 0.81179297, 0.5263394 , 0.494308  ,\n",
              "        0.21612847, 0.8457197 , 0.8718841 , 0.3083862 , 0.6868038 ,\n",
              "        0.23764038, 0.7817228 , 0.9671384 , 0.06870162, 0.79873943,\n",
              "        0.66028714, 0.5871513 , 0.16461694, 0.7381023 , 0.32054043]],\n",
              "      dtype=float32)>"
            ]
          },
          "metadata": {
            "tags": []
          },
          "execution_count": 251
        }
      ]
    },
    {
      "cell_type": "markdown",
      "metadata": {
        "id": "gGhV1E5OYlN0"
      },
      "source": [
        "One-hot encoding tensors\n",
        "\n",
        "It is a form of numerical encoding"
      ]
    },
    {
      "cell_type": "code",
      "metadata": {
        "colab": {
          "base_uri": "https://localhost:8080/"
        },
        "id": "YMTNYrQ9ZWu6",
        "outputId": "8f701333-d4d4-4d30-d31f-7f63a8263bb4"
      },
      "source": [
        "h = [0, 1, 1, 3] #could be red, green, blue, purple\n",
        "\n",
        "#One-hot encoding our list\n",
        "tf.one_hot(h, depth=4, axis = 0)"
      ],
      "execution_count": null,
      "outputs": [
        {
          "output_type": "execute_result",
          "data": {
            "text/plain": [
              "<tf.Tensor: shape=(4, 4), dtype=float32, numpy=\n",
              "array([[1., 0., 0., 0.],\n",
              "       [0., 1., 1., 0.],\n",
              "       [0., 0., 0., 0.],\n",
              "       [0., 0., 0., 1.]], dtype=float32)>"
            ]
          },
          "metadata": {
            "tags": []
          },
          "execution_count": 257
        }
      ]
    },
    {
      "cell_type": "code",
      "metadata": {
        "colab": {
          "base_uri": "https://localhost:8080/"
        },
        "id": "QwB5uaT1ZxFQ",
        "outputId": "0c38f8f0-255e-429f-e555-60f1b497114b"
      },
      "source": [
        " #Specify custom values\n",
        "tf.one_hot(h,depth=4, on_value=\"X\", off_value=\"O\")"
      ],
      "execution_count": null,
      "outputs": [
        {
          "output_type": "execute_result",
          "data": {
            "text/plain": [
              "<tf.Tensor: shape=(4, 4), dtype=string, numpy=\n",
              "array([[b'X', b'O', b'O', b'O'],\n",
              "       [b'O', b'X', b'O', b'O'],\n",
              "       [b'O', b'O', b'X', b'O'],\n",
              "       [b'O', b'O', b'O', b'X']], dtype=object)>"
            ]
          },
          "metadata": {
            "tags": []
          },
          "execution_count": 255
        }
      ]
    },
    {
      "cell_type": "code",
      "metadata": {
        "colab": {
          "base_uri": "https://localhost:8080/"
        },
        "id": "oEEBR2SLaNQB",
        "outputId": "4c62fa29-261a-4134-a8b4-6090014c79fc"
      },
      "source": [
        "sales = tf.cast(sales, dtype=tf.float32)\n",
        "sales"
      ],
      "execution_count": null,
      "outputs": [
        {
          "output_type": "execute_result",
          "data": {
            "text/plain": [
              "<tf.Tensor: shape=(3, 4), dtype=float32, numpy=\n",
              "array([[13.,  9.,  7., 15.],\n",
              "       [ 8.,  7.,  4.,  6.],\n",
              "       [ 6.,  4.,  0.,  3.]], dtype=float32)>"
            ]
          },
          "metadata": {
            "tags": []
          },
          "execution_count": 262
        }
      ]
    },
    {
      "cell_type": "code",
      "metadata": {
        "colab": {
          "base_uri": "https://localhost:8080/"
        },
        "id": "EEELdlgEa-X7",
        "outputId": "e96f2b23-9b60-400a-bdc0-7c1369f0de0e"
      },
      "source": [
        "tf.sqrt(sales)"
      ],
      "execution_count": null,
      "outputs": [
        {
          "output_type": "execute_result",
          "data": {
            "text/plain": [
              "<tf.Tensor: shape=(3, 4), dtype=float32, numpy=\n",
              "array([[3.6055508, 2.9999998, 2.6457512, 3.8729832],\n",
              "       [2.8284268, 2.6457512, 1.9999999, 2.4494896],\n",
              "       [2.4494898, 2.       , 0.       , 1.7320508]], dtype=float32)>"
            ]
          },
          "metadata": {
            "tags": []
          },
          "execution_count": 261
        }
      ]
    },
    {
      "cell_type": "code",
      "metadata": {
        "colab": {
          "base_uri": "https://localhost:8080/"
        },
        "id": "6W5u7zD7bCqN",
        "outputId": "2ae17c36-7823-4eea-b1ba-359d4fe21418"
      },
      "source": [
        "tf.square(sales)"
      ],
      "execution_count": null,
      "outputs": [
        {
          "output_type": "execute_result",
          "data": {
            "text/plain": [
              "<tf.Tensor: shape=(3, 4), dtype=float32, numpy=\n",
              "array([[169.,  81.,  49., 225.],\n",
              "       [ 64.,  49.,  16.,  36.],\n",
              "       [ 36.,  16.,   0.,   9.]], dtype=float32)>"
            ]
          },
          "metadata": {
            "tags": []
          },
          "execution_count": 263
        }
      ]
    },
    {
      "cell_type": "code",
      "metadata": {
        "colab": {
          "base_uri": "https://localhost:8080/"
        },
        "id": "LrGQNiyPbTgJ",
        "outputId": "570c6edb-8d76-4e64-9779-7c2965357dd5"
      },
      "source": [
        "tf.math.log(sales)"
      ],
      "execution_count": null,
      "outputs": [
        {
          "output_type": "execute_result",
          "data": {
            "text/plain": [
              "<tf.Tensor: shape=(3, 4), dtype=float32, numpy=\n",
              "array([[2.5649493, 2.1972246, 1.9459102, 2.7080503],\n",
              "       [2.0794415, 1.9459102, 1.3862944, 1.7917595],\n",
              "       [1.7917595, 1.3862944,      -inf, 1.0986123]], dtype=float32)>"
            ]
          },
          "metadata": {
            "tags": []
          },
          "execution_count": 265
        }
      ]
    },
    {
      "cell_type": "markdown",
      "metadata": {
        "id": "QFqz6fS3celf"
      },
      "source": [
        "Numpy is the fundamental package for any type of numerical and scientific computing with Python\n",
        "\n",
        "Tensorflow is built upon tensors\n",
        "\n",
        "Numpy is built upon the numpy array\n",
        "\n",
        "\n",
        "We do this conversion when some functionability doesnt work with tensors but works with numpy, turning the tensor into the numpy array enables us to access it and vice a versa\n"
      ]
    },
    {
      "cell_type": "markdown",
      "metadata": {
        "id": "251MVKVRfbV8"
      },
      "source": [
        "Numpy arrays create a dtype of float64\n",
        "\n",
        "Tensor are of default type of float32 "
      ]
    },
    {
      "cell_type": "code",
      "metadata": {
        "colab": {
          "base_uri": "https://localhost:8080/"
        },
        "id": "pjGWXbB5bVJY",
        "outputId": "31dd79fb-e5e2-4280-e4f8-7774b0661fb0"
      },
      "source": [
        "  #Convert numpy array to tensor\n",
        " j = tf.constant(np.array([[2.,7.,9.]]))\n",
        " j\n"
      ],
      "execution_count": null,
      "outputs": [
        {
          "output_type": "execute_result",
          "data": {
            "text/plain": [
              "<tf.Tensor: shape=(1, 3), dtype=float64, numpy=array([[2., 7., 9.]])>"
            ]
          },
          "metadata": {
            "tags": []
          },
          "execution_count": 268
        }
      ]
    },
    {
      "cell_type": "code",
      "metadata": {
        "colab": {
          "base_uri": "https://localhost:8080/"
        },
        "id": "82JJq8XQbm9E",
        "outputId": "365ecbfa-941f-44d0-b631-f3241886a934"
      },
      "source": [
        "#Convert tensor to numpy array\n",
        "np.array(j), type(np.array(j))"
      ],
      "execution_count": null,
      "outputs": [
        {
          "output_type": "execute_result",
          "data": {
            "text/plain": [
              "(array([[2., 7., 9.]]), numpy.ndarray)"
            ]
          },
          "metadata": {
            "tags": []
          },
          "execution_count": 270
        }
      ]
    },
    {
      "cell_type": "code",
      "metadata": {
        "colab": {
          "base_uri": "https://localhost:8080/"
        },
        "id": "q7iXGp4jdVeM",
        "outputId": "5a6f86ba-b317-46dd-ca93-9dcc449a2e77"
      },
      "source": [
        "  j.numpy(), type(j.numpy())"
      ],
      "execution_count": null,
      "outputs": [
        {
          "output_type": "execute_result",
          "data": {
            "text/plain": [
              "(array([[2., 7., 9.]]), numpy.ndarray)"
            ]
          },
          "metadata": {
            "tags": []
          },
          "execution_count": 271
        }
      ]
    },
    {
      "cell_type": "code",
      "metadata": {
        "colab": {
          "base_uri": "https://localhost:8080/"
        },
        "id": "tYNKRiDKdlX_",
        "outputId": "1660b7d5-38b1-410e-c1af-1764c8d61f17"
      },
      "source": [
        "numpy_j = tf.constant(np.array([[2.,7.,9.]]))\n",
        "tensor_j = tf.constant([[2.,7.,9.]])\n",
        "numpy_j, tensor_j"
      ],
      "execution_count": null,
      "outputs": [
        {
          "output_type": "execute_result",
          "data": {
            "text/plain": [
              "(<tf.Tensor: shape=(1, 3), dtype=float64, numpy=array([[2., 7., 9.]])>,\n",
              " <tf.Tensor: shape=(1, 3), dtype=float32, numpy=array([[2., 7., 9.]], dtype=float32)>)"
            ]
          },
          "metadata": {
            "tags": []
          },
          "execution_count": 274
        }
      ]
    },
    {
      "cell_type": "markdown",
      "metadata": {
        "id": "75knux4Kg9mK"
      },
      "source": [
        "TPU (Tensor Processing Unit) is a AI acclerator application-specific integrated circuit developed by Google specifically for neural network, machine learning, particularly using google's own tensorflow software.\n",
        "\n",
        "\n",
        "GPUs and TPUs are much faster than CPUs"
      ]
    },
    {
      "cell_type": "code",
      "metadata": {
        "id": "Ca2dNb3Keg7c"
      },
      "source": [
        "import tensorflow as tf"
      ],
      "execution_count": null,
      "outputs": []
    },
    {
      "cell_type": "code",
      "metadata": {
        "colab": {
          "base_uri": "https://localhost:8080/"
        },
        "id": "N1Y14iF0hnnR",
        "outputId": "edaac031-267f-4f42-b771-970693a98085"
      },
      "source": [
        "tf.config.list_physical_devices()"
      ],
      "execution_count": null,
      "outputs": [
        {
          "output_type": "execute_result",
          "data": {
            "text/plain": [
              "[PhysicalDevice(name='/physical_device:CPU:0', device_type='CPU'),\n",
              " PhysicalDevice(name='/physical_device:GPU:0', device_type='GPU')]"
            ]
          },
          "metadata": {
            "tags": []
          },
          "execution_count": 2
        }
      ]
    },
    {
      "cell_type": "code",
      "metadata": {
        "colab": {
          "base_uri": "https://localhost:8080/"
        },
        "id": "lS1WQVcKiia9",
        "outputId": "3fbc39e0-00e5-4190-c743-947a11657c5f"
      },
      "source": [
        "#To check the type of GPU\n",
        "!nvidia-smi"
      ],
      "execution_count": null,
      "outputs": [
        {
          "output_type": "stream",
          "text": [
            "Wed Jun 16 16:02:16 2021       \n",
            "+-----------------------------------------------------------------------------+\n",
            "| NVIDIA-SMI 465.27       Driver Version: 460.32.03    CUDA Version: 11.2     |\n",
            "|-------------------------------+----------------------+----------------------+\n",
            "| GPU  Name        Persistence-M| Bus-Id        Disp.A | Volatile Uncorr. ECC |\n",
            "| Fan  Temp  Perf  Pwr:Usage/Cap|         Memory-Usage | GPU-Util  Compute M. |\n",
            "|                               |                      |               MIG M. |\n",
            "|===============================+======================+======================|\n",
            "|   0  Tesla T4            Off  | 00000000:00:04.0 Off |                    0 |\n",
            "| N/A   62C    P8    11W /  70W |      3MiB / 15109MiB |      0%      Default |\n",
            "|                               |                      |                  N/A |\n",
            "+-------------------------------+----------------------+----------------------+\n",
            "                                                                               \n",
            "+-----------------------------------------------------------------------------+\n",
            "| Processes:                                                                  |\n",
            "|  GPU   GI   CI        PID   Type   Process name                  GPU Memory |\n",
            "|        ID   ID                                                   Usage      |\n",
            "|=============================================================================|\n",
            "|  No running processes found                                                 |\n",
            "+-----------------------------------------------------------------------------+\n"
          ],
          "name": "stdout"
        }
      ]
    },
    {
      "cell_type": "markdown",
      "metadata": {
        "id": "6Em0XGu2jtvi"
      },
      "source": [
        "Since we're using colab, we will automatically have a CUDA-enabled GPU, Tensorflow will automatically use it whenever possible.\n"
      ]
    },
    {
      "cell_type": "code",
      "metadata": {
        "id": "Ed92-OFNkrFT"
      },
      "source": [
        ""
      ],
      "execution_count": null,
      "outputs": []
    }
  ]
}
